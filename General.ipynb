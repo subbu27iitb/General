{
  "cells": [
    {
      "cell_type": "markdown",
      "metadata": {
        "id": "view-in-github",
        "colab_type": "text"
      },
      "source": [
        "<a href=\"https://colab.research.google.com/github/subbu27iitb/General/blob/main/General.ipynb\" target=\"_parent\"><img src=\"https://colab.research.google.com/assets/colab-badge.svg\" alt=\"Open In Colab\"/></a>"
      ]
    },
    {
      "cell_type": "code",
      "execution_count": null,
      "metadata": {
        "colab": {
          "background_save": true,
          "base_uri": "https://localhost:8080/"
        },
        "id": "VneJZWDJmDsh",
        "outputId": "6717b687-2dc2-4766-c12a-85524a6266ab"
      },
      "outputs": [
        {
          "data": {
            "text/plain": [
              "[<matplotlib.lines.Line2D at 0x7fe80bb9e810>]"
            ]
          },
          "execution_count": 5,
          "metadata": {},
          "output_type": "execute_result"
        },
        {
          "data": {
            "image/png": "[encoded data removed]",
            "text/plain": [
              "<Figure size 432x288 with 1 Axes>"
            ]
          },
          "metadata": {},
          "output_type": "display_data"
        }
      ],
      "source": [
        "import numpy as np\n",
        "import matplotlib.pyplot as plt\n",
        "\n",
        "x=np.random.uniform(1,20,40)\n",
        "y= x**2\n",
        "plt.plot"
      ]
    },
    {
      "cell_type": "markdown",
      "source": [
        "**np.random.uniform() Vs np.arange() Vs np.linspace()**"
      ],
      "metadata": {
        "id": "JBoJDh7IT6b_"
      }
    },
    {
      "cell_type": "code",
      "source": [
        "import numpy as np\n",
        "np.random.seed(0)\n",
        "x=np.random.uniform(1,10,10)\n",
        "x.sort()\n",
        "print(x)\n",
        "print(\"*******************\")\n",
        "\n",
        "x1=np.arange(1,10,3)\n",
        "print(x1)\n",
        "print(\"*******************\")\n",
        "x2=np.linspace(1,10,20)\n",
        "print(x2)"
      ],
      "metadata": {
        "colab": {
          "base_uri": "https://localhost:8080/"
        },
        "id": "L2MDYj41SGUf",
        "outputId": "8213b722-98ca-49c3-8b2a-580ee42cd770"
      },
      "execution_count": 23,
      "outputs": [
        {
          "output_type": "stream",
          "name": "stdout",
          "text": [
            "[4.45097367 4.81289319 4.9382849  5.90394865 5.93932154 6.42487038\n",
            " 6.81304702 7.4367043  9.02595701 9.67296484]\n",
            "*******************\n",
            "[1 4 7]\n",
            "*******************\n",
            "[ 1.          1.47368421  1.94736842  2.42105263  2.89473684  3.36842105\n",
            "  3.84210526  4.31578947  4.78947368  5.26315789  5.73684211  6.21052632\n",
            "  6.68421053  7.15789474  7.63157895  8.10526316  8.57894737  9.05263158\n",
            "  9.52631579 10.        ]\n"
          ]
        }
      ]
    },
    {
      "cell_type": "code",
      "source": [
        "import numpy as np\n",
        "x1=np.arange(1,10,2)\n",
        "y1=2*x1\n",
        "st1 = np.row_stack([x1,y1])\n",
        "st2 = np.column_stack([x1,y1])\n",
        "print(x1)\n",
        "print(\"***********\")\n",
        "print(st1)\n",
        "print(\"***********\")\n",
        "print(st2)"
      ],
      "metadata": {
        "colab": {
          "base_uri": "https://localhost:8080/"
        },
        "id": "zxenfMqhUXOl",
        "outputId": "e7bb7a6c-c0c1-4251-fb1f-2e7b7c9d7070"
      },
      "execution_count": 32,
      "outputs": [
        {
          "output_type": "stream",
          "name": "stdout",
          "text": [
            "[1 3 5 7 9]\n",
            "***********\n",
            "[[ 1  3  5  7  9]\n",
            " [ 2  6 10 14 18]]\n",
            "***********\n",
            "[[ 1  2]\n",
            " [ 3  6]\n",
            " [ 5 10]\n",
            " [ 7 14]\n",
            " [ 9 18]]\n"
          ]
        }
      ]
    },
    {
      "cell_type": "markdown",
      "source": [
        "**np.column_stack() Vs np.row_stack()**"
      ],
      "metadata": {
        "id": "iiI5svv8V7YF"
      }
    },
    {
      "cell_type": "code",
      "source": [
        "x1=np.arange(1,10,2)\n",
        "y1=np.arange(1,10,2)\n",
        "st1 = np.row_stack([x1,y1])\n",
        "st2 = np.column_stack([x1,y1])\n",
        "print(st1)\n",
        "print(\"******\")\n",
        "print(st2)"
      ],
      "metadata": {
        "colab": {
          "base_uri": "https://localhost:8080/"
        },
        "id": "ZG3cypT9Va-v",
        "outputId": "92ce21ff-d11b-402d-ead6-6fcb2b137208"
      },
      "execution_count": 43,
      "outputs": [
        {
          "output_type": "stream",
          "name": "stdout",
          "text": [
            "[[1 3 5 7 9]\n",
            " [1 3 5 7 9]]\n",
            "******\n",
            "[[1 1]\n",
            " [3 3]\n",
            " [5 5]\n",
            " [7 7]\n",
            " [9 9]]\n"
          ]
        }
      ]
    },
    {
      "cell_type": "code",
      "source": [
        "import numpy as np\n",
        "x1=np.arange(1,10,2)\n",
        "y1=np.arange(1,10,2)\n",
        "st1 = np.row_stack([x1,y1])\n",
        "st2 = np.row_stack([x1,y1])\n",
        "st1*st2"
      ],
      "metadata": {
        "colab": {
          "base_uri": "https://localhost:8080/"
        },
        "id": "07b1kpR8WWGq",
        "outputId": "ca668be2-9166-4cf8-9f53-41589cc44d8b"
      },
      "execution_count": 46,
      "outputs": [
        {
          "output_type": "execute_result",
          "data": {
            "text/plain": [
              "array([[ 1,  9, 25, 49, 81],\n",
              "       [ 1,  9, 25, 49, 81]])"
            ]
          },
          "metadata": {},
          "execution_count": 46
        }
      ]
    },
    {
      "cell_type": "code",
      "source": [
        "np.random.normal([3,2])"
      ],
      "metadata": {
        "colab": {
          "base_uri": "https://localhost:8080/"
        },
        "id": "de4eH429a1VD",
        "outputId": "13dcdee0-6853-465a-e922-f0777fd34290"
      },
      "execution_count": 49,
      "outputs": [
        {
          "output_type": "execute_result",
          "data": {
            "text/plain": [
              "array([3.12167502, 2.44386323])"
            ]
          },
          "metadata": {},
          "execution_count": 49
        }
      ]
    },
    {
      "cell_type": "code",
      "source": [
        "x1=np.arange(1,10,2)\n",
        "y1=np.arange(1,10,2)\n",
        "\n",
        "st2 = np.column_stack([x1,y1])\n",
        "st2[:2]"
      ],
      "metadata": {
        "colab": {
          "base_uri": "https://localhost:8080/"
        },
        "id": "AMMzIGm7bO-4",
        "outputId": "e6022370-aa2f-49a0-cfa9-5520b49e84ee"
      },
      "execution_count": 51,
      "outputs": [
        {
          "output_type": "execute_result",
          "data": {
            "text/plain": [
              "array([[1, 1],\n",
              "       [3, 3]])"
            ]
          },
          "metadata": {},
          "execution_count": 51
        }
      ]
    },
    {
      "cell_type": "code",
      "source": [],
      "metadata": {
        "id": "dkl59RG4tE_w"
      },
      "execution_count": null,
      "outputs": []
    }
  ],
  "metadata": {
    "colab": {
      "provenance": [],
      "authorship_tag": "ABX9TyM+X9NNWpMudNrlNJYx7cXT",
      "include_colab_link": true
    },
    "kernelspec": {
      "display_name": "Python 3",
      "name": "python3"
    },
    "language_info": {
      "name": "python"
    }
  },
  "nbformat": 4,
  "nbformat_minor": 0
}