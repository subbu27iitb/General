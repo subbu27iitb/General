{
  "nbformat": 4,
  "nbformat_minor": 0,
  "metadata": {
    "colab": {
      "provenance": [],
      "authorship_tag": "ABX9TyNMMStWC2iROyx+g3xLNdZf",
      "include_colab_link": true
    },
    "kernelspec": {
      "name": "python3",
      "display_name": "Python 3"
    },
    "language_info": {
      "name": "python"
    }
  },
  "cells": [
    {
      "cell_type": "markdown",
      "metadata": {
        "id": "view-in-github",
        "colab_type": "text"
      },
      "source": [
        "<a href=\"https://colab.research.google.com/github/subbu27iitb/General/blob/main/Outlier_removal_RANSAC.ipynb\" target=\"_parent\"><img src=\"https://colab.research.google.com/assets/colab-badge.svg\" alt=\"Open In Colab\"/></a>"
      ]
    },
    {
      "cell_type": "markdown",
      "source": [
        "**1. Outlier removal by RANSAC**"
      ],
      "metadata": {
        "id": "3nI-Ak8fvkNv"
      }
    },
    {
      "cell_type": "markdown",
      "source": [
        "**Reference:**\n",
        "\n",
        "https://www.youtube.com/watch?v=QpbydcPdcGw"
      ],
      "metadata": {
        "id": "qm0aOxkEv2cW"
      }
    },
    {
      "cell_type": "code",
      "source": [
        "import numpy as np\n",
        "import pandas as pd"
      ],
      "metadata": {
        "id": "dax3hC0vvtZZ"
      },
      "execution_count": 72,
      "outputs": []
    },
    {
      "cell_type": "code",
      "execution_count": 73,
      "metadata": {
        "id": "OVmh3F0avOCp",
        "colab": {
          "base_uri": "https://localhost:8080/"
        },
        "outputId": "4e47b520-e730-44ec-c4fc-b7fc5f54d756"
      },
      "outputs": [
        {
          "output_type": "execute_result",
          "data": {
            "text/plain": [
              "<bound method NDFrame.head of      0.00632  18.00  2.310  0  0.5380  6.5750  65.20  4.0900  1  296.0  15.30  \\\n",
              "0    0.02731    0.0   7.07  0   0.469   6.421   78.9  4.9671  2  242.0   17.8   \n",
              "1    0.02729    0.0   7.07  0   0.469   7.185   61.1  4.9671  2  242.0   17.8   \n",
              "2    0.03237    0.0   2.18  0   0.458   6.998   45.8  6.0622  3  222.0   18.7   \n",
              "3    0.06905    0.0   2.18  0   0.458   7.147   54.2  6.0622  3  222.0   18.7   \n",
              "4    0.02985    0.0   2.18  0   0.458   6.430   58.7  6.0622  3  222.0   18.7   \n",
              "..       ...    ...    ... ..     ...     ...    ...     ... ..    ...    ...   \n",
              "500  0.06263    0.0  11.93  0   0.573   6.593   69.1  2.4786  1  273.0   21.0   \n",
              "501  0.04527    0.0  11.93  0   0.573   6.120   76.7  2.2875  1  273.0   21.0   \n",
              "502  0.06076    0.0  11.93  0   0.573   6.976   91.0  2.1675  1  273.0   21.0   \n",
              "503  0.10959    0.0  11.93  0   0.573   6.794   89.3  2.3889  1  273.0   21.0   \n",
              "504  0.04741    0.0  11.93  0   0.573   6.030   80.8  2.5050  1  273.0   21.0   \n",
              "\n",
              "     396.90  4.98  24.00  \n",
              "0    396.90  9.14   21.6  \n",
              "1    392.83  4.03   34.7  \n",
              "2    394.63  2.94   33.4  \n",
              "3    396.90  5.33   36.2  \n",
              "4    394.12  5.21   28.7  \n",
              "..      ...   ...    ...  \n",
              "500  391.99  9.67   22.4  \n",
              "501  396.90  9.08   20.6  \n",
              "502  396.90  5.64   23.9  \n",
              "503  393.45  6.48   22.0  \n",
              "504  396.90  7.88   11.9  \n",
              "\n",
              "[505 rows x 14 columns]>"
            ]
          },
          "metadata": {},
          "execution_count": 73
        }
      ],
      "source": [
        "df = pd.read_csv(\"https://archive.ics.uci.edu/ml/machine-learning-databases/housing/housing.data\",  sep='\\s+')\n",
        "df.head\n",
        "#df.columns"
      ]
    },
    {
      "cell_type": "code",
      "source": [
        "df.columns= ['CRIM', 'ZN', 'INDUS', 'CHAS', 'NOX', 'RM', 'AGE', 'DIS', 'RAD','TAX','PTRATIO', 'B', 'LSTAT', 'MEDV']\n",
        "df.head"
      ],
      "metadata": {
        "colab": {
          "base_uri": "https://localhost:8080/"
        },
        "id": "K7EcCoU-SiOm",
        "outputId": "fa13ea8b-afff-4294-a266-8d1b6cc961fb"
      },
      "execution_count": 74,
      "outputs": [
        {
          "output_type": "execute_result",
          "data": {
            "text/plain": [
              "<bound method NDFrame.head of         CRIM   ZN  INDUS  CHAS    NOX     RM   AGE     DIS  RAD    TAX  \\\n",
              "0    0.02731  0.0   7.07     0  0.469  6.421  78.9  4.9671    2  242.0   \n",
              "1    0.02729  0.0   7.07     0  0.469  7.185  61.1  4.9671    2  242.0   \n",
              "2    0.03237  0.0   2.18     0  0.458  6.998  45.8  6.0622    3  222.0   \n",
              "3    0.06905  0.0   2.18     0  0.458  7.147  54.2  6.0622    3  222.0   \n",
              "4    0.02985  0.0   2.18     0  0.458  6.430  58.7  6.0622    3  222.0   \n",
              "..       ...  ...    ...   ...    ...    ...   ...     ...  ...    ...   \n",
              "500  0.06263  0.0  11.93     0  0.573  6.593  69.1  2.4786    1  273.0   \n",
              "501  0.04527  0.0  11.93     0  0.573  6.120  76.7  2.2875    1  273.0   \n",
              "502  0.06076  0.0  11.93     0  0.573  6.976  91.0  2.1675    1  273.0   \n",
              "503  0.10959  0.0  11.93     0  0.573  6.794  89.3  2.3889    1  273.0   \n",
              "504  0.04741  0.0  11.93     0  0.573  6.030  80.8  2.5050    1  273.0   \n",
              "\n",
              "     PTRATIO       B  LSTAT  MEDV  \n",
              "0       17.8  396.90   9.14  21.6  \n",
              "1       17.8  392.83   4.03  34.7  \n",
              "2       18.7  394.63   2.94  33.4  \n",
              "3       18.7  396.90   5.33  36.2  \n",
              "4       18.7  394.12   5.21  28.7  \n",
              "..       ...     ...    ...   ...  \n",
              "500     21.0  391.99   9.67  22.4  \n",
              "501     21.0  396.90   9.08  20.6  \n",
              "502     21.0  396.90   5.64  23.9  \n",
              "503     21.0  393.45   6.48  22.0  \n",
              "504     21.0  396.90   7.88  11.9  \n",
              "\n",
              "[505 rows x 14 columns]>"
            ]
          },
          "metadata": {},
          "execution_count": 74
        }
      ]
    },
    {
      "cell_type": "code",
      "source": [
        "X=df[['RM']].values\n",
        "y=df['MEDV'].values"
      ],
      "metadata": {
        "id": "k--JqonJZp39"
      },
      "execution_count": 75,
      "outputs": []
    },
    {
      "cell_type": "code",
      "source": [
        "from sklearn import linear_model\n",
        "from sklearn.linear_model import RANSACRegressor\n",
        "ransac = RANSACRegressor(linear_model.LinearRegression(), max_trials=100, min_samples=50, loss=lambda x: np.sum(abs(x), axis=1), residual_threshold=5.0, random_state=0)\n",
        "ransac.fit(X, y)\n",
        "inliers=ransac.inlier_mask_\n",
        "outliers = np.logical_not(inliers)\n",
        "line_X = np.arange(3,10,1)\n",
        "line_Y = rasac.predict(line_X[:,np.newaxis])"
      ],
      "metadata": {
        "colab": {
          "base_uri": "https://localhost:8080/",
          "height": 375
        },
        "id": "YLoVGOFwa1q6",
        "outputId": "1bd655dd-16ea-4a8a-99bb-9bb7a7959f1b"
      },
      "execution_count": 79,
      "outputs": [
        {
          "output_type": "error",
          "ename": "TypeError",
          "evalue": "ignored",
          "traceback": [
            "\u001b[0;31m---------------------------------------------------------------------------\u001b[0m",
            "\u001b[0;31mTypeError\u001b[0m                                 Traceback (most recent call last)",
            "\u001b[0;32m<ipython-input-79-4ab129df4873>\u001b[0m in \u001b[0;36m<module>\u001b[0;34m\u001b[0m\n\u001b[1;32m      2\u001b[0m \u001b[0;32mfrom\u001b[0m \u001b[0msklearn\u001b[0m\u001b[0;34m.\u001b[0m\u001b[0mlinear_model\u001b[0m \u001b[0;32mimport\u001b[0m \u001b[0mRANSACRegressor\u001b[0m\u001b[0;34m\u001b[0m\u001b[0;34m\u001b[0m\u001b[0m\n\u001b[1;32m      3\u001b[0m \u001b[0mransac\u001b[0m \u001b[0;34m=\u001b[0m \u001b[0mRANSACRegressor\u001b[0m\u001b[0;34m(\u001b[0m\u001b[0mlinear_model\u001b[0m\u001b[0;34m.\u001b[0m\u001b[0mLinearRegression\u001b[0m\u001b[0;34m(\u001b[0m\u001b[0;34m)\u001b[0m\u001b[0;34m,\u001b[0m \u001b[0mmax_trials\u001b[0m\u001b[0;34m=\u001b[0m\u001b[0;36m100\u001b[0m\u001b[0;34m,\u001b[0m \u001b[0mmin_samples\u001b[0m\u001b[0;34m=\u001b[0m\u001b[0;36m50\u001b[0m\u001b[0;34m,\u001b[0m \u001b[0mloss\u001b[0m\u001b[0;34m=\u001b[0m\u001b[0;32mlambda\u001b[0m \u001b[0mx\u001b[0m\u001b[0;34m:\u001b[0m \u001b[0mnp\u001b[0m\u001b[0;34m.\u001b[0m\u001b[0msum\u001b[0m\u001b[0;34m(\u001b[0m\u001b[0mabs\u001b[0m\u001b[0;34m(\u001b[0m\u001b[0mx\u001b[0m\u001b[0;34m)\u001b[0m\u001b[0;34m,\u001b[0m \u001b[0maxis\u001b[0m\u001b[0;34m=\u001b[0m\u001b[0;36m1\u001b[0m\u001b[0;34m)\u001b[0m\u001b[0;34m,\u001b[0m \u001b[0mresidual_threshold\u001b[0m\u001b[0;34m=\u001b[0m\u001b[0;36m5.0\u001b[0m\u001b[0;34m,\u001b[0m \u001b[0mrandom_state\u001b[0m\u001b[0;34m=\u001b[0m\u001b[0;36m0\u001b[0m\u001b[0;34m)\u001b[0m\u001b[0;34m\u001b[0m\u001b[0;34m\u001b[0m\u001b[0m\n\u001b[0;32m----> 4\u001b[0;31m \u001b[0mransac\u001b[0m\u001b[0;34m.\u001b[0m\u001b[0mfit\u001b[0m\u001b[0;34m(\u001b[0m\u001b[0mX\u001b[0m\u001b[0;34m,\u001b[0m \u001b[0my\u001b[0m\u001b[0;34m)\u001b[0m\u001b[0;34m\u001b[0m\u001b[0;34m\u001b[0m\u001b[0m\n\u001b[0m\u001b[1;32m      5\u001b[0m \u001b[0minliers\u001b[0m\u001b[0;34m=\u001b[0m\u001b[0mransac\u001b[0m\u001b[0;34m.\u001b[0m\u001b[0minlier_mask_\u001b[0m\u001b[0;34m\u001b[0m\u001b[0;34m\u001b[0m\u001b[0m\n\u001b[1;32m      6\u001b[0m \u001b[0moutliers\u001b[0m \u001b[0;34m=\u001b[0m \u001b[0mnp\u001b[0m\u001b[0;34m.\u001b[0m\u001b[0mlogical_not\u001b[0m\u001b[0;34m(\u001b[0m\u001b[0minliers\u001b[0m\u001b[0;34m)\u001b[0m\u001b[0;34m\u001b[0m\u001b[0;34m\u001b[0m\u001b[0m\n",
            "\u001b[0;32m/usr/local/lib/python3.7/dist-packages/sklearn/linear_model/_ransac.py\u001b[0m in \u001b[0;36mfit\u001b[0;34m(self, X, y, sample_weight)\u001b[0m\n\u001b[1;32m    467\u001b[0m             \u001b[0;31m# residuals of all data for current random sample model\u001b[0m\u001b[0;34m\u001b[0m\u001b[0;34m\u001b[0m\u001b[0;34m\u001b[0m\u001b[0m\n\u001b[1;32m    468\u001b[0m             \u001b[0my_pred\u001b[0m \u001b[0;34m=\u001b[0m \u001b[0mbase_estimator\u001b[0m\u001b[0;34m.\u001b[0m\u001b[0mpredict\u001b[0m\u001b[0;34m(\u001b[0m\u001b[0mX\u001b[0m\u001b[0;34m)\u001b[0m\u001b[0;34m\u001b[0m\u001b[0;34m\u001b[0m\u001b[0m\n\u001b[0;32m--> 469\u001b[0;31m             \u001b[0mresiduals_subset\u001b[0m \u001b[0;34m=\u001b[0m \u001b[0mloss_function\u001b[0m\u001b[0;34m(\u001b[0m\u001b[0my\u001b[0m\u001b[0;34m,\u001b[0m \u001b[0my_pred\u001b[0m\u001b[0;34m)\u001b[0m\u001b[0;34m\u001b[0m\u001b[0;34m\u001b[0m\u001b[0m\n\u001b[0m\u001b[1;32m    470\u001b[0m \u001b[0;34m\u001b[0m\u001b[0m\n\u001b[1;32m    471\u001b[0m             \u001b[0;31m# classify data into inliers and outliers\u001b[0m\u001b[0;34m\u001b[0m\u001b[0;34m\u001b[0m\u001b[0;34m\u001b[0m\u001b[0m\n",
            "\u001b[0;31mTypeError\u001b[0m: <lambda>() takes 1 positional argument but 2 were given"
          ]
        }
      ]
    },
    {
      "cell_type": "markdown",
      "source": [
        "**Reference 2:**\n",
        "\n",
        "https://www.youtube.com/watch?v=6lEPn1WkjVg"
      ],
      "metadata": {
        "id": "hVqAlRysw42Y"
      }
    },
    {
      "cell_type": "markdown",
      "source": [
        "Steps:\n",
        "\n",
        "![image.png](data:image/png;base64,iVBORw0KGgoAAAANSUhEUgAAAVcAAAB3CAYAAAC36gOaAAAgAElEQVR4nOydd5xU1fXAv6/MbN+FXXaBpYOiIgIKSC8ioIgFGyACFkwkGntJ7MZoTKJGMCr2+NPYFbGLilQVEBUFRUDKLn2B7WXKe+/8/nhl3swOyy6aGBPO5zM7s+/dcm4799xzT1Gi0ajggIigqiqmaSJASjBIMohGo2iahmVZiAiKoqAoCiKCiFcciqLE/Xbfud/uezefW06yNIqigAiSUO6+wLKseuWrqhpXlx83y30eh7sg4ry3LDRN89qhqiqWZWGaZqweBFVRABUQFMX9VuL6JVYvXvn+Nsfjbjl4x/L5+8b9rapq3LvEcXDbYKdVUMSyK7cECzAUFUtR0RQVVXFa4Kbx4VdWVoaqqmRlZaFpWnxD9gP+fkscaz+OjRnfxtTlh/2Vua958WPzJB/3fZfb1PQHgkfiWmssLk1Nvy883PoPBI8DxT0RlwPFoyl5lGg0KomTXETYtWsXjz/+OGVlZdTU1JCWlka3bt04+eSTKSgoQNO0uApsUgSGYcSeqQoKCoKgoOAm2rx5M5qm0bp1a3RdjyMIiYQo2eD4iXmyDhQRb5GqqoJlxeeJvVMT8ohLR+IIsp8wJRI0/wZjf6tOT+D1kX/ix29Adnr/YMXeKV6a+I1MxTSNuPb4NyAX18QNy31ubxI2AcUSLNOgeMtWwha079gJXdPQVBXEskfO1w+GYTB+/HhycnKYOXMmOTk59Sa+vx3uZgb2hqGqqldO4sR00/vH+CAchF8y7JO4bt60ia5duyLAIYccSnV1NbU11XTu3Jknn3yKY3ofYy8SiC1+YhyUvcB9xFEsNF1HLGHiOROJRqM8+uij5OfnY5omliWYpomua3GESFUcAu1wlwAKEsdR2cRMiX07HG6MQNncmv3E/rbEcurwE027LEWxOUURCOgabmmGYcQRutgG42AlTp1i2eU4hB2nX9z+dbldRVGxTBNFcQijqqKqdjmmafmIJ079Jrqu22VZ4jQvtjHZnLfidIFdl4uvW6dgc6WKIqhaAIwI48adQZ1pMfe9dzEELNNCVQTF6WN3IwqFQkyYMIGcnBwefPBBsrOzMQ3D62cRsbl3p626rmOaJqZpxjYabwxi/ZLIsdoEWbwhTtxDG0N498d1JduYE+FA8jQGmlruQTz+Pbj81Hjo+8oQjUTIyshk0pQp/G3GTHRN5Z0353De+RcwZepU3nvvPdq3b2cXpiio7hHRAU3TiEYNFFWziY1Tp2kabN2yhbpQiGg06qVVFJsguYvSh629wAFBwTIsUOKP0n6OT1H8ogMFwzRJCQbqtVFDQwQMw+aoEAtFBFXTUZwNwusPh3jouo5hGAAEAoG4+l1UbWIqKAiqquMvyjRNZ/NRiEQMdM0WQ+iBePwUBXRdwzRdzjH2zCZGIIq7YcQPrhGNouvx5Xkco2l5hE11h0vVKCoupjZq2v2igKbboiGXsLp9m5qaymuvvUY0GiUQCNhp/BgoeHW7c8wVHbiiFwT0QPxccTcqt49iY5lc2vCvWnw/ltgky7OvY/FPiUdj8vyn4tGYcv8VuP8UeOwvj+4mqCfrBMQyCQaDBFMCaMC4M87kzuJiLr/qat5++10uueRixLKIRqLMnfs+CxcvZsfOnbRokcepp41j8JBh9oJTVUp27eLll16krLycPbt3U15ZyaxHHiE9LY309HTOPvssWrdujWWaVFVWMH/BApYuW86uHTvIa96ckaNPYMSo0ei6w7XhP267x2JnMTqcG2KhK8IHc+dSGwrRsUNHZs9+jfXr13PmGWdwwoknkpmVZXOJ2Bzx1i3FvPf+B4w+cQylZeW89OIL7C7ZSb9+/Zg8eTKpqanOxhHl+eefZ9GiRQAMHjyYCRPOIT09FSwVVPj4ow+pqKrm0K5defWVV9jwww8cP/J4zj57Amnp6VimvelUlpczf+FCFi1ezJ7dJeTkNGPMmJM4fuRoAgENywKc4/x3333H58u/YOSoUWzdtoWn//EUdXV1jBo1krPPPItgairhUIgPPvyQTz/9hJJdJWRlZTFq9GjGjh2L4XDkxcXFLJg3j+LizZSWlVJeHeJPf72fmppKClu34rRTTqFNYSGKAtu3b2f2a69RW1dLWmoah3btyrBhwwmmBJ0Oj3HPu3aV8MILz7N69WpSU1IYO3Yso0afAKqKpikYkQgL5i+msqqKww8/nLlz32fRooX069efSZMmUVjYxiPasXnbdK7kQDiZpuZpTPp/Bx6NyXMQj38/HvU4V1d+6nEsioopNuFRFYXjRx4PaKz48itMh+N46KEZzJwxgw6dOxEIBtmyZQvPP/8CEyZP4Z77/kZAgb179vL58s/ZsnULpXv3UlZVyeIlS1AUhTaFhQwdOpjCwjZousqTTz7BH/54Jz169iQ7I5Mf1q3lqaf/j4umX8Jtt91KSkADickYEQXFZghtQqQIIhaa3SM89sgsFixZSvsO7cnOzsCMRph8zkQmn3c+D8x6jNSghuqQ19XffMNll/2WC351MZ8uW46KRVBVmDt3Lr169aJfv35s2bKFK664grlz59KzZ080TeOVV17lw4/mM2vWLHKyMwCL5557jjfffod27dqRnZ0NYnHpJb/hww8+5Olnniegq4DK84//k1v/cAedOncht1kO69au5dlnn+PcKVO5+093k5mZimEKGvDxvHnce+8M3n73Xb5f+z3RSIhgMMBXX67giK5dOabvsTz99NP88c476dSxI82b5bBu3Toef+IJLr/iKm77wx2kBlRKy8p5/4O5bNtSRFl5GVXVId557110TaGgRS7Dhw+nrbNR11RXsWD+x5SUlPDZ0mWMHnMS/QcNJi0tFcNyNiYRNm7YxFnjx1NcvJl+/Y+lqqKCp//xFJdfdTV33XUXCgrBlBRefeUlPl64iGbNmxHQNGpra3j11dl88skSnn/+BdLS0kFsMYh7Skkmjz8IB+E/GkzTFPdjGIb92zBk7berJSs1KJdfcZWETBHTskREZMfWYklNz5LRJ50iVXV1IiLy3arV8s0XX4kfbrr5ZglmZcuC5V+IKSJiiUgkIuHqShk2eKD07ttHNhYVSV0kLDV1NRIO14hYYRErJKu+XiFLl30qoWjELswy5Ibf3yC5BYXyztyP7EeWJZaDk/MlYomYpohpiRiWKWKGRcw6OfPUUwSQG265TSqqK0VE5JbfXy8BTZUnn3lOasJRERtLWTjvQwEkt2Wh/P3Jp6V45y4pr6iQJYsXy7Zt20REZPz48ZKWliZvvPGGhEIhERF55plnJT2zmdxx558dXCJy/tRzBZDLr7hCamtrRUTk7zP+JoDM/PssERGprayU4k0bZPnnK8Tw9d+f//xXUQNp8tHHS0TEbpeIyBOPPiqAFLRsI08/85zsKS2T3Xt2y5dfLJfdO7aJmFH5dtUqWb58uUTCdV55d999t4Aic96ZKyIiUcMU04hKdVWp9OrVXQ7r3lNqDJGKupBUh0MSsSwxRSQajYplRMSKhqWybI/06tlDRhw/Skr2loolIpZYIpYpEgnJtAsuFFBl9uzZImJIbU2lTDt/qiiqKvMWLRYRESNULddceZkActU1V8vOXdtEJCKXX36pAPLxx/M8nKNRSwzDEsOw5+bBz8HPL+mjJ5MjKKrqXfjgXefYv1NTU1BUlarqak/OekT3IwH4euXXfPf9GjIy0p3bYY1V36xiaN9j7OyBAMGAiq5rpEiQtLQ0UgNBLF0Hy7DZTk2le4/eACz7fDnbtxSjK0IgGKCqppb1P2yA0cfXuxiyscOTRyoCKCo42gGFbTsy/eLpZGdkAXDDDTcw44GHePvtt7lwyiSqKsvIym7uHUnHjTuN31x4Hq50cNDgwQCsXbuWjz76iLFjx3LqqadiGAaWZTF69Gh6HXM08z7+mFtuuBYUwTJNWrZsybRp00hLSwPgwmkX8ue/3sc7773HZb+dTlpWFu2ysmjXEVZ+s4rNG9eDc2FmRevYvLkIGOTJblXN/jF16lTOmzLJG5kWeS3sHrBMunXvDsBXX65g65YiooZpawAgbNpcZI+xoqCqOhmZ2QQDAUxFJV0DQ0tBAQzT1iwIaIojg1YJpgRRNRVN11BVDQEsy0RXdbYUF/P2W29xyimnMm7cOEQs0tKzuPKqq5j95tu8+cabjBgyGC0lg9LSUgpaFjD9N7+hZUEhAGeedSYPPPAQmzdvtsfSua/TtPpy5YNwEH4JkFwsoDi3uYoj03RuwwHC4TCGYZDTrJl3qbN4wQKuufoa1m3aSKvC1rRonkt5WTmaotrqTV7pNpk2DdNTzbFB9W7oFYIsnP8RV1x9LcVbttKpfVuaZ2eyp7yaaCSSFFd3f/C+AXEILmJfkLQsKCArK9PLm5bdjLbt2rJnzx47mbOZhOrqABg6dCgKEBEI+m7fN27cSDgcZu7cufTu3ZtIJGKrOAl8v+4H+vbtS3VVJZk5zTGiUbKzs8ltnhurNy2dtu3aUlpayp7ScvJzm/HZ4gVc87ubWP3dGjp1aENOVgZVNXZbDSMmf1QUiEYjBANp9Op1NAAWIGLam4CigKrz2ZIlXH7VVRRt3kDbNoVkZGRRWVUDQMDRXXa1J8DW0jAMK9Z3gK6pqJo76q5mhaPHK4Kq2YIUVdUAi7LSvVRXV9OlS+c4OXhubi4FBfl2v0UipASDhEMhWrZsSWpqqoOBgVhCSmqQWqf/JU4b5CAchF8eJOVcXRBH91BTQCwLFJXNmzZhWRYF+fkEgC1bt3DZZZcjIsz94APyWxaQl53D7Fdf49obb/H0Q/0EWlEUVC2mGG+rItl0fvuWYi6//CosVObMeYtO7VojZoSFnyzjokuuIBwOJ2DZ0AJ0b50VTMuK1wKwDMSyiDgE29VQcAl+SkqKXYIloMVkfqFQCBFhyJAhnH/++d4tt2GamKKSm5dHZk4zuwp3A/HomK1ulJKSSll1LYqiUFW+l0svvZSKmhALFy4kRRc6dmzP3A8WcMYZp9e7obQsy75kdDQgxP3jNG331iIuueQ31EWizJ79Op06tiM1NZ0Fiz7hrLMmUFtbl9BrFpZYXv/b427Zmx2O2pvb0/ZAecYUrnKbu4GJCJFINA5f0zAxDEcVy1eWqqqOwQXezZWqKIjDtdv1xTaVg3AQfmmQVBULwLRsfU9N0wkA7rn0k08+xYzUcZRz9Fyx/HO+X/s9M2bOpF/fvl7+VgUFlO7egZp40+vofUbCkTjNBBe+X7uOb1av5pFHn2Do4AHe87QvvyFSWxOXVk1QmYoHiV0yKwqVFRXU1NTQLDMdgHBdHaVlZRzSvaeDlsNVu8YCCCqgJizszp07YxgGPXv25Oyzz26g+gi6rlNeXk445GwIioppRNm9u4RmeS1p0TyHD99/l3Xr13P9jbdwdM+jvOzNmzV3UU/4VuKIjQLOpmE/XLduPWvXrePmW2+ztTUcaNmyADDBMhMQVQgGUwjV2ipmGniE1bIcrlizp0lKSoqjYqaiuypWAIpOs+bN0XWdHTu2+zCD6ppqysrKaNWqlVOOgGN8EdM1jmkceG3EvZzcdxcfhIPwnwz7pE6KoqI4crWQCTt3lfDwzPu45nc3MGzE8UyaOBGAghb5pKSksuzz5bjL9tvVq7nm2mtB0W1F9LgadTKzsvjuu+8o3rIl7pWYFtmZWWiKxvJln1Nda3NBq1Z+wR133AFWhMyM9Hq4Jrs/tpXpY8fTzZvW88Lzz3vvH3p4FiV79jByxPEA6JrNCboyV81RBHU5b3cj6NmzJ6NGjeLuu+9m9uzZXppIJMqKr75m4ZJPPQzSMzLYtWsXjzzyiFfvC88/z5o1azj55JMAW0yQlZXNyq+/8VpTvHkj038z3cHHcOqPb7GqKo5IwE+cLHKaNUNVVL784guvZ777dhVXXH4FANnZWQk9FaBlq1aUlJTw/cZi72nUMOx6NN8UUYO2LFhs7jkGJu07dGD4ccN4/fXXWLZsqdfv/3jqKUr37mXsSScR0DSsaITU1DS7Xx222zRtgxPXoMDpvoNwEH7RkFTmCvZEr6yp4757/sILL71CpK4KiYYYPKAfsx56iMJW+QAMGjqEM886i3/84x9s2bYdPRggUlNLSloqiEFA1xJqEKZddBHzFi7ihNGjKchvRft27bj3r3+mZ68e9Onbh1//+lfMevQRirduIa95NsWbN5CblwfEZKJxODu6rfXB5ugUVSU1PYMnnnicN998nUgozLKlSxl/9njOv+B8LCA1zSba4rTfxds9uvqP5/fddx/RaJTJkyczYMAAcnNzWbduHVU1tVx55ZUMGzzQrlfRyM7OZs6c122CIxaLl3zCKSefzGW/vRSAwcOGM2HiOcz8+4OccOJJqIqFEQnTunVr1q79Hk1zTXTdxroWcCYqYCk4pwEBRaP7Mb25cNo0/v7QQxx33HEUFrZm48aNZGRmADbHngiTzj2X9z+Yz4D+/cjLa0bnTh15YOYDHH7ooViWyS03/55PPllCJBxh8+YiVny5kgH9+6GoKudMGM81V16OEkzj/vvv55vV3zJw0CBOHnsSO7Zv5/MVX3LZby9j1Eh7E1MDKR4htWX2CoFAEE3T0fVAvAGJT9Z9EA7CLw2022+//Xb3H78hga6ptMjNpUevo+nYsRN9eh/Dxb+6iJtuvpk2bdtjEw8736DBgyho2ZKdJbsQEU4ZO5arr7qKbt170KffsbRp3SomHFQUuh5yCAMGDCAzM4v8/Hy6HXE4ffv2JjcvF1SVIYOHkN+yFTu27yAlRWfMiSdwySWX0vnQw+nfvx/t27aJb0XsbsZHZMV798LzL6IoKjfffAu1dTXs2b2Ha6+6mquvuYb8vOZOckERE0VRadGiBUOGDaNFixYk0m1FUWjRogUnnngiWVlZhEIhFEWheW4u48dP5OSxY8lt3gwUlZdffpHauhC33XY7pmlQVVXFeVOm8Psbb6QgP9+p12LQoIG0aFHAzp070DSF40eO5Oqrr6FV67YMHTqU1q1bYhgmqmKLL9q0bcfAQYPIzc21ib8jmxTnHD14yGBaFxaye3cJqqpw3IgRXP+739G+Qyf69x9Iu7aFTg/ZlmTdjuhGnz7HkpWZRX5+Cw45pBN9+/Yht3ku0WiU4uJiFFWlQ8dO9B8wgMGDh9CmTRvatW1Lj5496NbNFmc0z81j1OjRqIpKXShEi7w8pk+/mOt+dz2pKbYWgmXYp5Fu3btzzDHHkJKS4l0mNm/enEGDBlNYWBg/vAeJ60H4BYIiCVrZDV0giGUCCuJ4TtofRA0TNA3FstAVBVQFy4ig6kFboObITMPhKMGg7vgWsDmXaNQkEGcmaZM5C8ByPUX5uBpPvpr4j8XJY09h9+69fDjvI7J9GgOGaaFrqlOm4ZjB2nhbigqqioptEurRb+eSLxKJJByNIRI1HHmk3a6JE85m7bofePudd2iTQDD89WOZxOxR48EycS6cQMSwVaDEUT9T7ba6TXaHUpymaw6Xa1oGqqp7916W2w7FvoxSFBVLlLgxNSwDDc3RGNm3bNu0DDRVQ0wDRdXrTR7XVBYcbltVENNyyLor09UABcOwVev8znzgIHE9CL9MSCIWqJ/I5d4UHwEwXcuchGOzn9PTnaO14sntbNt9l4K7xDGYErDty31HQl1PXNBO+aYVc8Ki+FlWP7L+/cLmogzTqHcBpmkqplOyqupeNbquYLnevCSesLpWQoFAoN6RVde0ODY3api2NkISqyJXJ9euU0V82gx+l3yqBqonGk/mAjImo3Tt9/3jgtM2UywU7I3EsgRFc9rnmLbF71GCrmpO2QoJOxf+lLYTGdPRjTad+yrNS+tuloZlojkycEXVfPjF5pSux05OB+Eg/NJhn9oCLngXOsRu5xVAS+Acvd8i9gL39GX9cjPFoyiu6g74CEEC25xM3qaq+/Ch6BJUP5111McKCgpiqlXEk4rk/CKoPq9MXhVKfVd6/jbYHq1iz/PyWtC6daWnz+n2p6ra3rBM00QLBsExiNCTujCs74KxITmkqihxbXTbrLiyAxQ01d0IY4pW7ni4vmNdbrkhk1Pbf63q3f7HXBs6Dl2UmBaD6nG/SjyN9sFB89aD8N8E9cQCjYd93iLZb5MQgP3kAGI+R+MuNvaLh0tYXWrosYRYlsXWrVupq6vj0K6H2XJLJ4XpSCZikoQYwfcT0H1Bci85sZvvoqIiwuEwXbp0qe+qMFHvtl45tqtBy5J6HHeis+l99YrlI/yCIKYtS7cv6u363XrUpCNjJXlWvyZ3M3Ud6qiqjuWIItyxsHH2+2tNXloyAntQLHAQfonwI4hrQxDz4P+vgHjCLQnf/p8KiavYVV9yDc88kUeDdTQdt3pcuQOG4xPWTbevOvz5/UOUyDkn28D8335Q3RfOBmOJhaqovq3ID40hrPuCWK+68+Dgrf9B+F+DxrKHTQS/nO5fUHriIvXvD8koJfGv3feJhChRK+DH4La//Ily0caU2ZjyG+p5V87rvlf9PhmaVNL+ILZt/acQ1IZPTQcBDvbRTw0NEFf3uL0farUP+LcuKsVHCBqYIYmyyJ8DXKPR/dl0/qcQpQOHePx/7vb80nvz3wEH++inhQbsRwXXEbL4HrlfjSVSP73UIbG8hEPtfmaIP3Wy3weOU7J2Jnnm03f6VxL6xKO+kvAuptshP0H7k9X+n7RULRATdy7HBB7ifUzAIKYtceBbsbtmxL9ympy//rMfA/trS+y92z8/NxPy3wDJOVdPKOlqRdpqqYoFqCBq4tJxB8fRqzRjMk3XyiY5JJcQKv6b5ST1iFhYlng275Zpm4PGjvf1Za3+0hIJTePAL/e0Zaeq48bP1mDQEsQLli+fz8OCYscDQ2Lewvwm9D8FSWqwnQ5n79cpUNy//mH4UZxmwuz4uXVWLQswAQ0TPdY0sXAt3kzccbDQsJwLRw3Xys/JQPLNXeLSCGCKha7ouIYabtpkS8HVyHH1fREL0xTntlVAMVFFQUE7gAniN99WSNRZFgQ7xBF2wEpV8xiAZFX5tUoOQsOQvIcU7IlHFJezUVVQdHsuWiKYcQH+4nd6TQPT8OYt9SekH9wd3j9xGyLG4nht8jVCU22iJXZgv3/Vrmvb+dtyxEAggKZpaJruEFbTh7lPe8GHuYWPuPj0gmMt+9dwDEl0GsBZ9N7CT1qxcoCf5PCzqVkpim2koejoim/SKzGcgzjz2nT4V7Gof6mXbISs2PwVm/tQUNEVHUOMGPeaMBe83z7tlBi+KpquYomPbCfe3zYanLFWtKTGICIWphG1FyygqQpaPLoexPwnx6scHoTkUI9zdfY3YvpJGnWRMBVllWAIzXKbEUgLerJDe8BsVfxoNMLGjUUgGod27YJpukZY9S9k3J3UfmbXKWL5ZpJ/kfonte3kuaammg0bNlFZWYWqKuTkNKNLl85xOqX7h6aI8AVNU4kaYUK1YQKBgB39VlVITQ2gOY5fPK+orrNxx+vzvoUG4vC2ybmFA75lT2ZqF7+qbafibq2J3Z0M2UaiYZomGzZsQNd1Onbs2OhLvqZAk/pFASIhakMGViCdtLQgmjvXLIO6cJiQgKoHSAsGwIr4MjaIBfbIKYAJikpF2V6Kt26lsF1bz7OZXZQ9pxXvoi/WDk3TCIfDrF+3jsqKcjRNIz0jh65HHInrmkNpSILXINinKxGDTZuKKS0txzRM2rRtS2Fha1CcEPOaDlGD775bgxJMoUunDp47TRf8wSZjzfpPEv/8h4EkBUvEDEu4pkyeeeYpGTR0iLRq3Ubatm4v3bv3lFvu+INU1FTH0oohIoaU7N4pxx03Qk4YPVbCYeetZYlpml5YlviPKZZliGVFfd9uyBXL9zF9z+x4J7t375LTTz9d2rVrJ4FAQA4//HDZuHFjspb8RGDXu2HDWpk27UIZNHiwDBg4UAYOHCAjRgyV+++/R/aUl3kYi1giliEipq+HYi1xW2NYlhhOSBVT6uNrWU1rwX7TW246QyzLj5HEd7mXvOn179mzR0466SQ566yz7DAxvpA8PwtYhjz3j0dl8IB+8tsrrpbqulj4oCUL50ufPsfIWZMmyWcrV9rPzbAY0ToRiUr8iMSPpCWGxM9PkffeeUsKC1vJS6+8ZBfln7dW/XUgYvfZzp07ZeLEidKlU0cpbNVSWrduIztLSp0yYmGImj6hbdwefHCmFBQUSIcOnaRdu44ya9Zj9lvLdOapSOnOHTJw4CA59YyzpKYuFiLIj2coFJK5c9+Xjz76sKmI/M/BPrZDBdQgz/3zn0y78EJycnK46qqr+O1vf0unTp2Y8/ociorccBwxjlLXdFoWFNCpU2fEEscfaEwvMxY5wN7FbeZKQ1F0FEX1Pna5riRSISb3cn9DXl4LrrnmGt555x0GDBjADz/8ELeLiojLNGL4wjUnbCy+tI073oTqQrzw0kt8vWoVR/fpTfuOHaiurOSqq67jomnT2FNWYfM7lmVzK45sVcNvDWbXZYktElEVmy/xS/cSwR9yel/4io+b85yUxydwRD72ZaUXccLlihIODCIS027YByTioSi2M+2WLVvSoUOHemPSGGjMeBiG4bmH3C8o8MWKL1jy2TIeeeQRvv3uO+e5xvvvv8+KFV/ywYcfUlJS4tWvafXl/uKc5Nx5qHgj6o4eVFVVUVZeRjjid+rutMU3/xOtF3Nzc7nuuut48skn6d+/PyUlJZ5j+P2NQcOgUlxcxE033UzLli35y1/+ws033cTw4cOJRg0bD2fNaapGYWEh7du388QU/jllO3pP4a67/sQ111xDbW3Nj8DrfwBE4rkd9/funduka+d20rt3T9m5uySOIq9as0b2lJc5GUyH24wH07CD6rnlGYYhkUgkLo1lmQn/R8U0I2IYYYlGw3HvokZ8Xj9MmzZNUlNTZdOmTfE4mIZYpimGUR8/ETv4nr/NDYON67erVkpqZrqcc0tLV8gAACAASURBVN5UH+IRmXDmOAHkif97xvfclESI+p5FTEMssSRqGvXSGYYh0aghhhHjduxnUYmEI2IY9csOh8P1nnl1+fveMiUasdMm9rOISKg25OFgmvXrcfvL/y5ZOjet+zFNwxtzwzDi0vjBPek0BE3jhA254jfTpFP7thJMz5Rb77hLRETWfLtKThg5QlJTgtLpsMPk9fffc9IncqxerfbbaNjh+uvDqy+/KC3y8+SZf9rzwHQ5ziTlueOV2JZbb7pRdD0oxVt3OjndE8Y+0EqCpn84Vn79paSkBuStt96KSxaNmjbnKsnmqSWmc+p0A+650LNnL+nTp2/9PNHk6+x/FXRILkPZW1pK8ZYtXDtpMi1b5BMOR6kqq6JFq1y6H354nBR09apV3H//36iqriU9PYvhw0cyefJkbGdIdnkrV37NnDmvIyJ89tlShg8fxjHHHMMjj8wiENC59tprGThwMIoCz/zfU2zcVMRRPXry5JOPU11dybF9+3PVVddQWFjoEyXaFwjiSTrjd3hVUWxvTShs2LCBhx56mHXr1gJwZLduXH311bRs1arJciPVsaWPdVqAKZOn8NJrc1i7dp2za0VACbK7ZBf3/O1+Vq76BrGEww49hN//7vcUtmmDrmoogK5qzH5jDo8++hh7dpcwoF8/xow5icWLlzB58mS6dz/Sk80tW7aMN998i4kTJ7Lk0yU8+cQTWKZFv379uPOuu8jLteN17dy5k/vvv59169ZhGAaHHnoov7v+elq2agWKih6wncAsXLiIJ598knBdGLEERVU499xzGTduHJqueVzkihUrePzxx9mxYweqohCJRDjv/POZ6DhNVxWVtWvXcscdf0TEolmzZgwYMICJEyei67YmhX0ysfv665UruefeeykqsgMmDh8+nOuuu46cnBxPC+Ppp59m9549HHVUD57757OsWvUNR3brxu9+fwM9evRwmYO4edsQ5Obm0vWoY/jyy69sHL7+hpraWk499VQ++/JLsjMdj2mWxWfLPmHGAzPZXbIXXQkwdNhwrrnmatLS0x3TbHsFvP32WzzxxOMUFxczaMBACgsL7RA2qi9SA7Bp4wYefOgh1q1dT10oxFFHHcW1115LmzZtcINtar7oDu4Bg7hSGgmKfeH/xBNPMG/eh2zfvo1oJMrlV1zOww8/gqKoXHnFFYwabfvY3bxpA3+87VaqKqvIyW/JoOHHec7wQdA1jY0bN/DnP/+Z8vJKiou3Uldbx9QpU6kL1ZGVlcWll15K7969m4bnfznYFpEJ5pUALfLzadW6kFmzHuH9D+aSEgzQolUs0J6tUGAvPNM0iEYilJeX88wz/8cz/3wW04rX8isq2sSdd97J4sWLCQR0br31Vq699lpatMhj7gdzue+++wAwInUsWriAP/zhDu74452kpqbRIi+PGTPuZ/r06ZSU7PHuirxGKLaKSVwoRBHbW5Me5NtvVzN61ChmzZpFNBolEonw13vu4bRx41i7dm2Tbjw1TbMvspzFHDVt/6TfrFoFQJu27ZwOCrJxw1pGjT6Be++7l3AoRCCg8+hjjzFy9Cg2bd7kYTvv44+YeM4kVq3+lkO6dOH779cwbdo0/vKXP7NpUyxaK8CaNd/xpz/dxTnnTOLhh2ehqCrpGRmsWbOG9etswr5+/XqGDBnCjBkz7JhfwIMPPsgJJ5zAjm3bEec4vXLll0yZMpXXXp1tH+d1lW1bt/LNN19jes5XFNauXcv48eN5+eWXsSyLjMxMduzcyerVq71+scTCMAwMI0ppaSmzZs1izpw5ziakeBeWIgbLl3/G5ClTeOONN2jbti0pKSncfffdTJ8+nWjU7s9IOMJnn33G9dddx623305tXR2tCvJ5/oUXueKKK7zAko3dGIPBIOFwiEnnTGRLcRFz3niTFV98QcuWrRg+fBjVVVVkOFEuFi9ezNnjx/PJp0vp1LETINxy6y1cffU1sfZaJu+//y7jx49n9bff0q3bkaxavZq///1BW/ribBAKKqtWrWTkqJHcf/8M6kIhNE1jxowZnHXWWWzYsMGbV35Q8N9HNqyFsS8wDIO6ujpCoTCWBRnpGRS2bk1GRgapaalYpj3vI5Ewuq5TVlbGE088wQsvvEg0GrWDUDoiA8OIYphR6upqQSASjVJVVe2UHzqoNZAMEllZ/xHl8UcfktRUXbJysmTIoCFy5aVXytz3YoJs05K4o280EpJBgwbLkGEjpSZk2e8dePmVlyQQ0D1BeG5unowZM0ZERG6//Wbp3v0I2bKlSKLhGjn3nLMFkD/99V4v/yOPPCyAzHzgIR+2dt0XTbtQ0lLTZNOmIn9DRMSUaF2VnDJ2jBzRrZuUlpd7r79fu1Y0XZcrrrxy//y9r661a1ZLdm5zGTziOFn46afy8cL58v47b0i/3kfLwGHD5ftNxU76iEydOEHaFLaVLdu2e6Vs3bFd2nboINdcf52IiOzauU369j1GCtu1kx2794iISG1NlQwYMFAAmf16/FHuoQcfFEDatusgcz/8yHu+d+8eqSwvEyMakVNOPlnatm0rO3bs8N4XFxdLXm6e3PXHP3rPrrzqCgkEArJw4cJYBYYpxZs3STgU8h49/LDd90uXLo3DZeeuXVLru/hwIRyqk1EjR8q4cadLOBIV/6nXsiIyZsxoCaYEZemyZd7ze+65RwB56qmn7N4Lh+Xiiy8WQP7+0MNeultuukFURZFXXnm1CaIBU2687ko5pFMHWfXtGjntjLPlpLEny4knjJYZ9/1VXnnpeQmmp8rKb1eLiCVjThgp+fkt5Pt162N9deXlAsiLL74gIiIV5Xtk+LAh0qFDe9m2fZuIiNRUV8qQQfa4vfDyy3Z3GmEZe9KJcmiXzrK7ZJdX3saNGyUjI0N+85vfOOlix+7bbrpBgnpAtmzd4WBvNfli0Q+LFi2UvLxcefLJJ+OeG4YrMrPnthWqlQEDBsiJp4yT2rDh1C0SiUbENGNipf7HDpSeRx1Tr56YaCjJzej/IKgJhJaYRqbFRb+ezltvvsXYMWPYvHkjMx6awQljRjH90ssorazCFfHj6HjW1NQQNaKggKY7zpedDc0yTTIy08nISAMgP7+A9u07AJCWnoaiquzZswc9mE51dTW5+S248pqrsbVWTaZdeCHNc1swf+GC+huEc9kTt3cq9qXDqlWrWL58OYMHD6akpITlK1awcPEiQuEwOc2b8dmypZ73qMaAaZrk5eWy5OP5TJ06hXGnncaJY08jEo3w2uzZHNbR5lw3fv0NH37wAX369KWmpoYvv17JgsWL2FRUREHLAt544w1qaqspKipi5cqVnH322bRqkef0RybTp//G7rcE1NLT7P67+OLpjHZCpwDk5uaRldOM77/9lsWLFjJw4EBqampZtmwZS5cuZcOGDRQWtuaDuR9QXloKQHZWFtFolBeef4Ef1q2nbG8paCrtOnSMcwSelWXH3XrmmWdYvfpbdpXYXGPLggLSHNU3C3GcqUOothYzaiAitq6mT4a0pWgzn332CSeNPYl+xx7r1TFu3DgKCgp45ZVX7DHFvpRrnteC088400t3zNE9SU9PZ9euXU0S5yiKRiQaJSszk9NOPYV333mbXTt3cu6kSezYto2UYJC01FTWfL+GhQsXM2nSVLoeeog3p37161+T1SyHd997D4CvvviSlV+t5IzTz6CwdSHhaJT0jCx+/etf2fg7LjBXfvUl8z+ex7BhwykrLWfZ0mUsXryYUChEdnY2CxcuBOL1XMVyjTt8xgc/4lIrHI5gGKbNdfrANn5RsUz7KFhXV0skEkHT9DhOWtVUBz+fYUySJWOnsS3h/jUa278sqK/nKq7SsX13PXLUiYwcdSJGOMyGdRu4+bbbefThB2nfoQM3Xn8tthKnAYqJEbWV7AWJKUB7c0I8d4LguvRzDBEscVzS4b1LS88gEjXRgyqqmJiWRXpGOnv37iViCkEtdlSyJ4ldRyLs3rWLcDjE7Dmv89XXK0lNTUXTdGpraigvL6dd23bU1tWSmZ7RqA4ToKaqml59+nDJpZdQVV7GO3Nms2lzEV+t/JoxI4YDUFZWiqqqzJs/n3PPnUxaWgqarlFbV8fWrds4rGtXNE2jvGwvRtSiVetCIgJBpw/sI6oddcAPkUiY9LRMOnXqDLhS5xiUOsflt99+m6KiIlJTU1FVlbq6OrZv385hh3b1bsInnXsu33+/nueff55ly5ZSkJ/PiONGMGXqebRq3cobj+HDhzNh/Hhee+015s37mI6duzBg4AAmTBhPly6dPf+0uqIAFpZpIpbhja8fotEwVVU1NG/ePO55Tk4OzZo1Y/v27U477ejABQUtCaakerfWAU1HVZX4wImNANctYk1NNceNGEHnQw5lxPEjadGqDTW1NQR0DRGTmupqakNhWuTnowBR0ySgabRq1YpgMJW9e/fa/VxaSl1tHfn5Bb6ZYUfIzczO8kalsrwcy7R4fc4cvl61itSUFDRdJxQKUVpaSp8+fWIh2B1QFSUusKdPn4PGKhz7yzQMw3lWX/wHMdGKaRqYpoVpGBhOu720tgoMoGIalpNO0DwH5/b72Do8qP/qEVdbO0c835+uqo4lBqqioqekcNhR3Xji8Sd4b948Pv54Pjdcf62j858oE1KSkDnFc7ANOG737DdxUT+xhfH2pYBrquioaTuywlhKC5sAudY09WtVEcQ0mXTOOYw64QQioRCWCMFAEEVVKGxdWC9cS0NgmiYVFRWcOOYkfnX+BQBMnjiBfgMGcP75F/DVyq8pzM1GSwmApjLu9FOYMnUK5WV77T7QNTRNIzc3j9SUNEzDIKBDZVUVpmmBE4EhIyMD0OqZGdpOuTVSUlIxqL/owuEwCgqnn346F1xwIbt3l6Drum1RpmoUtm5NpsOJHtb1cF544UXmvv8+n36ymIULF/C7G29g0eIlvPjSi2Q6IXHatm3LM88+y5IlS1i0eAmLFi/m9ltuZenSz3js0Udp16aNE2HCQkzT20DjLhgT1lp9J+hqnAGIOydck1DPQElcc+ymuUQ0TRMFqKsL0e2Iw/nww4/IcsKsB3SdSDiMZZhef2u6HbVB8fmC8FsmWWLGyd79gT2jUTe+hU0ow1GTaedOYtxp46isqPD8Feu6TqtWrUj0QZBM9cqZ6Y1ubxyxTlhfEFORBOL6VsRy7SDtZ+CYAQu29wWcE4nEO6NTwBdEqNF4/jeDR1xdIiZiTzDDNFFVUBUdvxlgRkYGgUDAueF0YkA5en8uBynYHS8APkMhW6cu+Y7mZzwt06CsrJw9paW0LcgFRaW2tpby8nK6dO5CQEtcmPbtdbJjYqcOncjMyCQlJYVTxpyUtO6IEzRvfw6sATTdDlESidhWPKFIiIJWbbjzzjuZcuF0nnz8CW753dXkFhQQSAliicno40fss7wO7duRkZHO92vWkOYLbfPpp58C0bjQOuAuAGeDcp8BilhgmhS2bk1qaiqpqakcv496zWgU04gSDKaiqjDmpBMZc9KJAFx2yW95cNZDfPfddxzb71jvFjsYDDJixAhGjLDLvPb633HfPX9lxRcraNemjc1dKbYtvKraG2m9yLXYob3z8rJZv35dHE579+6lqKiI0047DfBxWxIzjvZv4U3V8LAs02feCp07to/1h2miawEiUYO83Fzy85qxevU3tvaqc6Gzbt06SveWeSeGjh07kF/QgqLN8fre27fvIFxX6/2fl5tHZkYqmZmZjDw+JsZJBJexcf5zW+m998igmKDsK35G8jIVxworcaOWBHGYS4QVJRbRwk6o4A+xrGkqigJ6IHEM3DQHiSv4GB9xKKGi2NxlVWUFN914Iy+88BzFxcVUlZdTsmU7t952K+V7dzFs+DAvEF+oppqailKqqqoI1YWoqamlZPdudu8po7KyyqtM0zQ0NXbUcOeS5eyW9lHPJCMzk+ryMu764x+prKykqqKcm2+6Ccu0GJFIMKwIAwf2x7Rg5sz7WbN2LVu2bKWu2g4h3eWwIzjjzLN4/PEnmPXYY1RUVVFaUc6OXbt45PHHWLBooaf1sD/CCrHF5nJOqUGb2xpz4on07H4ksx78O7t27aR9l25MmHQOr7z8Ivfcdx+lFZVU1dSye+9enn3uOZZ8+ikARxzZnYkTJvL222/z0ONPUVS8mY8+eI9n/u8Z/8B4YBiGo6Fh+szNnR1MD9CtRw8mTZrEk08+yQMPPEBFRQWhcJiioiKe++dzLFm0CBEhGAyycNECFixYxK6dJVRVlFO6u4RNmzaRn5tPXq4t/1UUhRUrVvD+++9RuncvkajBntIydpWUkJOb6x3vLcskFKqjoqKc8vJyampqqHFEL+XllYTr7M0ov2Vrxo+fwOJFS3jksceoC4XYs3sPd911FxUVFZx77rkApKWl2RySaXNCHjesKnHipcaCZVmOo3IdM0FkGAqFycjIpKqyhg4dO3PmmeN46aUXeHn2bAyx2LK1iDvvvIv09DQmTBgPQO++xzJq1GieefZZPpw3D4AVny/j0UcfAfDmefdePZk8eTIzZ87kgQcfpLq6moqKCrZu3crTTz/N/PnzPZt9F4488kjCpsGsWQ+z9oeNbNxURNjRomiKQ514U3M8owT3nfu+qqqKUFUZ5eXlVFdXU1tjMzIle/dQXeMaCsQMeDp16sC3a1bx+uw5bNmyjT17SqmrCxEjrAdFAkC8tkDMHNWQ0tI9MmTIIEnPSJUjuh0mfXodLd0OOUxAkSnnXSRbd9iGBaYRlT/cepP07tldBg3sL5oekMxmeTJ05BjpfexAufvuv4iIyGuvvSItWjSXFSuWi4hIjx695Ne/vlhERO65927p2eso+eGHtSJiyQVTzpFAWrr0HjRM+vTrL/36HiMZ6any28uukMqaOglHTTFMV/nZkKqKEpkwfpxkZWdIx86dZcCAwbL8s8+9dpXuKpHTTh8nmTk50rdfP+l9bF/peXQvUQO63D9zpt2O/Zpo2jehq775SjKyMmXCpEn+nhMRkVkPPyqgykMP2xoNpeV7ZMKkCZLdrJn07ttP+g8cLL16HyMpaWky88EHvdx7SrbLsONHip6eKZ27dJI+R/eQs848W4IpWfLKa2/HYfHoIw9LTnauzH49/rlnPGsasnvnThk3bpzk5ORIv2P7yZAhQ6RXr16Sk5UtTzz6mJfjT3+6S1q2ai3du/eQIYMGyiGdO0pWeqY8cP8DEg7Fbof/dv/fJC8vT3r16iWDBg+RrocdISmp6fLHu+6Kw+D3v79e+vU5RoYO7C85GenSulUrGTR0mAwZepzc85eY5se2bRvlpJNPkmBqqvTu3Vvat28vgUBAbrzxRjEcRfRoNCK/+tWvpFv3HrK7rMrL+/brr0hebnN5yKdBsH8w5YbrrpaO7drKF19+JYYVf4992003SMdOnWXh4k9ERGT92lXS99hjJLNZjgwaOli6dTtC0tIz5G6f9oqIKSu/WCGHdT1MMjIzpe+xx0rv3kfLEYd1lXYdOsgLr7zqpSzbu1vGnXG6BFNTpVevXtKnTx858sgjJSsrS+69914Jh8NimqaYpiFiRKVq7145f/IUSUvLlEMOO0L6Dx4i8xct8ur1m6PuC/zv3n//fWnWrJk88MAD9d5blsjNN98kPbt1lZHDBkowGJTm+a1l4NDh0ndgf7n3/hkSisYbGSyav1DatWkvzZrlSo8eR8uxxw6Q+fNdjZNEA+//XYgL82L/jLkoq6ioYMknS/jyiy+praohJ6sZ/QYMYvjI43AjO1umwUdz32fLli2IoqEFgih6gKrqWlSge7cjGDZsMJs2bWD58mWMGjWK3Nx8Xn/9TVq2zGfgwAGsX/89a77/nuHDhpGd3YwJZ57OqrUbmPPOe7z03LNU7NnJiONHccKYk9FUMDzRpHjHpNqaShZ/8hlff7OaghYFjBg2nPad2oMpoCrURcIsWLSQhfMXUFVdRds2bRkydAh9+vQhoAfsfblBrsDekSsrynjr3fdo07Ytw4cMdV7ZfVZRUc27771PixbNOG7EcHQtSCga4tNPPmP+vAVUVFaSX9CCYcOHMXDgIOcCyIaaUIhFSz7hhzXfctopY1n59XecftZ43nzrbcaeGDtObvrhB5Z9/hX9Bw6kbbs2tmMcsRzNDHFMGRWi0SgLFi5kwfz5VFRU0KljR4YOHUrvo49BDdjSoNraGj74YB6ff/45ZXtLyM1tzmmnnk7ffv0QEQzLJKDrlJeXs3TpUpZ/vpxtW7eTn9+SkaNGMnzYEMDmCk3L5KMPP2Dzxo0EdJ2UYBBFC1JWVY2KwtE9ezJw4LGgOA5OqmqY88ZbLP/sMzIzMxk9ejSDBw8mGAziBrr89LPP2FWylxNPGkta0OaathVt5NNlKzjyqKPodsQR3lxtWEwgrPrqS9b9sIEhw4+nRX5enIhh5YrlrN2wmcFDh9KmdSsA9uwt4bXX3+T7Nd+RmZ7B2JNPpl+/fk4eR6YqsHlTEbPfmMO69esYedxw+vTuzRcrv+GoHr3oekhnXLeGtaEQH3/8MUsWL6autpY2bdowYsQIunfv7sn8VZ/YzAhH+HjhIjZs2kwwGGD06JEUtm5pawwr9WWoDcGOHTtYtGgRPXv25LDDDrNb4ISxNy2LeR9+SNHGH9A0FS2YjmhB6uqqMYwIRx3Vk0EDB6GrCooSu6XevnUHn3z6KTt27iAtLZ0RI46jS5dO/PQONH+54BFX+0LL8mSmthLzvmU7lnMSbXr3xcfXsuv0TXUzwhlnnMFXq9fw/foNpKiJuV1ZrtheUhX/UcSHjeXL4Rwl9+eDsuE04iNeNoSjUXRdQ1MU+zJE030ouAg0pABugWnYQQgDKXFvrr32Op559nk+mjePHt0PJxI10FXsOuzme2OAuBcxirOYG1Y6Nw0DTdcaTIPYR31XVLKvxWyXFQuX3iBYJqh2uapa/xLR2+cVBfGNhQCWYTo307H+N83YBVSDxCYBt6glaKqCmBaKZaLapoRew8UyUNRAvWIscV2duj4N9r0+THHfCmJZiKruc/N25doijgvIJOMngGlEfNZfDfe1u+EkBrN057hhGLEgoI0ZO7DHT1FsGazawJw+QKOH/zaIu9Cy1a9cZx0Nd47agGylvjjeD0rcOCb6mDQtIWpYhEMhjEiElFR7EYrnzEPBEgvE2QIUy95RURDX8YurWOmuVUcFJV4NTHwqJjGh/76h/k4S1HUvv6rty5FxYj+Jt3mJ04aFixZxy+1/oOfRR3PUkd1YvHARL738Ktdedz3dDrc5jYCuJ/SbPb/t6t3bXPuF66U12SiKY0abHLf45qoJl2lxyZ0+1VTVqVrZ/yL1nIu7+MbSCiCK755cjW+DjbN7slKd4hrJwSWk0dXYzX4yIuFaVyX2jRL3q+FLm9idq4Kium4J95HW78rP7oj62hWArgd8/zUMfu0FP7j/x0VXVvzt2d/47Y+jOuhE24UkkQgaueM0YlIfiGhbBI4++mhS0tI9//3eZYbrUUgUR/9Tsf0KJByTXK0EvyqzArbuoBIfidTL1yhkExZbIrXzCnI/qu+32z77gsZVClcVhY6dOtKzZw9Wf/M1ny9bSlZmFjNnzuDCC6eh6wqug7DE6Z+49O0mJBCsROwV5YDGxUG+foHiI6qJl8VJKrGTxPx/JY4R3v9K/HMlMcWBBz9U4n4kK8O3WfnzxSVtJBGRehn3g1xDaX8ubnBfW/VBaAgOMLT2v/BGUITyinLCoQgFLQs8LQZVVX2LOP52X3z4xDFXzndDrvyahFqScuLlfYnkLEkZrpaEV5h91DXMKCUlJdTW1NK8eR55eblYVswtoKfNoaoNtqUhDBLz7bdPEqme31zMbYQlrkd0+3+XyDZYQawn/Xf+yfhBb0n/pFPOKSwpp70/5P07SCMR+kVcoDcFyV9Eg352aDRx9cvD9jnt6hGapg+Ae1z3C/cbqqsxyP/7poFfgTpeFOClcLk/xeYy3XYoHkddfyvY/4VNPNQnsPFjkciD+KdA/bDlxGiJu6nFs37xkJi/AbRtPPcnRPrpxu/ATlKN6/umjFFTx7OhMn6KsiBx1h4knj8FHCDn2hho3ADFLWzcNdy0AGguMUkkZ8mPz/9KcInr/mqMTeXE7neJa0zv+AA2KBKJazw0mmA1aWYkaXcjKvnJcD0IPyEcJK4/BSSP/rofaNxu2bjB8ZsU4thU+xdbY+pyF2CycHJNw+bHQmNrSZAPJ0vhnFr/o6DB5jVFdn0Q/rPh4AD+FNAge7hP2V1SOVX91I2lDX6z2MS1mZT4JCk4kVP9eTge/2VW0/Ik2pf71dV+NkjWibKfDzS9C34B8C874B0Q/IgO/rHtaETViVU0lPy/cKp40CBxbaQEicTVJcSrEjelFO/yojGIJYgU3O+f7yh5ILXb6RMl2T83Xa0HiR3s/534+S+En3uj85n6ON8NCbMbWEA/ph2NpIKu/wuXDjSEkn/KuCLB/xZotGDTNG23f35w9U7tTo+dY90jetOsv2Pg146Kq4+YI49oNFpvokRNAwswrFjguqYyXg0xZI1LtS+K09hPspYn1v/joXHtrZ/HA09AnuSTQGQ9hnYfC2d/vfFTQkNtjBtnsV0nutAUn7/7r6mJJfkuEV23nok1uekAXHU7y9P3joV5N8yY1yv3vNRoTBVAEfuTyExJbH2qrsokjhWn+JaqJNYoIDF9n/hL6l82X1tf5uo/XztQvHkzm4qKUDSNli0L6NK5M7qmx3Zzh92MRqMsWvwJpqIy7LjhjdsknfrikiYREYiro+o8qwuFeO3VVyneXERuXi4dOnbk2AEDyM7KwnVp0jjhRWPBVc1vCA6EJMS1koY5k0ZwLb4Uidj66aG/lH21Skn44eZVExO4TXAKiobDfL78c0RRGDBwQINaHf9ufjBRNu+dlBLnIEKoroZPly4nxIGgSgAAIABJREFUJTWd/v37o+oHehb7cfJoP9dcW1vDe+++w7btO8jMbk7bdu0ZNHggOZkZ9S50cYxkLMPg4/kfE0xJ45i+x5KRnoaC41rUl16hsSg6+XzGDuJWpyh2eCXFJa22nUZszvksuByLR8uMsnDJJ6h6gH7H9iMY1EkuJPyFQVKPA06EBiMckXv/8lc5qtuR0qVLF+nUpbN06tJZpp53npR7IVNisdx37tguPXv1kj4DBkttE302eDEoLUvc+DB+dxGWZYlhWWI6ziBKy8rknIkT5agjjpQUTZdDOnWWDZs3eRjF/4j9ax7gx/Jyx+LWJ0sVV9kBQZJonFYD7/ZTSjIMG9fe+v3otrxe0/xRPUxL9u7eLQP795dTTj5ZotFoXATYnw2s2JfhxFO1El6b7i/LHt/SPbulR8+eMvbUcZIYbHf/bfHPlR+JuhP5V0Rkz+4SGX/mOOlxVHdB0aVjl8Nky/YdbkLvyxTbGZGIKdFQrXRoVyijRo6UUMRwWmmJKaaYYjlhZBo7ZU0RiYpYUS/Ek39ORU3H+ZMRlrfefFNeeW2OREzf6rBMETMa1zc7d2yTQ7seJmNOPlWq68K+GR6b77/EwDHJtQWc3e6uP93FbX/4A9MuuIDjR40iYkRZtnw5P6z/gS3btpGTk+Mn0zRrlsP06dOprIsSjVoEgipaY/UEG7ERKMSOHZmZmTz15FOkpqdxweSpvPTyS7ENtRF+WQ8UfCev/SP7U9fdyGIb6svGcu6NqsufyONchYz0DKZOmUpqenoja/v3gY2yUu9hzE+GAooKYpGWlsr5551HXn7L+uq7jZZdxtI11oS/Xgk+0+ycnByefOopMrObc9q4s5j7wUf12uI/YtvtUbj44unktshHURSipu3oR2vKGvHG2h5o07Js4xxNjZsHqurcH2hw/4wZ7C6t4IQxJ5GVFnAbE2NzneNCQUFLfvWri8jOaZ7E/8I+YjAkHL+kCfrI0JTxO3BITlzFdl78j6f+wfgzz+KJp57yXk2dMpWy8nLHUz4ggmlEqaysAEVj6tTz0FJTQQHTitlYG4ZBNBrFsizq6urIzMwkNSWF0j170QI6GTk5ntaAEQpjqQpqUKestBTLMMjMyiYtPR23N3VdJ+DYR2dkpNnOQxxQVTUpdQiFQlRWVWGHfm4e80ZEU+TDtqK/YRiEI2Ey0jOwLIvS0lIsS8jIyIz1jQPhcJjKykosyyI7O5s0Jw5WIpSXlxOqqyEzK4uMjCxq6sKkBFMI6O6yVzCNKOFIlPT0DEzTpLS0FBEhIyPDq9c9iNaFw1RVVWGJRXZWNulevKv4E31NTQ3V1dUIQlpaGlmZWQkLz+7M2rpaqqqqUCwhLSXFTheI9btlGlSUV6AoChdddBFaIOBFkU3SjdTU1lBZWYmmaeTk5JCSEu+8xvU/mpKSYvdNKERWVla9/m0MmEaUulCYlPQ0dE3DQnBt3aKRCGHDJC09DU0BMxqhproaAS699FICwSCmJT6CFQ+1tTVUVVUjopCamkpWVgaa51xAtaOjWpCWHou0YJom4XCYQCBAwOc4JhqNUl1d7fie1cjKyvKc04PtrD0zOxuA7OzseP8KDuEShwExTJNwbTXRSITf//73KJpOKGKg6wH8UXLC4TC1tbUJZuEqgUDQCYsUO/6bVvT/2Xvv+Cqq9H/8PTP33nTSKwmkQUih19B7ERDpoAIWBBQ7YNkVxbarImLXta26iqhgAwRRBEFF6dJ7CaEESEKSm+SWmXn//jgzc+8Nobi77mf39/o+vKL33jlzynPOec5znoqKivNw1bgQ5AhGVFQsFLsvR4KqqqitdkLzuqDYFNgcDpyvqIDmDYYEIjIiFJAVABqgelFRUQaNwN133wObTYGm+weZBgAdoARJllBZ7UR1ZRWCFBuiIiOhBDkCDhKXywVJkhAUFITy8nJ4PB6Eh1+4H/9jykmThbWubZr4O370GB2KjffedVe9LK9OkbHS43Hz1/U/cvCgfuxS2Ildu3XjE8/MY5XXuDwbGSHXrFnDCRMmcPLkyWzWrBlvuvlmvvvuuyzs2JFtWrfm8pUrrbpff+ll3jJ5Mt98522279CWjdNSeP1113Hbbzvr6QU57eabGR4SyoNHDgc+8ru6rV69miNHjmRyw4aMT0rkyNGjueW3bdbzy12ZTbGArourzLfffsMJE67j0qVf8aWXXmBGRmMmJiZy1KjRPHrUl4X2l19+4cSJE9moUSMmJiZy2LBh/NUv66kJb7zxBtu0ac342BheP34c3//HPzh89Bj++MsGa35I8tsVy3njjTfw22+/5dy5c9m4cWMmJCRw0qRJLD5ebNX30/r1vPb665ndtAlTUlM5YvQobti0iSSp+uFl0WefsXO3rkxKSWFqo0bs2bsXF322mF5Nta5gmtfLZcuWsf/gqxgZG8OGqals26YNF3zwYcAY9u3ZwwH9+rNvr94cPGgQn58/n263W9Sh+S57qqpyxYoV7Ne3H+Pj45mcnMybb76ZRUVFVhld1/nCCy9w5syZ/PDDD9mvbz/GxMSwb9++XLduHTVNC7iaX+6avmnDRg4cMIDfrvqOOkmvmbVY1/nwnx/ibdPvoGpUsXXzRo4ZOZx9e/fk0CFD+PyLL1nP6oo4li1bxt69ezMlJYXJyQ3Zo0cvvv/++/R4XDRXz5NPPslbp93G2lofLrZs2cJJkyZx+fLlVh8PHTrE6dOns2XLlkxNTWXz5s05depU7t+/34dD3XdVvn7CjQwJi2bxydO+geqkiepDhw5z+LCrObB/Xw7o14fznn2WXtUnOjBh6dKl7N27N3v06MH+/fuzf/8BHDx4CIcPH8lff91klfvtt62cfvs0NsvNZnRUBNPTUjltylTuP+Dbd3v27eX4caPZs3tnRsdEMygskl179mXf/gPZt28/Hjp4gOa+3btzG68ePJCdO3Vkj549OW/+C6yudftJwVTqqkqv283lK1awW+9ejImPY2ZaI946+RaeOHEiYI7nPvssZ8yYwY8//oT9+vdncnIyr7rqKv78888kxbrzz7L7R4sYlDlz5swxyLn4n0F0dV3Hd999h9Vr1iC1YUM0Tk+HzWG32HaaJwAJr9cNh8OB+PgEfP7FV3DWujFu/LVQJBmKJE7DDRs2YPbs2cjNzUW3bt3w/PPPY8eOHbj7rruwYeNGbNm6FZMmToSrphZvvP463n73XRw/XoxxY0ajc2FHLPhoIdau+xk9e/dHTHQD/3MIy5Z8hR07dmHa9NsQExUNayBGX1etWoWJEycCAG6bfhu6d+uOJUu+wldffomu3bsjMSHhCq7LIge9ZFyNVq36DnPnzsXGjRtx7tw5dOnSFR06tMeZM2fQrFkzpKen4+eff8aoUaNw/nwFpk+fjn79+mHdunV477330LdvXyQkiOR2H3zwAW666Sa0b9ced06fjorycjz/4kvYtOFXDBo6FHk5OTDdjpcvXYIXX34Za9euRVVVFXr16oWWLVvi/PnzaNK0CRo1aoTVa9Zg+PDh8Hq9mDp1Knr27IkVK1bgowUL0H/AQMTFxUEC8MO6tZg4cSIiI6Nw332z0LlzISqrquCscqJbt25QbEKxsG3LVlwzfDiCgkNw7z33YNDAAaitqYXb7UbXLp2tW4PmVSHJEpKSkrDkqyXwer0YNWqkFYHJ5Bi+WrIEEyZcD8Wm4IEHHkBmZibefvtt/PjjjxgyZIjFabz55pt4/fXXceLECfTo1RM9evbEwoUL8csvv2DIkCGIjIysPwhPPeCqqcHDjzwCl9uFEdcMF5yrJGHnjh244447kZzSEKNHjRAzrWtQbApiYmKwaPFnUGwOjB098oI6V61aheuvvx6hoaGYNXMWevToCV3XUVJyGn379oHNJm5G8+bNw48//Ywbb7wRoaEiw8LGjRvxzDPPIC8vD4WFhdB1HV988QVWrlyJESNG4Oqrr0ZeXh4++OADrFq1Cv369UdUVJTYeZJQK37+2ZfYs3cv7rzrdjQID/dbqT7X8JrqKjTJboK33noLkqxgzLhxUGQ5QDxRXV0DRVHQqFEjNGnSBE2bNsG3K7/D1q3bcO1116FRo1QAwGefLcYv69dj0KCBGDlqFHJz8/D5F19i6dKv0affAMRER6LW5YJEHWlpqTh46AjsjmCMGzsWzVs0R7OcHHTr0hmOIAcAHa6aakiSjKjoaCxe/DkUmx2jR4+GzaaAuoh8Jyk2rPh6OUaPHYuImGjcP3MWGjdMxd9eew2/7dqJvgP6I9y4Pb7zzjt46803cfLkSfTv1w9t27XD559/jvXr12Pw4MGIiIgIcBn+w/lXfyruz7mS5Iqvv2bj1FQCYGxMLPsPGshXX3+dZ8tKqeoaNV2zhNok6ayqYOcuXdm5Rx9Wq4GqlwULFlCSJK41IqonJydz5IgRJMlH58xhbl4ejxqcy/jRYwiAC43c7yS5bOkSQrLz8Sfn+tUq+nnr5MmMCAnjwcOH/B6JZ5Xnz7Nrly5s364dy8rLrcenz5QwNDycN02ebNVUH/fqE6Lr1DSv9W3Bgg8JgO3ateP+/fusel0uF10uF6ura9i7dx/m5eXzpKlwIFleXs60tDROnDSJJFlUVMTmzZuzbdu29Hp80f9HjxpFAFy8JDDjwLtvvkEAbNO2LQ8cOGD9Xl1dTWo6z5eVs3OXzmzZuhVLzp2znh86eoQxcbG8+557qBramXvvncGoqGiuXbfOKqeRrK51UdV162R/7ZVXCYCr1/5Af3DV1NDrdvtYJeOFmqpq9unVm8OHXUO3yxXwTq3LxU6dC5mQmMgDhw76xvXuuwTAl40MDV6vl1OnTiUALl3mw8ETTz5JRVH46Sef0uPxBLJglwDN6+V1469lSkoKi0+coEqdXlXl0089RUWSueKblf6lSZLOinJ26NCeo8eOt3Dhz7nOnj2bAPjTTz9Zb3q9GmtqqqmqbpIadc3DEcOHM6dpM549W2qVW7p0KePi4jh//nySpMfjodPpDODwSfLrr7+m3W7nG2+8afbA6t9119/IkPAYHr+Ac9Uv4Mpymzbl4MGD6fJ4AxRD9XH8ixYtYmhoGOfMeUxgQxPzUVVVQa+3NqDsl59/SUDik38R+9LjxxkOGjSQbdsXBqr0dI2ap9ZSGpLk+fIytm3bjsNHjmatW5QWHKZOV42T7du0ZWpaGo+f8Y3zjZdfIQA+/axoV/V6OWniRALgZ4sXW+VeeuFFAuCy5V8bY9F8OP6DWVdbHUIrFEGG0dqAQYOw4ptv8PXXX+PHn3/GL7/+ipXLV2DRok/x1ltvo2FKiogzakgsPW43NNULRbHDphgB9/wCk0RFRVmxK6Ojoy2FWFBQsEgzXVaGxmlp8HrcSE5KwfDho4yOedG3Xz/ExcVi65bNQpYrAyafrVM35Pa+4MomF7P9t+3Ys3sPevXpjZ9//hlujwd2uw2yosBms2HHjh1weTwIricDbF3DKjNCFSDB4xHywHHjxqNJk6ZWGVNuuG3bNuzcsRO5efnYu3cftmzZhFqXCyHBIQgLC8PmjRvhcXtw8sQJHDp0CDNnzjQCWAsYevXV+HTRZz7ja1P+b4xr0qRJyM7OtsqHGsqjffv2YtfOXWjVujV+27oVNbU1kCQZbrcbIcEh2LRxI86XlyE2Lg5JSQlwVlXi+fnzYbfbUdC8BcJDQxAaLMag6jpssoy4uDgAwPznnkOQw4HcZrmIioxEkJ/sWNd147Igo6bGCV0XAblZh5ssP3sWe3bsQu9+fZGdmWX93rdvX2RmZuLLL7/E9OnToWkaSCK5YUN07trVKtemeXOEh4Wi5GxJgKzyciDbbLj66qFYtmwpvl25EjfccANcmoa1P6xFfn4+Onfu4l8aAFDrcou070bKaVuddN7p6ekAgCeffBKzZs1CyxatEB0TBZstFJoucvNKEByYL/iuAJODMuX+puz1119/xVtvvYXy8nIoioKqqip4vV7U1tb4XjayG5BCqRQgH5dEMHLNq8OuiOzBmtcrHtDIYgA/fVKd+dm0aROmTJmKQYMG4YEHHoBuxF632WwID2+An35ai08+/RinT5VAhoySkrMAZLiNJJ++WMGAIsmQAXjcKkKCfKRGkhSfUksWAdclWYKqq6DEgHqqnTXYtm0rJtx0E1LjE6FSh02SMXjwYGTMe1Yk8pwhMK2qKvLy89GmfXurrfw8ka2itKxMtB0QVe6PNfXyBcsWoxaRyv1Y52Z5eWiWl4d7AZw9dw6vvPIKHp0zB6++8grmPvOM6KKuQ5KNENvUoUiA161BcYgo/aJqCQ6Hw0qPLcuydZ2UFdmKjg6IGKdBQSHQDctSUvQrNCQY5eWl0FQdikOGrqu+9Nus3yfMWVUBXVexeesWnDh1KiB7a1qjNLRu0xoejzuAuNaLbpo2keKDpmmQFQUJScnQxFoPIMbl5WUggOLjxZgzZw5IFZquQ9eJoOBgNMnKgsNuQ1VlJVy1tQiPiICm+zZwdFQUIEkWvsyKPR4PQkNDkdwwJaBv5vOKigo47HYUFR3DX558EqpBpEgiKrIBcpo2QViYIIp33nEHVI8HL770MkaPGQMSyC9ojodnz0aHDu0tu95h11yNp5/6K956+y3cMGkidAKJCYl48vEn0KNnD2s+AUDXVejUoOsavJoGzbRspAZJUuB1OuGqqkJCQmIAeoODRYbU0tJSALCS9jVoEAnVzCgoAZrHA1IXByp+j+UvMHr0SPz5z3/Cxx8vxA033IBffvkVGzdtxq233mql2TatUQCAkgydImuBP2GlEVho0qRJOH36NF5//XVMnDgRzion2rdvjwf+9CB69ewp6lPNbL0+F2caJ6a/okrTNPztb3/DrFmzUFhYiLy8PERFRaGoqCjgHUERxb5RJAnQNUj0V0+KdOSSIov4xRRrTtNo7COfBS51AtCtLBbHjx/DLZNvQWZmFt56+20EBdmtsJeaquIvf3kCc599Fm3bt0NuTg7ioqMFYZeE3blbA0AiyCaJeiUA0KFrKixSI8mgREFgDXyI+MyETh11Yufj1MmTkGQZ4YaoyGYUCAkJRYMGDXC+vBzUVGiaCo1EcFg4ZLsDZouKEQzdhz8/+IPNaC3iam5ASZLEAjNjpfr9Hh8Xh/tmzcTLL72Ibdu2iVQW1uknNP2ymXbXMNHQKSZP13UrnQUAi5sFjIjy8J3AmqZahNYfXC4Xgh0OK3yoLAcaO8gGIlUCNoNRcNjtUBQFkybdgFGjR0PTVMhGhltd15GYmIDQ0LBLm3LU4R7FZ4Oi+lmf6xZHDQQF2aEoMgZdNRh33XU7PJ4ayw3BJiuIahAJyDI0VeSpKi0rCzARqq6pAahdYC6jk4JY1eFWrI+SDE3TMHjQVZg5axZqa2vF5tA0eNwuxMXGIjhELNSg4CA8+OADGDVqFLb+tgNrf/oZr7z8Ms6UnMaK5cuRmBAPgLA7gnDPvXdj5KgR2LJ1G376eT1eeOEl3HrbdHy9fDnSG6f5TMMlodE2PZrkOrIth90ORZZRXVsbMC6Pxw23241wQ3Zocq6ywf2K8OISzLRA/hzS5cHYxIoNgwYOwPsffIhjRcX44Yd1qHJWY8jQoQK3uDCPWt3obP5rRFEU/OlPf8K4ceOwdcsW/PzTz3jllVdw7HgRvl21CmkpKZAdDsiSDEn2mVOZ8yFJEmoNPOzevRsvv/wyCgsLsXjxYoSGhsJut2PLli14//33rXIBOPN6IMmSzz7QpzGBAgU00tFYdgtGqhmLc7XGJ+F8RRkmT56MY0XHsGbNOkRFNjBugGLRnz55Ei8+/wLatmmD5Su+QbDdBkDChp9/wqIvvjKsGwLN3EjBLEjW/tAt+gJduPpIfvNIKzOINQyEhoRClmW4PW74g9frhaZpCA0NteSnipECR1YUKwGPv44I1qf/jLWAX5oXH4WXZRmqpqG2psYSApvgdFbD61UREhzi66NxmgQHBUGRFdhtChw2E82+BUW/FCOqqlpcmW4QOp9iAjh79iyKi08jOz0JkmzDuXOn4Ha70bhxY9hsgQs+KCgIpI6aanF18k+nnpGRjpDgYJwrPYf8Zs3qRYLHyCd02Txbss9oS1U1SJChaSLvmOwbKgAgKysTISEhOHPmDLKzMy9aZdOmTREeEYFNmzYFEIyNGzbAQoYfkIRa3+FDcYNo3LgRwsPDUX7+PBo3blx/o7rAvWIPAmQZTXKaoUlOM4wZMxpRkZF48vFHUVRUhMSEeKMdwm4PRlZWU2RlNcXoUWOQkJiEPz/wADZv2Yr0xmk+zy3JZohdJCiyZGxCAJJPHJTaKA379u+Di0CwMbzi4hM4evQoevQQnHCQw2Ec7PCzrxTrSDcIr/mr7+wjLqqmoG6YCk7ES6++jr/97XX8vP5XNGnaFO3atbGKaNShGCekKeKpS8glSSSANMUSmZmZyMzMxMhRo5Ca2hD3zpyJAwcPIC1F3C6CQ0JQXVOD6monYo1U5EeOHMHZs2et9Xb69GmcPHkSU6ZMCbAfX7NmDUjWKwIJCwuFpnpRU1MNIN43vdRBarAZecpsQYp1IDn8NoeqqrDbFaiqGw8++CDWr1+PJUu+RosW+RZuzb195MhhVFRWYPiIEQj2y/e2ZctmuF21CAoKMuzQAcW45kkSoKpeqKoXQLCVXgkw0iIZEBwcbDE3Qf4MkwwkJyWjQXgEDuw/4JfgBzh06CCOFxejW4/ugKxAgtcg3IE3WHOdaBccQH88BHCugI8IlpeVYcqUKWjSpAkGDhyI2NhYVFdX4+mnn0ZlZSUGDBhgJcPYv3cPys6dRUVlJYqKimAPDsGvGzaiproajdJSkZ2dDZJwuVxWyhav12sRCK/HA1VVLflTZGQk3J4aTJ9+O2Y/dB9kePDonMfgcbsxfPhwq/O6roG6hm7duuOFV17DjBkzMHnaNAQFBaNjh/aIj45CepMcTJk6FbMfmYPq6hpMmjRR2IC6XPjwgw8wcNAgXDt2HIALuZT6wY/7UN3QdB2aZpju+UFiYkPMmHEvbr/9dgAqpk27BTaHHS6XB4s+XYQ+vXphzNixyMjOwvTp0/HY44/j7nvvweC+/bBr5w588smnYtHUIa66rhvZVi8MsCgpMprk5OD22+/AffffB1mWMXnyZDgcDpw+fRprVq9G925dMGLECCh2Bz5b9AlKTp9GfkFzBIWGo+x8BT799FPEJSQiMTHRGuf333+Pbdu2oXnz5oiNi4fL7cbCjxYivEEksrKF3NTt8aK46ChKz55BWdk5HCs6hppaN9b+8CNkRUJqajLS0zMRFBODsePG4fGnnsJdd92J226ZgvNlpXjg/vtBEpMmTRIL025HTU0Namqqoev0EU5JgtvrgdvlxoVwiY1jEOl27dujZYvm+OtfnoQ9KAR/+vOffFy3DIASdu3ahaqqKpSVlaGkRMh2169fD13X0bBhQ6Snp8Nut2PJkiXYtGkTevXqhbCwMNRWV+PDDxcgLCIcGZm+A7Vly5b48KMFeO65+bhh4kRs2rQJr732GlRVtWTlGRkZSEpKwhNPPIFWrVohPj4e33//PV588UUAgQSe1EACvXr1xDvvvIU77rwD06ZOhaxI6NylE6KjYgFJw67d21F2thQ2mwNnz55B0JEQrP7hJ9jtdiQnJiAzMx2SBLz19tt4/bU3MHDQALhcLqxZsxayIqHGVY1OHTogKjIGeXl5yMjIwPz585GTm4vGjdKwYukSPDt3HgDAa3CWvnNQRlpaIyz9+hu89OKL6NatG1wuF7p164aQkBAQwM7t21FT5URlZSWOHz8OlTpWr/0BQUFBSIyNQ3Z2NoIbhGP67bfjkccexb33z8LNN9yI86fP4K477gR1HePGjhW7UlGgqho0rwrV67H4U6/BwPkzj/9xO1cyUBNaVVXFiRMnMjIyktHR0czMzGRsbCwTEhL43HPPWe94NZ333nM3m2RlMD83hxFhoQyPiGDbdh3YvEVLPvzwwyTJL774gmlpadxk2Fq2bduWd955J0ny2WefZfv2HXjAsOebNH4MY6LjOWzk9WyaW8DGjdMYGxvLF154iR63SlU1NKKGxlFXPXx49p8ZGRlFR0gYm+bmc9Vqn2a7traGDz38MFNSU9ksL5ct27RmVtMmTM/M5FfLlgbYdNYL/n6gupck+f57f2d4RBTffPt9etS62lnDyVIn//KXuUxLbcz8/Dy2adeGzfLzmJWdzS8++zzgjWm33sqk5CSmJSdxQK+enHLLFMpBwfx82dfW3JDkO2/8jfHJSfzk88/8Jy7AN9BVW8vZs2czOzubLVu2ZGFhITMyMpiT05TfrfzGeu3tN//GjEapzM7MYJu27Rgbn8jURun8+NPF9Kqq1eYHH77PjIzGzM7OZPsO7ZiYnMSE5GS+72fn6iV55913MSsrnS1a5DIyKpQpKclsXtCCeXn5fOyJR60O1lRV8a57ZzAiOoaZ2dmMjY1lbEwMFy5cSK9X4FfTNE6dOpWt27Xn6dJyC7/Ll3zFpOQEvvraqxefpnqe6KqHpg3ISy++QADMyG7K33bsshxVdZLnKyp42223saCggHl5eYyOjmZ0dDRbt27NtLQ0zps3z7KV/Pvf/86GDRsyLy+Pbdu0YWpKCpMSE/nW39+hW9esclXnK9ijV08CYEpKCjt16sRrrrmGnTt35gcffGD18ssvv2RycjIzMzPZunVrdurUiQ888ACjoqL40ksvWeU0XfTW4/bwvvseoN0eTEWxs02b1vxh7WprzHfceSubZGWwZUFzhoWEMSI8ivkFrZjdNI9PPf2sVd/MmfcQADMz01lQ0JzNC1qwaU4O81vkc9063z764L13mZAQx4zsDGZkpbN3rx68ddpUpqQ05J9nP2L0zbRp1njsyGEOGDCAERERzMzMZIsWLbhhg7Dbdns8vP/++5nRuDFbt2xJu8PO2Pg4FrRowdyJLycjAAAgAElEQVT8fD722GNWu9VOJ6fddhshS0xLb8z4mBjGRDQIsAogyUmTbmD3nr154tQZ67fVq76jI9jO9xYuqG9Z/KFwyUwEFRUV2Lt3L/bt24eKigqEhYUhLy8PnTp1ssq4PSq2bdmIMyWn4XA44HAEQVLsqKquhiRJaJTaEC1atMC5c+dw+PBh5ObmIsK4BkdGRqJJkyYoKSlBUVERCgryERISirEjrsHWHfuwbv0mLFv2OaorS1FY2Bnt2vm0gMKVkJYMrqamBvv2HcShQ0cQGRmJli1bICEhDv7ZQtdv2IDNmzahtrYWaWlpaNGyBbIysxB0Oa2zdTWlkR5axqmTJ7H/4DE0zWmG5MTYOpIcU2Ug2t2yZRu2bNmAsvJyJKekom2bNsjKyBDXTr9TdOOmjSg6dAhdCguxdeduXDN6ND7/8ktc1beP1YfSktPYdegQmubkID42FtR02BSl3lznmzZtwubNm+F2uxEXF4fmzQvQrGlTYUdI4Vm0Y/t27NqzF1XVtYiOjUO3rl2RldHYPHgBEJWVFdi3by/27NmLc6VliIqORvcePZGZkWklT3WrKnb8tg3FRUdhd9gR2aABJMmGsrIKqJqK9MxGaJGfLzKYEqhxebHupx+x47ffEBYagk4dO6JFy5ZQFMWSzR88eBBVzmrk5ufDZmisy86dwZ4D+5GenoGkxBQjAtOlp6+u2qus9Bw2btmGxKRkNMvJgd1us+bP7XJhx/bfUFJSApvNhrAw4Qnncrng8XiQmZmJFi1aABD7Y8+ePdixYwcqKyoQHxePrt26IjMrCyoIRfdxcoePHcX69etx6uQp9OvTBwmJiSgtLUVCQgLi4+OFuEdVceTIEaxcuRKyLKNjx45o2bIltm3bhvj4BKSnNwapAxIhGVLF2lo3du/eg0OHDiIuLhoFBXlISEiGBi82b9iIUydOQZIUREXFQNWIWrcbmqaicaNGaNmyAABw+PABHDp0GKqmQZFt8Ho1qJoXNoeCTu07IDYm1linEnbv2oHvf1iD2loXBvQfiMyMDBw8eBBRUVFo3LhxgGhNkiScO3dO4KeyEiEhIWjVqhUSEhKgaRq2bduG4uJi2O12IVaQJFRXV0PTNGRkZKCgoMDi2F0uF75fsxrbtm5DfGwsCjt2Qn5BPiRFAalD0zXs23cAHreKvLw8IZqSgbKyc9iy/TdkNc1B45RUgIZnns/w5w+DK0rzQkMmWjeVsVcTm8+uXPo67Z8jnX7ih/pA97gwftx4bNiyA3v2H0SwA1BVj2WQbfZW1CPSaou6LqbgMHW0koVPnbSsGNyqF4qswGbIgy4enNsnbKfmhSTbUFe1qWqATRHXNuFf4cOXadkQOFgdkGWcPnkSssOBBMPkCQAGDRyE33bvwQ9r16JJeiO/jvjh3zCVsqwYABgNBxBtf0Wi5eiraYBiC6jPVAQK7b5QSMiyqURSLhgD/f50nbBfNJe92aQHimKDiKbk05KbfTNFHqYvvf9caF4VEjTIdofVZzN6ncimfqnrHmGF3TOVr0YdqqGXVL2aofDxaZgvPg7twr3g8cBudwCSERZTApQ6O5cAVD9ZrQm6rgfoI2gokeuKqTRNBPKUZUCSLpZERIeqq1A1DcH2+t2sA/pEHXXT219Qo9ctZKR1128d0FQ1wA39ouWMq/rllJKXK2fGECF0IT+2+Sx+VK8OWaYl2yUADYY1k2kGJtWfWv3fBZfFhCkj9Zna6FYMALsigRAKBtmy4xML1y+wGBRFCTCF8N9A/qZZkiRBNvy4vV6vJfwW+drFZ0kydBN+C9vkYv03ne8xjcC9sqU5NAmrqmuw2+yAYQYiX2qRWZyrDskQsOoEvKrQ+jpsMkwzVWFmYmhGBf0MsMEFCZDC0UYnjhw9ivv/9CAUWUFibAxOnTyJA4eP4sGHZiOjcSOoulASiCoInYIA2szNZw7YYtCkAJMi3+L0I86KDRbRMZRNigRopkmmBGiqbimUZEkP8GLT4adxlgBJNpQJ1H0adxr5wCRAh2bhDdShU4YsX6j1t5QeklgnssH9i00rC3mjJNKNK5JiaTguJ0fTNR2yIgO6EVVAluDVfARZsSmiKvrMperWWXcN+xNDm90OSGLDQwIUyEb/xb7QKAiB3W6/wCzI3zLHSh9vHcr+nCAgywrqW+e6LuZSkkUZu2QqXyVQ1Q1LFQm6JMzahGbdxJsmytHgiM3pgw5NVWEz26RuHU4aNYCALMkWLvwJqz/+6h4e/gfTpQ5FRVEsxXfdw8xEiAjMrYt9DMGvAIDNLgucQLBXXhI2SRZ7XDLn2X/P1NuFfwnqJa7mgOsiyCSSunliSJKhJRcGzRJ8G8MCQ7OqKD7lTIChcT2nUpu2bRAVFw9SBWGHlSUVFzOp8E/057smapowTtZUHXa7byNA8plEWZzspZRZZjPCNsUal67qcNgvdvpKga8GMpNWdQCRlpaG1q1a4/DhQ3BW1yCiQSReePEFjB49WvQPxiZQVUCWhSG0MV5d1yDR2KB+Dcj1LV6z/2YgaEkK5I6ME12SJGg6YbPb4FVVw1ROFm3JtObD38xKdEfy44Ik/+kxrrE+TS6pw7xtmJyaSVSEQ4IRb9QfZ4ThlCAbwyAk5cp2hWwd0L61bR4iVvWkZc53uU1vMh0BNzH6Up+rFLcKYQQtCfM/nQGcUt3662vP/zcxV2JFkFLAvIobhnguQTJiqIrPkqKI9SJJkA1zQH8LLklSjPkIPJQFY+MAqBsETjFwJ+ZHMgK1+qwAfP2tOxazjP/BcTkwCXLduTDXi68d/zs+DVz4TDMBYR8rAnebYgETAX8c51qvWMC/43U510uB/6CtBiRf2uiLtWERcojrs9fjhWxzQLHbLNML1jGxuFQfACkAsYApHAg01AlcSFcKYoOKdpSAW7iPgJqafJMj8eMwGBhdycSDPzdftzXN8Eox3WU0mOLVS/tH112UpoPIFQgpreu+70Cj1Z7/M0HwzJeM+gOmWoJuEkmLtly8/cuJjQBAgy+i1ZXPnu/wrduGdZswS9SZm7q/X7QFk+s1Dp2A0n772H8N+M/RxcZ+KUJvrT3DokI2zAUJGgOTjIPKGgXMA0a8rwfgRBBBo8PGnF2Oy7y0SMbvtmv2oA6hvFR9/rTjYjcJfxFKoAjMKGccM0DdiFt+8AfQ2MvKXK9ksVtljfJ1S9bHCQd0wh+BoDAyluQAwufjbqy36rQRSDMC2vm3HlC+CTU5qPqe19dH8736FtdFZdAUS0ORZOia8ISjRaj++UHVfxvyI0C4cP35Q13ioRubub4+XRoj9fTtUsSknn78y0D/BJFXzlldtDqrpjpfzJvo79hTv6dVWoTw92LcqOEyeP9ne3s54vvPvn+lxBX4N5OAK4TLylx/D1IuVrL+q0LgIrC45Hq4tyvpi3VDquf6/e/F6uUq+9cWkf9BZHrU6Nb1zWyh7gb6/VB/L//5vl+qT/9O9P8hG+QCbvtfrO5iX/7Q3e2P/39/Q/9pwvTvhv+L/l+RtcDvgfqqq08sUPe5P+h1uN+LXdPqtnuxq8f/GtTH3V7qevSH9AG/j3P9f/D/4P8K/PfLxTjX/wsIYBFN/3/Ax0X5EzR/NtzUAF5MxlpXcG3a8fnXU59w2xQr1K3jYoTV/NWUDUuSX7CTKwKfzNP/PVVVL0nM/0i4pKLjf/jQ+GdB83N3/b+cl/8k+O818/+6rlvZPK7kffMd/+/iT/+ncKhpmlVffXuMOuu0w4D5+j19//8DBHCu/kTPPA1UVQNAPztVoO51/kqgXtMWADRMTQJPH59/d92+1TsI0REAwudfWCb42rhsDy9SiAQ0XRNG+v8F8K/Krn5XW/jv4Vz/k+P+bwEzzcsFtzpDOXQlyrU/DGcX2S9er9eiE2Y5Sb6w//5iP5pMkSz/03LR/1bO1cCEoUm3hOG+zgpvHrHNfB3//SggiarKKmECZJgNhUdEGLaagRrTi66JOtiXTFmZrqPSWQlIMho0iLCIghXi7TJadUjCTtDprILX4xayTsWGsIgGlu2rphkRqiTpjxeOX6QBCdKFz/7AztSnGvHTy/zbG78oQSBE7jNJJD/8Vw4734ow4d/Y/39jbTabDdQ1OJ3V0DQdwSEhCAoKMkyJLrQ0uKAvug5ndbXPGgBAeHj4v0R46tqbaqoKp9MJnbqVb8vQ2Fl7uKL8PCgBEQ0aGBkQ6tzKIFnmabrOK/S4uzj8Nx3CsmmuQdIXpUpX8f33q3DPPffgtddeg8fjBinsXPft24f7778Ps2fPxrFjxy6oUBDiC3meM2fO4NZpU1HYqRO6FHbGTTdPRtHx48ZTEyFiUmRZ2DhWOausBHsERSBdU6lDGmw0oWsa7pt1H6ZNu83og594gZplE0oYxu/WNx+cOnUKt912Kzp17IA+vXth4sSJOHW6xDp5TccJ/96aBxHrGe/vBx/eKNXDOeq0qJvfVcOidn73D9Tz9sVbNTTldd+oy5nKft99uK9D5an7f7ugncvBxTZGjdOJB+6/D0888SS8F0QD8xNboe4c13kAf+zo9ZW8MqiLLIqx+9tYBEyH8YEBc1N3ni5cR5KsYOeOHRh/7bX4/vvVAFAvgapPdFdaVoY777gdHdq1RefCTpg6dSqKiorFFF358ggAi5PWdfy4dh1GjhqFLl27olOnQrz33nuw2WyQjD1s7s0Z996Dp596Ch6vCKZ9wRxTR1VFBUrLzkPHP09Y/5P6iCsFv7DcPttQj9eDH39ah+effx6zZs3AiRMnYBqHf7RwAZ55Zi6efuYpHDi43yJ8Vi1S4LY0t1t4aCjGjBqJRx95GCEhwVi6bBnOni21ypkE0USS01mFe+69B1NvnQqX2wVN16BTh65rCFghkgRXbS1+27YNBw8dEoMyCZCuCSNunf77XpgNGVTKXJcxsTG48YYb8MjshxAXHY2vvvoKtW5P/VijsTGNSk2+WIfwcNIIeFTNTOhwkXVsPKH/BjdEG1pgHE4LQZqIdGz9Tt0isLp/OdDgWMwbh18PjD57vF6ougZIgKqp0HQtIFOrZd8MgLpmBFY2H9Li4AljYesX37W6FljvxQjtxeRxrtpq7N69C4ePHLWwItaLbhBJAb4jmlDNYNpGLiYTV15NtcifrmtXJAOE38hoHmiS/zP/eZQCX/Ijtn4uFyKimxXw27DhNoKA+2OnpOQ0li9fjuPFghG5lN24ycnqJEJCQzFmzGg8/PBDCA0JxvLlK1BZWWWFIL4Yi30p8m/CmZIzmDZtGtb8sBaDh16NoVdfg9Zt2hp6C9XCheb1YO/u3Th27FjAoei/BjRVxa3TpmH8tdfC7u/P8jvkrr/HMeE/CYYg1WTKDJc5iijiISEOyLKMVau+Q2ZmFtzuWnz37UrIMtCwYQqcNU7r2mwa5JtZCUS1vgGHh4di2EiRtmX9rxtw9MRpKLbA6P+6uRglQtM1HDp8COXl5QCE14UkycLDRFPFjNvsgKYhNLIBVq9eg4rqWugQ/uIyRAoMqCqgKGbwdmgQaZYVm/ADN3sYEhyMPn37AQBOnzyJ1T//Ako+ORABeHUNdlnxs4mSRAoQSLApNkMRZ4zFeNccWyCYhNVAvOVWKErbFSUw/bVmcEV+VzpV1aBAg2TzueIKZyVC2N8Kn2vQP/A5rEMSkp/bJQibrBhzIJQg/ldvWfJzV1SNINaK7BMRmFy9rsF0pVU1EcFflkQ4OH9nFH+jctXwADP/fAocw8OGOmITk7B8+Qq4NB12I52y2e+6uPVqKnQSwYY7pASI+LWqCthsUGx2wy9MgsfrhaJIhkvp5UGH6TpthPM3176uG/EIZOiqB7A5DD2A+abh1QaCunCXNmM00MjQoOsiFYssK1B1DQp1SIodkiwhKDSk3piyQP3+95IkISwsDIMGiyDgGzduQtGJEoMoX14nWh9ZE0tLvHzkyGHs2rMbTz8zF/fNmmmVETFEFAAyoAsR4jffrIAmSQgKCTZ8+835FQeBEhSEs2fPoPj0Wbg1wG54NJsHiL8N65XAfxORNdJyml/FprfZbfB4PEhJaYjc3FwsX74ct9wyBdu2bUN1dQ26dOkC2SaLUwrAym9XQlFs6NG9u7EpJZwsPoaff92MVm06IjujIUgdElVAVaGpXrE2zQVhzKYkAadOncaHCz6As7oaxcXFIHXMe+5ZKDYbQkNCMX7seBHgRJZw9tQJLPxoISorKpGWnokm+QUIi4pEsEOBDQqgq4AErF+3DnSEIiQiFJ989gkOHziAGydMRPfuPRES5gtuIRkRtNyuWoPQBHI1suEuC12Dx+3G6u9X4aslS6FJMvr2748hVw1BiLH5FUXCZQ9fk2DpOo4XFWHzlq3o1bcvTpWU4N1330VFRQV6de+BwYOusiL0e90efPX1cixfthShDgVXDxuGzt37wOYQKTnMyPLFJ4uw4MOPsHfPXvTu0w99evfD2rVrUVhYiIapKbDb7NCh4cDBg9ixYwd69OiFktMlePPNN+H1eNCnd28MGDAAYWFh1oL95uvlWLp0CdxuDwYNHoyrhl6NILticIU6ICuocVbhk8Wf4ZcNm6CpXuTnNsM111xj5ZsyxU+VlZX45ptvsGLFCpBEfn4+hg0bhuzsbMvNs7i4GJ8vWgR3bTWSUhsht2UrtGrR3E/u6/M90rwq3n3/Pfzw4zqEhYVh+PDh6N+nrxHgXBzYv/yyHm4A2dlZ+OqzT/Hj2nW46qqhGDRoMGJiYi4rj/TJmYHDBw9ix94DcHvc+HHN9+jbuxc6deqEZ597DuGR0bhl6jQkx8cZb+k4V1aKjz/+GD/9uA4x0dEYO24cCjsVQlFEuiLz0DtbWorXXnsVRw7ux7AhV0GlBEdQEGRbAFsHTdexYsUKLFu2DCQxaNAgXDVokIhxAOMgoBeQ7Jab7+/Twl9YdtnSJdi1cxd27twJAPjhh7VQbCJW8MiRw9Gpg4haV362BG+9+RYAIisrC1nNcpGdmwubw6egO3bsGJYtXYIzp07iyOFDOFVaiSf+8lcE2WQ0CAvBiBEjkJqa+l9FLH83kAyMV0qVpJezZt3N3NwcvvbaK8zNzeHOXdt5//2zOGHidZwx427m5uVwybIvSJKDhlzFwi5dqGq+fO7Ll3zBtLTGfH/BIqNuVcRCddfwjmnTGBmXxF+37hSt6uJP0zTu27eX/fv3Za/ePekItjM4zMGuPTqzd7+eHD7yGu7Zu9vsLI8c2MexI4aze6dCAmBh1x7WM03XSc1Dems4cew4pjbMZGGXnmzTsQMzs7PosNn4pwf/TJdKenXSq5m5XsknHnqANruNu48UWZkrVU2z0FRRXsbrrx3HiLAQtmhewGa5zRgUEsIbb57MqmqRHVPVAzPIBoIZfNWXg/6D9/7O1JRk3nX3XSxo2YJNmuWwabNmTGuUxq2bNot2S8s44boJDIuIZG5eHls1z2NSQhxvu/3OgNoPHtrP5i0LGBMbxW7durBjx47s2rU7HY4wfr1CxPvUqNGjufj8S/OZ1SSLN958E/MKCpid05SN0hszKzub64yssE6nkzfecAOjI6OYm5PD1i1bMT4unhMm3kCvZo5O47kzp9i/bx9GNGjAwi7d2H/AQLZs2ZKzZs1iba0va2hpaSmHDh1KRVHYvHlz9uzZk126dOHdd98dMI4dO3Zw/Ngx7NezB2VZ4tCRI1ntFfjSNZ2aplLTvCwuKuLwYddQlmW2bd+OmVlZjIqK4l//8ldfZaqL06ZOZkp6I/YZ1J+dOrdj40bJBMDp02+n2+2+YJbqzpg5TlLjpx8vYHhkJNsXdmbTpk0Z4rBx1PBhbNe2NYNCQjj9rnuoaWL1nDpxnP0G9GdQSDBbt2nF1NRkBgXZ+eqrLwe0cfjIQbZt355RMdHs1rWQHdoUsG3blgyLbMCFny60ynm9Ht5www2MjY1lixYtmJ2dzeDgYE6ZMsWKIauR1FSReXfGXdOZmJjEbdt2XDZZrm9V6tT8/pEan5s3l726d2N+s1wCYHpGFvsOGMTuvfpw0WJffOKjB/dzyID+7N+zByNCgjhu3FiWOato5k7WdZ2bNm3iyBHD2blDWzYIDSZkO7v2HsA+/QdyxIgR3Lljh+jPFWb3/W8EBH41iavG++67h81yc7hhwy/s07cXH3tsDlu1asG33nqDzz77NNMz0vjdqhUkyW59erJZi+asdvvSKC9Z9DHjYuP59nsfGb94Rd2eWt49fTrjkhtx/WYTgT7i6nRW8cSJ49y1eyd79OrBDoXtuO/gHh4pOsxjxUepaiKYMjWVnhony8+U8PC+fWySmc28Fq3EI5JezSDmmpsjhwwlAN405TYeKSpiaWkprx83jgoUfvTJF6z1kqrfJP714T8xKCSYu48et9KD60YqcbfbxVtvnUYAfOXVl1leXkav18u//vUpAhKfnjvPwuSVEVfx9JOFCwiASclJ/NNDD3HP/n3cf/AgP/roIx45JFKGT7nxJoaHhvGtd95lRWUlqbr4yOwHGRwWwZdeF6mXK8+Xc/z111EKsvPTxZ+wtraKa9d8z/TGjQmAS1esIUmq9NKt1vLFV54nACY3TOH9Dz7Ivfv388Chg/xo4ULu2ydSht93330EwOfmPccaZzU1r5cvv/gSbY4gzn/+RWtU7779JgHwb397gxVVTpacPcdvvvnGSqduwmuvvUYAfOQREWC5qKiI69at43fffUen02mVczqdPHv6NHdu3cL8/HwOGHo1y6trxBxrPqzeP2sWAXDuvHksr6xk0bFjHDNiJAFw9Zo1xvKr5Y03TCAA3jB1Mrdu38Dq6nL269eHAC7oY30z5vuk8pOPPiAA/nXuPB49eoQORWLXwo48c/oUJ0+dyiZ5BSwuPk6SvPlGkfL55VdfYU2Nk0VFR9m9exfGxETxp5/WGePxcMLE6wmAXy1dQldtFdd8u4xZWY0JCfxq2VckxQFwxx230+Fw8J133uG5c+fo9Xr51FNPiTmaLwLZi3UryNnMu6YzOSnlXyCugiaUnD7BU8XH+e7bb9Nus3P2w3N45NhxnjxdwhqXcTipXrqrnTxVdIzFhw+xeU5TjhgxnGXVTnroCyrvcrlYfLyIRw/uZeeO7diwUQYPnzjDvQePsKioyDrsVFWtp5f/G3AR4qpy9uwHmJ7eiLt37+QLLzzHBg3CGRcXw+LiIs6fP48pKYn84YfvSAriWtC2Das9bisn+DdffMakhCS+875JXEW9dNXw9mnTGJuUanGumqobmQXElJJkVXUVrxp6FXv360WNHqt/uq5S9bhI1TwHBbRt1YZ5zVtZLekkqXlJ3cMRQ4cyLjGNx06UWOWrzpUyKjySw0dfK97xW3WP//l+BgUHcX/RCYu4Uhefjh49zPjEBA4fNZIkWV0jNnvR0WNMSkphj9596fVLi35Z4qqLTApffrZYHAA33xRQ0sTn8SNHGBcVxVtunkxS5LknNZaeOc2CFq3ZrlMXkuSv639mVFwsJ02ZElDP8/PmEgA//VJkIvBSpUd18c133iAA3n7nHQE55zVjvGfPnmVoaCiHDx9uoEGj6hHz0aJVa3Yq7MLKigqS5LNP/5UAuKhOhPi68NBDDxEAX3zxxQuemeO1csuTdJ4vY8eOHTlg6FCeN28Gqm8+UlNS2KWwszEuge0je/czskED3njLLdSN+8e4saMYGR/L4jOnrLoXLPiAwcEhfPvtty/Z57rE9b133mJ8YhK//0EQ5dYtm3P8mFEkyfkvvMCMJk25d+8elpacYGJCLEeOHiUOfAN+/XU9w8JCeO2140iS69atYVJSAseOHxfQ7jPP/IVQZP5jwT9Ikju3b2VCQjzHjx8vcGMcRqdOnWJ0VBR79OhBtyqwoGuCQN17521MSW7I37bv+pc4VxMLK5cvZ2REA7748isB72qaKvacuWt0je1bt+LIUSN4rqqCHuriRlkHevfoxvSsJpfu2P8g1BNbQMiIFMVmJDCzo/+AAbjnnnvRv39/NGyYhrKyMgQHBcNmCOVlyIZGFj5zJcOeSLfkPIakTJYt+ZKpLTUNDISim5BkHV6v0NSbUeBDgmWhF6YOxWY3qjNikWpaYNAWUbtRsQhokZSUhNAQn3w1PCICUVFRKCkpEWPw9yaTjM7oms+FzXi+47ft0FQNv/66ASPHjBFKPFUDdR1hYWFwOp0oP38e8TFRVmzUS4IkQVLsKDPyqvfu3VuM25B5ma/v2LkTmqbj+9WrMe7a64XJi67C7Xbj2LGjyGkm8rNXVJRDkRU0bpRuvKkBUJCVnS2+GfnlhX2hjKqqKtgcNnTs2BGyIkOlDgmwFJXHjh6FJEnYunUrxowZI+SSug6vV8OuHTvRoUMHIwEdMHz4cLz3/j9w0003YdHiz1GQn4fmBQXo1rULomNiLCXGddddhxUrVuDee+/FmjVrUFBQgNatW6N79+6IiYnxzQN94Q9pmNb5YtSK/p05U4Lq2hpkZBk5q4ywfhGhYWiYnIKTp07Cq2lwKAqqa2rQMDkFDkPZRXrRoEEkQkND6s2ueinQdJHczwysHREeAYeR0DDIIcL0ybJIR19dXYP0jAwjLqqAzMwMJCYm4siRwwCAkpIzKCsrQ4sWLSAizoqQjOnpGQgLD4e7VuSo2r//AAAJGzduxIgRIwzbUqC2thZx8fFwuVxwuVywh4Vb+0wylIwBFh9XDH7WDiQgCeWkTkL1qvBqhE0xFWXGatV1QJagejwwwx4qkn94ykD7XK9fstKAlv/HnUfqEFdBjHQKNzuRBVZFs5xcfPzxx8jIEBtWVYXpTm2tC4BBQOrMm25Vp/vV7ZtgiTok65mhnqhDICX4xykVygv/YMGX9Qww7O0Iwu5wGEG3zceSkTXWPxGMCUI77h+ojUaQbE3X4VW9aNooDdnZWUbAaxFUOiMrGzm5uQgxFrxpanDp5WEeBYJ4mPnZLTwZpaqra6CTSNmf/eYAACAASURBVE1NQ2ZmJqhpkCgSFTbNLUDTnKYARIpqgHCYWVeNAyg4SBwsJs7NrLVerxdBQUEICQ2BqYHzX9A1tbUgiYYNG6J58+aoramx+nbfrFnIaZaDMKPPmU1ysHDhR1j4yWJs/W07nps/H+Wl5/Doo4/ioYcesurNycnBe++9h8WLF2PTpk2YP38+qqqqMGPGDDz99NNWDE//AO2kCDNoElehvBPrwu12I9g4OP0DhEuSBNXrFeZYBl2z2WwBFgmaptbrxl0f+AytRLv+7xA+QiAbG0LTdMs8yVoTBoj1aLPsPwnC41ERFhoKGcIz0mZTEBQUDJuiWDj3ejVUVlQiJycHTZo0sWLL6rqO9MaN0aJlS4uIW8YoMJVZ/wxxlfz+S6On5hqpG89DBowg2iCNiG6Shbx694GRbLE+x5D/ZcIKBBBXE/kSZEkQEZLQNWEUNGrUGKOciLSu6/SzERQBdIW5lECIR1XhdFbBbmk5jcmw2YTJjapCNw2L/SKx+/utqqoKXRXBoH1hfnWLCFhpVhQFEnzRtOrGbJRlGZWVlYHpqHUdzmon0sJCYYYgtoyhFBGt3O7nymdG0U9JSYamaejffwAeffjhepFq2rvaZFim6hc1JqHgek1O0ZcNwYifauAjPT0dqqpi1KiRuP2O2y9WG+ITElDtdOK46eAhiQPleHExAIhUJDBNXcwAybpxDolDQlJsFteQnp6OmpoaDB48GA8++OBFxkB43C44goKRV9ACjxWIHFOlZeW45+678PDDD+Oaa65B8+bNrbbz8vKQl5cHQORHuvHGGzFv3jyMHTsW7du3D9Dcy7JJbCUrrbppkx0WFo7g4GCcOnXKqhsQJlnnz59Hk/xcH25lGdQ12AyuVzLWq6YH3nwuBoFkRvJzTzUJiQBN0yzby+DgECiygjOnTwfUVVlRiXPnSpGRITjuiPAGiI2LQbExT2Zao9LSUqher5WuJD4hETa7DVdffTVmzpyJ+sBay+bhRMKrekDov3ucATUaTI6mG/a4JAL9Fc0NJ8wVbTYz0L3g5pX6OA3DzK++G97/OudqZLYwTyQTUeKkVFXVj4Ca1wNCM2wdTWP3+Ph4HDx4EJs3bYYEoLKqAgsWfwpnTfWFJ5JiQ2rDhigtPYNd27dbdVtG7wbhDAsLQ4OICOzbtw/nz1dA1TzweD2if+bVxLiO0uOBqvkCRKgwDPGN7w6HA4f27cIniz61uvGPD/6BE6dPolevXgGjA4Ck5CS4at34fvX30EB4PC6I6zXQvkMHtGnTBk899RRWrVmDKmcV3K5q1DgrsWv3bmzfudtqQzXPAV7CDMYQC3jNsZjcox+XBgCtWrdCfn4+Hn/8Maxf/wucTidqnNWoqa7B/gOHsGOXaDenWQ4KCzvhs8WLsHnzJgBEcdFRvPveewCAoGBxdRW+3KIt3eCwIAmCYdmRkoiPj8eQIUMwd+5crFy5Eqqqwu1yoba2Frv27MGOnTsN0zMbTp48gbNnz1iHWGxMNFJSUgLG5XK5cObMGZw4cQJerxeapiE4OBgNGzY00GFypr5AOpqmo7a2VpSvE/ynSZOm6Nq1G1Z+8w3W//KLtXf/8fFCnDh9ClcPGQq7zQFd9cBhd0DXVMOpwRfERNfUy5rN+blMwDICs+x1JUiybJnuKYoCr8cLl8uNzOwcdOzQAcuWLMGe3bus+l577W9wOp249tprxfy2aoXWrdtgwYcLUHxCENiysyX46KOPUF3lRHR0NACgR88e6Nq1K+bMmYO1a9daeHG5XNi+fTu2bdsmOH0A5pGelZ2FyooKbNmyxcAnLjpeKeDP9w+QLO5Zp0jDJOzaNYMrFeI34bNBQNPgcXvgdrvhcrksOnKhE4mEBg0aoLi4GGdLzxv9E/TlSh08/lvB5rsqmDIRw25Q1+FyuSxEmMnpqBMuVy2cTqfFZY4dOwbfrFyJ66+7Dr179cL5yvPYuHkTgsJChUeVBaL8uPHj8PHCTzDjnrvx7nt/R8O0FMycORNt2rSGmULEbg/C0CFDsOSrJRg6ZChymjZFTGwsZsyYgfT0TMiKHf94/12sWL4CcdEx2Lb9NxAKbrt7BpzOSnQr7Ihbbr4Z0DWx2e0hmD9/Prb+8hNkAO+88zb69u6HCRMmQoO5DAWP2X/gILTv0A533j4dn3z0ISLCwjBz5r3o0KEzABlzn3kGt0yZgjGjR+GaYVcjIS4Whw4dwm87duPGm29Bi4I84cLqJ724eHQDg2s3NoRqyUTrTJTDgefmz8dNN92I0aNGYujQoYgIj8CBgwexa89ePPTQn9E8Pw+RkXF4fv5z6N69J0aOHIn2bdvixMmTcNYImaK/zNXkxt1uN3Sa3Jsp3zQ5r2A8/vjjmDBhAm6++WYMGTIEoaGhKDp+HNt37sC0adPQvKAAis2Gb79dhccffxx9+vRGcnIyioqKsHDhQkyePNniUoOCgvD555/jlVdeQUFBAbKzs3Ho0CEsWrQIw4cPtzKrejwe/P3vf8dv27bBVevC4cOHcby4GHfdeQdUr4phw4bhmmuugd1ux6xZs7BlyxYMGzYM1113HcrKy/DpJ5+i/4ABGDVypDEJIt2Qs8ppHFpCrq6qKmpdtRberxS8qmpkKhXEvrq6Gm7Do8/lcqG2phoej/g+6777MOWWWzBk8GAMvXoYTp85g48XLsT48ddiwoRJAIDExCTcecedGD9+PK4eMhT9+vXF3j17sMs4rP1zzT355JOYMGECrr32WgwcOBBxcXE4duwYtm7diilTpqBVq1bGOyoURcLYsePwxpvv4NZpU/HRgo8QFhaGRx5+BK3btLzC0Rq8rMEJe1Uh69d1zbrxWF5SsoLXXn0VWzZvRlBQEA4fOYqTJSW48447UFtbiyFXDbYOFBNGjByJZctXoG+fXsjNzUVcbAzuvvtuZGdnB8Qz+F/jZJU5cx6eE9hf8aWy4jxiY+PQu3dvNGgQKZ5IhCQpcDqrEBUVgyFDhiA6OgZZWVnISM/AsSNHcOTwYXTt2hW3T78d4eHh6Nq1KxqlpQnPHwNRDaKi0KlTR0iyhNNnTiM2Jgbt2rczjIZFRCtd15Cbm4v8/HyUlZWhtrYWQcFB6NC+PeLi4gEAP/ywBv9fe18eX2V19P99nucu2fcVkhCSQFhDyMKWBUJCVlkCiIJU7Gtb2yoq6EtVqtWur7VWbd1rpVWrggrYsiMKKm6AVRFBJGxB9gRIILn3Psv8/jjnWe7NvTcBQe2vzucDSe59nnPmzJkzZ87MnJkvDx3CuY4ODBuWj8F5w9B6qhWKIiMlOQmjR40GBODZvz+H6PgE3Hzjjfjkow/x4bat+P73v4+Fd96F9Iw0M8CaV8KMjolDZVUlNJUtIJskoWRMCXr1TgOgIS2tN+rrauFydeLTTz9Fc3MzXG4PKisnYNasWUiIjzNuTOlngaAsQYSOjnMQBQETqquRyrU9Y0b4BGX0ycD4ykqcOXMGH3+8HYe+PAJFVVFbW4MrrrgckZFhAFQkJ/dGQ0MdTp8+DZfbgymNU1FTU4uXX3oJU6dNw6CBAwCwSxLt7e0IDQtFVWWVV7+Cpe+UlBTU1dWhs7MTW7ZswZEjR+CRPRg3rgKzrpqFOK5V2W02HD9+DIcOHcLOnTuN4/6CBQsQFhZmbNShoaFobW3Fvn370NTUhNbWVvzP//wP7rvvPoSGhhpa66ZNm/DFF1+AiJA3bBhyc3PhdrkhKzKSkpJQWFjI6JKRgYqKChw6dAg7duzAqZZWzJgxA//3u98hPj4eRBrcbjdOnT6NjPR0VE+oNopeygq77VdePhbZ2dnBpsgwAYA0uD0eOOx2jBkzBklJCTh54iTy8vJQWFiEs+1tiIqKwrixYxETE4ucfv1RVFyIL788jJ27PkfHuXOYOXMm7rnnbkREhBt95ObmYtiwYdixYwd27dyFQYMH4/rrr0dScjLGjBmD9PR0AEBSUhJqa2vR3t6OTz75BPv374fH40FtbS1mzpxpaLlM4IkID49AeXk5AAGnTrUiPDwcY0pK0KtXajCuDAgejweyLGPcuHHIys42BKvAk65senMTmpqa0NHZgaHD8pCTk4POThcUWUbv3r2Rl5fnVYcsP384BgwYgLa2NrS3nYEoiigtLUVCQoJXopj/JMEKAAKRefGcmZ+tNlLzG4/HbRDEbnea31h2E01jxzfdwcHeZKABUDweOHn54a5g2m40UrjmZE0XYoKmKWCJZBxdvuvaJjCxvgFHWs/ivXfehE0EPJ0uOEJDDLw06MZnDYqqQBTErmWwoZf4tkNRZMMmpigeyB4FoWFhRo9Wp6x+HdZ7FNz8wR1u7EFv84lvajZf8HhkaJqAkBAdTwKgQCMFpAmQJG8Hyh8f/BMWLlyIlStXYvy4cnYNWFPhsHiwFVLYXBJxGzc7CoqW9I9EhM6ODoTpjjc+NmsqPE3T4PF4DE92oHFpmoaOjg6EhYV5VUC1VlbtDnzp1NHRAafT2bWOEr9myt+yXBu1W57ppjy3fqpTVeM9Aj8W6x55qBBg9qOoCmwWPu3s7IDTGdKl4qthDuL9d3Z2IjTUuzS2NYeyntpP4yfMMM5/xnOaBpHbhE3nn8+IeFnx4FdiLU47nVUtD+vXl/V5t+IWsMX/MA30QsGLCl1LdZh/OxyMQVgIjFk420okURQRHh7u1YI1EMvhcFjNVj5g2rRMR471YRMXxpimG8ranOE8IgKgAgKzDSuyjHPnXIiODDEEq2/vAsi4vguv2/3sCeZp1iDZ9EqmzPusRyEY2FpeM81LPgxlqoZ+KOVdENIfMzocdi+7maap7GQBAQeam/G3Rc+grq4eMTGx2P3FHtxzzz2YNGkSiouLoPLeJFGEBtOmbsw/dzETEavZZelfEASvjUSnvRVfURS7CFa9DX/84ju280mL57sBhYaG+lm4ZOEn9rfZh+lu7MmC12lipMohY3thbUDgApblEpBEiQt2gEgw0vL52uB9+/YVrP7Gqn9mFazGc17z4X9cRpqJgMqOL47W70wnoT6vepTHd8AgyBYTKHTDKgwCM2OwN83X/ffhb3FYHWqClyjlxnarkCVmwxQkEdA8cDgdCAlx+rXidx2Fr5fU+8nz3XFNzTXIe8THotsCu7QRYHFYZbXANhtWvp6wZMkSPPzwI1AUFQ5nCCZMmIB7770XkeFsIaoGTtY5CL7gfT8/n2VkbctXWPekzwvppyt4b2AmmHzUIyCABF0J6Crw9LkWfLzjDLWeJyH55sF3hr3Xhj852pP5+2/QWgEfs0CAR2AmtNMXo9Wn2BWCiWXBSzEO9GR34CsS/eCiaYDAEorsaToAVXAgN6cPf51pZ5pKIFGwCEDVp71guFlx0AV8kHF3eZf8D+V8FrnlfYIGImbScLk6cfToCbS0tEKRFYSFRyIrJwfhocyco4HXKROYM0JXbEg3VUCAQF0Ld3fJiu9DgW8CepLlKTBHWqE7ulujBdDNs9Y2fan0nyJYCJZElj7w1cbz32IWCCpcg+mm7Dv/u3AgVu5aM5w9qWsBwfDQV1EXnZY7Goh0bYGDAIBUaLIHgs0BQZSYvCWNeT2JQCSARHNxCj7M5Gsg6YqXbqM2NbnzFq7WgUAIqL369mz0yYULyw/K0rypmgZBkIz4To+swGG3Mbs3L4Oj8dhOY+yC91HVDMHR0fM+1vOZg66nXaqlEuiYKfBNwPJkECyCCUa9JLV/+37XNrxx866g0RMqeNtaewI9fba757zmt9v2utmQDPtX13b8zVlPvP3nh9+3H4II157uzP6hW7NA0CfPF4IsKk0BBBsgCIYPCbBYCCwC5sJxsQihHmEXjHEvVFSZFlD9N/3aBRHPtUumCLLWHgh4/O8Gj/PR4S4cLgZ/9KSNnm5qXwW+PQIjUPWM8zR6XQxU/r+FoMKVyH/ZBdNreH6ddWfE/yrgH6fgtjTLKdgPjl+tlk9wuBTCNXDrArxPBhemcX1ToOvI+kXKS4Xr13Nk940K+CaADJpa/2YgEMw4YJ0efln1AoXA1wTfBjp3Ea6mw+giGt57ZhizIvGV+Nzr9fPt+2uBr0e4elulrX3+JzpVujoXu39H6MGzOlxamnzTbOi7iWrQfJzDDHjcBP/Lj3Al6pKN6NuyQX9b8NChC0dZ6/z4QiD7l1cCC3+/8xi4HsN50aeroPL2D5kamv7oBeew+JqgJ9EsZvKRwA+b1c0I1lpT1vpa549b8H6t359vWE7gNn15pzvbqlc5xWA9Bvj94oNxUeUiQ0/bNPif/y5AYNnsfJ+z/O8X9AJ1lkespyBrf768cKHj/yp0u1ShYT1pV+C5Fy0vaTzz1MXbyYPtKNYgav2nHhju7x2vSwvclmhEQwMgTYEg2nqusPTQcBhwDOR1qOqhdnLpNVfr72agmk4U77n1Z1K5lFoA8U67a59IL9Fsfc7fJq271nx51nr85VosBToqXmrN1UdztFx+uFS0th6NfY/JKinQiCUMkgR/EZmWdEMGQ5FZhVg0S84D5xeb/JXBYFjjPya8+V/WjGrG8wFliZX/v7rT0Ao2nQEFQeTaJVt8LCeAKfSsyCqKYgygJ0QVBAEejwd79+7F2bNnERISgpiYGCQlJRmXE7xTlwleAtd6+8frOfMFHD96GACQlJLCCuWJUlf5ZVXKfRQbt9uD/fv3ofVUK8LDwhEVFYWMjIxui6Ppy1fQBetXNGkEdRIGOVr6TroAf2Koq+DWNQpR5A4vP7aqi7b4DeXJ1GgCtWsWMWREPXbsCARBRFJSEth2oXFhyglOGjMYGp/puFs690XH6P/SHSV9oyyOHz8OIuLjYHAxaBtIkOq3pgR+McQaTsPC9lzYv38/zp49i/DwcMTGxiI5MQmiKMGL9XVBxqpgovXkSXgUBYmJiedVQPACR2cgoQtRgE+3HrEi6MVRmRw7fPgw7HY74uPj/eLH+B6cJ8mIrAnEk+xZvqJ6OF9+HFoiiFSsWrUGixcvRk5ODhYuXGhokh999BEeeOABhIeH4+abb0J2Tg5PCQeWfIQ0iIIAkWdX0jRWBfTE8eOYO/cGbNm6FadPn0ZGegZefPFF5A4Y4Bcxj8fDCxQSMjIyWE10XWPVNCbMuO1H8bgxvqICpGl46933ODXgJUzJmAgfVZUHuR45cgQ/X7gQ777zDjRVRVhEJFauWoVeqSkBiUfW36zOv24FbHDNVXckklf4mXnk9bKpejmnzHnXy4cb7/K8CUQsPZ6+wwsCjOqn1pOOldZWDcu62wuC6MNnVsy8CWD0qalsTEYi5+6FeFvbaUycNAm9UlOx6OlFCAkNM/oyjp7GBmddSIYuY9Bb49XkrZq8zhr+LgR4Q7CJJWNz0umlamwt6GNSFAX5+fno06cPVq5c6d1iN0ZZfwcsAstoJoAMmrLPWFYpmyT6bZNAhrD88vAh/PSnP8XOz1iCmOioaLy+4Q1ERkb6aH8WBDQN5WPHIiomGq+++iq7hcazqvlelwYfGxlsIXQZh7+xeo1TVSCIIj7buROAiOycHDgd7FakqjITlyiKjMdFlvukvr4BWVlZeOyxxxHKb2RanaIETnKd7Lp52eBBMuZE42GeotXMSSz1qhiEZ2xmp6ZkUFQF27d/gmeffRZ2ux1XXnkl+vdnyZhfeOEFPPPMM4iOjkbj1CnIzskxaSaJ0DQBomAexHTjd1RkBH74g2sxa9ZM/N/v7sVnn30Ot1vxS0yA3RH/+c/vhMvViSVLlniZAgBvnrHZneiblQ2P221OiJVIELjVwI/mxhdFdHQ0fviDH2BSQz2e/uvTWPva6zh7rtOCW1csvfREwe8XFwCmkPYWNPpYfEbhpfGba1T0RYjffRcEgSWUIQtT6iznB2+93LXvycG/HPA5Dvh8R/qYiIyN0euJAMLFbrejT0YGEhOTunRs4BPACWvOGvvefMLSDqkBcPZpi0th/3gKYImNvK8BW3csSZKQnZWNzKxMy1vGQIL27b9HMEGmqeZVVgAkikZSdH+4WtPAJyQk4PbbbsORw1/ij/f/EVu2/RtuWUW0P23UmF4BffpkIjouxlQRDP7wozQIJk97mayC7yf6UxAkZrb44Q9+CLvTiVWr11qa1q/jQ1cvIQoC+vbti8y+WbDZHV5XoKxD6fbQwh8QBevfDETBVHJ829bBxo5U+ouGngxZ9iA+Pg4OhxPLly/HggUL0Nrais2bNyMhIQExMdHo7Ojoig8ELyQkAIqmwRkagsoJNQCAdWvXY+++g1C4k4u83mcQHhaKltYT6DjX4ZUIQtR3DQNn9tLTixbBzZNvy6oKUQBLzutDFADG8QEAiJhgDA8Lw+gxYwAAn+/agfUbN0Ky2U3dR+XXaX3IqIJAimrgqDNMTxmHvcOyjfm2LcsK7HarPcz83i0rEEGw2/W8Blxz80nN7fK4EeJwogsYTQXX1vwlkGGJSyT+O2BahkxR5vF4AAIcTofxDSvxLHhltlF4iQ+n0w+OHEJDw/HUU09BUQkhIV3v3FvHIctuluRc8DVXdZ0MPY2mIPT0TrzZBqMB4wfTXxBozs2j60svLWFlhGAJFNRf5CVqAM5vIIO4gTRcU4GxbrK6oDPnTdNU44RiHUmoIxRjRpUAAN5+ayM++mS7sR59rAgWMghY9PTT8GgqJJ+qB9A3lADMLwBQNAU20eb1iD4XAKBqLNE8AJCiQuBr60xbG8IjImGzWROps8uYqqryzwWEhUfg0Ucfhd3BSpKbtOO/6GZDAIqswmb3Z9rsir/idsPG+dR6JgokYm3WR3Sw2+1wuV2Ii4vB6NEl2LRpE+bNm4d///vfcLvdyM/PhygKjMFECUteXgoiAVMmT4FdYjrEgaY9WPv6RowqLceQgf25ak8gRYGqqFA0MvKJEunCgXD0yBE88/e/w+V2Y29TE2RZwa9+9StINhtCQ0NxxRUzkJqcDIgijh05jCVLlqCzowOO0FD07d8f4yur4NSJxc8i/1y2FB0eBb1698LqVSuxr6kJE6qqMHXqdMQmsJpNFr6GR3az8VnpYij2jHGOHj2BV5YtxbZtW6ApMoqLizBt2nSkpKQa9pzgtjQr3Qk7d+7AW29txvjKKuw/cBD/WrECZ06fQXHhcFw9+ypERscAEHDs2FG8uPhlbP90OwRNYf1ePgPxcfFgCUJYnx9u3YrFSxbjxMkTKCgqwshRo/HuO++irqYO/fplGyeVTz/5N7Zs3YaS0nLs2bsfK1asgMvViYLhwzH7qlmIjmbpJs+cOYMlS5bg3XffhSgKGDIkD9OnX4G0tBRjDICAXbs+w/JXX8WB/QchQEBGegYqKitRUFTELDCiCIgC9uz9AksWv4SDBw9CEiXExsaioaEBhYWFhh2+ubkZy5a+DLe7EyGhYcjul4sJE6phN6Q5O7qpmobm5kN47h/P4cD+AwixOzBy5AhMmjIF4dFRbIP3uPDa6xvR4WbpCje/9Sa2bnkf+cOHY9bMWUZFgO5AP8Vs//RjbHxjI6prajBo4GBuEmBpHNesWYuTLa2Y2jgFkRHhONR8AMuXvgKX2wNnSBgGDRmCsePGQTI2LcHYffY27cMLS5bg0MH9cNhExMYnoqKyCmPLSgHSoMgKVq5YgdYzbZg95xomhDQVzQf2Yd1rb2LkmDIMHZwLQERz8wGsX/8aduz4FCdOnkREeDhGjhyJadOnIzw8EoqmQBAAG9/YFY+bK2sm31pPbocOHsTiF1+EpmoIDY9A3/79MaG6Gg7RkjxcFLH90+1YvXoNbKLIStZozOHsCHGivqEOWX0zoaoKjh49itdf34D3338fp1pbkZCQgDElYzFx0hTYQpnScPToESxZ/AIgiDhz+jROnDyJ3/zmt5AkEZHh4bhixgz06t0Lqqri2NGjeOH5f8DtkY2qGOOrKnUzMaczw2V3UxP+8fwLaN7bBAGEivHjMXXadDNhDqlYu2olzna6kZnVD2vXrMbHH25FwfACXHX1HKSlp/lITT8ClkivDW4tBk10663zaODA/rR48YuUl5dHH330Ed1444304x//mO644w4aOHAArVjxKhERlZRXUL8BQ8ntIaNM5vKXl1BUTCw98tTfyASNyOOin/zoRxSfkEJbefVXRdP/qbR79y4qKxlNI4oKKDY2iqKiImn06NE0cvRoumzSJPpk+ydGa7t37qCJ9TVUMGwIAaAhhYVEROQmlTyqh4gUIsVF9ROqCAANGDiISkpLqSA/nwDQnNlX07lO2cBBh1/fdRuFRYTTrv2HyKjXqShGBdjmg4doQnUtAaDhRUU0YmQxAaDa2ho6fvy4MVZN4xVtNc2n/rpOb14Rl4j+8pdHCQDNnHUVZfcfQFk5uZQ7cDAlJCTQti3vExHRvj27aUJVJUG0UdGIkTR61AgCQNMun06KZlZL/XDbFkpITKDo6Ciqq62moUMH05AhjEZLl/2TiIhUhVWPvfd391BMdDhdNnEiJaX2pr45/SkzK4dSUnvR5s2biYjowIEDNHHiRJIkifLz86mkpIQAUE1NA3V2Mvw1TaUvv2ymIUMHkdPpoLq6Opo8cTKlpabTTTfOp063Qgovh330cDOVjysjCKCy8jKqrq6muLg4mjNnDllhy5YtdFlDHRUVDGX0rasnl8z6UzWVNJWNoalpNxUUsDmtrq6igryh5BQFuuH6n9BZ1zlGY9VNM2ZMJ0d4BA0ZXkCFRYWUl8doMnnyRGpvb6PuwDqFr21YR4IAutanWu/JlhbK6NOXRo4ppQ4Xq5K7a8d2qq8aRwV5gwkANVx2mckBqmI0fLBpL5WVlhNEG1VXV9OkhjpKSUmmq66+hiPAeHVsaSmlpPSiDpmow8Posfzl5yk0NIz++NCjBi5PPvkYJSUl0MBBuTR58kQqKhpOAGju3Buow+UiIiJFMyvS3vCT71NEVDgdaTnFaEzeVW937dxB1ZUVNHTAAAJAYyur6JxH7kKnT85BRQAAHYpJREFU1atWUHFxMY0qHkGji4qpdHQJRYRHEQBavW6N8dxTTz1BMbFRNGjQAJp0WR2NKBxOYWERNO+W26jTxfD65N/bqPGyWhozopDCQkMIABWNGEV5+QVUW1dP27dvN9rb/slHVF4ymkaOKCIANPXyK+hMh8ci1YjPx6c0JJ/RYkJVJQ3ol00A6Gc/+xl1dHZyUrto1uWNFBcTTfkFRVRSUkZDcvsTAJoxfQa5Od3ZPOpr2buybUDhumDBrdQ/N4e2bPmApk+fTnfccQcVFhbS4sVL6L77/kDp6Wm0evW/iIho/IRayi8qoU43kV49eOWylyk5tRc9+eyLHFk3a9vTST/54Q8pPt4UrrJGJGsayapCiiKT7HFRy8ljNGnSZTR2bDm1t7eTrCjkURTGjHoJX9VNRBoprg7Kzx9GQ4cz4erRiGS9xK/ipplTGwkA/eH+B8jNy0I/dN8fSATo4cf/Quc85sInIvrNXbdRWHgE7dp/2CJcZSJNIVJkmnH5FRQRFUPvfLCVPLwE9OrV/6KIiHBauHAhqapKqmoK1eDCVSUihV5Z+gIBoP65ubT4pWWsS41o1+ef08njR4kUD01uqKXEhHja9pG5wbzy8hKKjYuje355DxERtRw/RFW1Eyi+Vyp9unMH++zoUaoqH0sAaM26N/ibDO8nH3+IAFC//v1o6fJ/kUdl3+zdt5+OHj1KmqbRtddeSzExMfTaa68Z/b722uuUlNib7v7Fb0ivgv3oo38mALRhw3pjmO1nztK+/c1kLYR+/33/RwDomeeeYZioKrlcLmpubqYOXqpc/5yI6MSxL6mwIJ8aJk6isx0u3rTemkqzZ88km12kdevXGu/++q47CQC9tOwlRmelk35w7fcJAD3w8KN0suUkERHNn38TSTaR1q41F30g8K0KXVdfQzk52dTZ6SKF786LFy+m0PBIevLpv/N3+LpS3aS6z1HfPn2osmqCgb1iKSH+4O//QHbJSUuXrzA+O3PmDH2xbz8REcketvAryssoN3cgdSqmcF39z5coLj6BHnz4SU47mXbv3kmHDh30wvnhhx8ih9NOz7+4mGRVJdlLuF5D4ZERdKTlTNey8JpKqsxKdSudHVSQP4wqa2rorGy+z9haIU2RyeVykbuD4bvz08+od1oG1dTXU2v7aSIicssdtH9/Ex1s9sbv/vvvJ0EKoTc2vs0J5CGSO4hIoSGDB1H+8EJqPXOO3AqRy+0hWZbJI8ukKkwmaJ5Oaj1xjAoKCmjW966htk6FXCqZ61hT6Mrp08gZFkEbNr1t9Hv7zxYw5WPpMt6vm344ZyYJAD382JMky2yebrjuOgpxhNDada8ZQ2bgvRUREQU0uDmdTqiKguiYaDQ0NOD+++/HyZMnUVVVCSKN1z7iWZaIlcsQBMOUAZueWJvbS5j5hywGftNOZJRDEQRIogibnVVqJWJ5N+12OyRJL2RmUbt5sg3JZvP6nAUAcGOMJKCj4xwy+/TFVVfNgoPbKH9y3Y8RERaBVatWIcwueTtYiKf/EyRv1V+QsHvXTqxZvRpTpjRidHEh7PxoN2bMaAwePAgbNmwwKufqY/INIfMGZufWy+FcNnEipk+bwgorC0Bu//6IT0zG7s93Yd3aNZhx+eUoGDbUeHtCVRUGDhxoeJ+/+OILfPDhVky8fCoGDxgEgBCXnIw5M1lpjXO8RDNUFYBiHGKmX3456uvrIInMetk3sw+Sk5PR0tKCF154AdOmTUNlZaXRb2VlBXL69cOKFSvR1tYOwCx3vXdvkzHFEVHhyOyT5mXZ1Z0tetFEURThdDqRlpaGkJAQo3abTkNJkozEz6a3mf08sK8Jb27ahIpxFZhQVQ2Ph5WzmTVzJlKSE7Fy1WpGY8mJlpaT6JWZjcapUxEfFw8AKCsrg9PpxL59+wLMjwmsKCebL1WVUVtTg5aWFqxatQoSP3tufucdSDYbJk+eYvIOESBKLOJGFGGz20zfkIXvREGArMpGkUIAiIqKQk5mH2gwk1Drtcc0guHJlgQBqqIal3VUVUW/fgOQlJSENWtW4YEH78d9992Lpqa98Lhl7Nu3HzburDQcpbrZxpfvdfy4Y0ly2CHZWL4Ow/5p2DMJAp9PR2gIOtracd2Pf4yIyEg88NBDiIqIggoFdpsdffpkISExEes3bMBjjzyERx68D3v37AapLhw8eJC1K9kAWygAFpGkV821SSyXsiRJlkKRgGC3G59rmgYSBFiDF1qOHsH69eswprQU48tLjM9nz/4eoqKijHUEQYAiK8jKysTUadONwpiV48cDAPbv388eM6nXhV4B87kKgoDOThcECCgtLUWvXr1RUTEOcXFxcLvdsNkkyLJZVI+V5iBoggDRUpmri0XczkKqNF2A8W9YXXMTQbvdDkEQjIXGvtNY+RSAGUg1Htuo92/1phsLkTFlYmIiIiIizPZDQ5DWOw2nWk/BrQFOywQIgshCS4hMjLidb/fu3SAQXnrpJbzz3rvMQ0wKNEVGW9s5DBo0GJ0dnbxsd0/iQ1mRvLPtZwEAxUVFbGjwrhq7Z88eOENC8Oxzz2HdxrfYglU8UFUZblnBgIEDARDOnDkDTQD6ZOk2RNZ/ZgZLt+jSIyoEAZrHjfb2doQ4RQwbNowxKeAlFPbu3QtJkvDKK6/g/fffhyzLPM5ZwN69e9BQ32gs+unTp2P5q8vxox/9GHff/SvkD8tHfV09Zs6+GhHREbBxUnzv6u/hvQ8/xMLb7sD99/0Buf1yccWVV2D27NlGXKKVbqqloKA1ME0AcPjIYZw6dQppaWkAAIcjFCANsbGxSEpKwv4DB6CSCkmwQdM0xMREe1XKcDgcCHE6e3SDUJJYVn9WBcOOxsZGPPLIY3jssccwdWojtm37EOvWrUNjYyNiYqJ8XIsEPebLK2G4heevvPJKvPXeB7jpppvwy1/8HKOKC1Fd34CpM65E7+RE5qxz2Axnld0GqKoe9qVXx2VzYbc78cYbr+GGuXPR3taO5ORkLzO/7ij1jS8nn5tUAvTQRwKIO3VVDaqi6ixi1ZP45QLWjuyR8YMf/QjvfvAeVq5Zi4E5OXzemI13+dKXMP+2hXB73MhMTUKYw4bjJ0/5UN26fsiorCsC0Pj6Fi1rnVPaS6mxOuZaWk6ivb0dffv2hTEAAUhKSkR2djZ2fb6LjVdVISsyUlNTvZzKoijA6XRAUVQLVsxf5OtnCShc9WqqHR0dyMsbhmXLliIhIQEA2zllWTEKskmCALtN8tIe2a7qFYnChqjqJXnBYh4tA2dEYCwpy7JXzCDLPypCEgSAVOZS5G9rBIiSBNHihSZwBEQRqqoZ5Sh854xU1fBMmmPXNQCCBO7NJxUQbUaQ8oQJE/C9OXNAmgJJYBVEZVlDenofo8Iqkb/93xdE5tUVBIiiWfqavW/iKcsyBAior6tH44xZEKBBgsoqZQoC4uLiAAiQucOwgwtr3TMqc1rbnbysiShyTYQtSIfdAcGXPJZY16qqKsyePdtgWFlW4PFoSEtLR3g4cwJEx8Ti+X88j82b38WuXbvxztvv4Ma5N+L1jW/iib/+FbFR4RCgICG5FxYtWoTZs6/Gxx99jC0fbMHNN9+MVatW4YUXXkBcXJwlplYvYW3G2npRj19+MeaWVECQoBHBI8sQwMrDSzYYfOe1XLlDrFvhal2hnC7p6ZkoKy/DksUvw+1W8PHHH2HXzp144ME/w8HRUTUNkh5MKehxmSaomgZSNdgkCYmpqXjiySdx1Zw52Lt7J97d/CbmzZuH1es3YOkrS+DkFS8iIiIhtZ4BiMW0QmKlrENDw4zKu18ebsb//u//QhRELFu2DIWFxQA0vPf+exg9qgSnTumVVjVD+1R5lA18aCGKIq9/ZzoSiZdj7xIZoGngxMaDDz2IVWtW429//zsmVIxjX0ODBBFf7m/C/HnzIIVF4d333kSsU0RkbBI2rFmBqrqJhpbMGwWIlf4RLUJUnz89vM8r2oJfjBEF72slrGoIc74Zc0kaZFlmpXX0kkOi3Yyn92IDXw7yxyC8L/8PMaJJNjNEZdgws1IkMwGYu6QoCujsOMfCKZzss7Nnz6Kt7Ywl7s3gTEiSjdc956WIea8aaRBBxjvsZpcbNn7sJ+gVLX3KWNgdkEQJgn4VD2AmA659SqKI1tZWtLW1IYwHFLs7O3Hq9Cn0HzIUEgBZ1WDn5web3Q5RFCB7XMYEaCpBFIGcnP6QJBty++dixtQpfohsQs9urrDJEgSRWzkE7684DBw4CIqiYsiQoZgxbXLA1tLT0mEnAc1NezkSbEHs2cv+NiMgdIHOrjrr2gDgzSYZ6ekICQnB4MGDMXXq1ID9ejxuOBxOxMQkoKFhImprVVwz5xqkp6XjoYf/hAW334ERhXlQXDJsIaEIC4nAxIaJqKmugQAB1113HRYtWoRdu3ZhDA+J07UAm2SHJNm4FsK1E76okpOTERcXj4PN7BipqApsNgmtra04feoURpeV8rAxFQJEaIrKS2sDxJOjqzwcLChwgviWTKmrrcWSxS/jr089hc3vvIWs7GyMHVvO2tVllMjD7Gxso7BqHKIgQBPAomnsdsTGRWHyxDqA6nDtNd9DbMJC/PXvz2LLB1tQNmYkACAkJASqqsDlkhEawgRuW1sbTp9uhZNrWU1NTWhubsb/LljABSub8/a2NgBmGRk2HjbjISEh0FQVHo8LIqIAmPJKlPRVCsBmgyCIEAWBKTtW4Gvo+eefx89+9jP84he/wBVXXGl+DREgFbt27cLhw0dw+90/RUZKCqAyc05nxzn/xBdsxklWR4NFoHHTBhE3aYgQBV56hj9jFmUCoqKiERsXhwMHDprNaxpOnDiBY8eOoaSk1MCUIDKZrWnGHmLyoLd27w8CRgoTCZA9SpdjLZGumovGLtw3sy/2fLEbGza8BgD48mAzHn7kMcguF0TSLO2KgM2BnH79cPrUCaxZvRrnOtzocLmhqConCmPEiIgIREdHY+vWbfjkk09Y33xAiizzHdNSXE9Ruy4QXTOzO3Dg4H78+c9/Nr76/e/vw5ETx1BVOR4awRCsAJCV3Q+dHZ1YsngxTrd34NzZs0yzIQ25AweioqIC9//hXjzz3PPGO6oq41//+ifeeOMNZg8zrm8GA/17lcfqwdxR2YCNX/pmZaOyqgp33XUXXlz8ivGIq/Mc/rVyBd7e/DYAYOCAQZgycRKWPPc8lr3yMtTODryzcSMeefJxAEBIqNNoU9OYAFAtfVrj94gIKampmD59On7961/jiSeeMJ7TNMLqVeuwcePbzKQoivjoow+xefNbjPSShPiEeHg8HtgkB8K4Nm+z2fH5Z59i01sbAQAOuwN2u904quthWFZNUrLZ4Xa7mTmKm2f0nBKZWf1QXl6O9es2YOnSl2GzsX4effxxHD12ApdPmwZRcEDzeGC329mJSG9bD58ybKk9BXNeCwoKkZeXh3t+eQ/WrFmL6gnVCHXaWSgv6bW6jDMz3B63F58KAvMZCHY7PvxgCzZufAsKD4CNik9kGqMgIDIiEuA5APrn5uKLL77A+nXrYBOAfU2f4/EnnkRHR4dROj0+Lh6iKGHDaxugaUybfeedt3HLLbcCAMLCQo3+dfyys/vj3NkOvPD8P9B+zoWz5zoN+67XlitIINJAGsFuVVplGYCIt9/chFtuuQUzZ87EbbfdZoRCyapq+BaiY2KhacC7m98x3v/k/U346fXXs2d5WXLeMqDKSExMxKfbt2Pb1q1GqLTV9KbPqyRJcLlccLldCLXppy/2QkKvNFRWTcDr61bjnyvXsEYkG5544kmcOnUK9Q31Rp8EgVWtVlRoqh6TH8jC6metE5HFk81Ch4iI7rrrToqPj6PtPPRJf0ZVVVqwYAElJCbQ+vXriIjojY1vUnZ2Lomig4oKR1DF2HFUmJ9P0dEx9NIr3PumaqS7lc+1t1PV+CpKSkym3AEDqXzsWHrz7bd9fG1Eq1evori4WMrKyqLSsjKaNn06fbrjU+P7e3/3OxpZXEyV4yv5ViLS+Ooaqqiqol/9+pfM00hEjZMmUXRUNBUVF9OYMaOpsKCAANBVV86kc+3nfHrV6PTJY3T5jBlkD42kwhGjqKysjN7cuNF44uDBZqqrb6DY2DgqKyun8eMrqKiokDIyMuiBBx4w/YeqSsGBRQ0oqkx/ffpJL2+lqpElgoH93LfnC6qsqKSEhBQqKSmjcePGUWHBcErPyKBFixYZrR49fJhGFBdTamIS1VVWUkV5OVVVsXC0ZStXExGRoijk6uyg39/7WwoNddDy5ctNjDT2T8f/4MGDVFNTQ0lJSVRaWkrl5eU0atRoys7uT48++oTR76JFT1Pv3r2pakIV1dTUUGFBAdkkG91++0JzxLJCjz/yCGVm9qGCwgKqqKigQYMGkSiKdPPNNxt9dnR00B133EH1dXU0tryMkhITKSo6hirGV9Ko0WPo4YcfMdrc27SHRo8eRZIkUkXFOBo2dAiFORw09/rrSVVZiIzq7qRpUxspM6sftZxu4/Oj0NKlr5DT6aA//vGP3cxVYPj97+8jABQREUkbNmxg4+RT197eTnf+fCGNGllMVZXjdZWHJk+ZQiNHjqQHH3rIaOdvf32aMvtk0dhxlVRbXUsjCwtJEgSaN2++V3+7P/+c0tMzCKKdCotHUFnJaCoaPpRSU1Lpscf0aAGFbr31FhIEUHFxETU2TqGyslKqra0hAHTPL3/F59uMumg5fpgmVFeT6Aih/MJiqqmtpY8+/tjo9+5f3EVjy0qphoc22p1OKq+ooHEV4+m3v/mtMegFt95KACgvL48qKyupsrKKSkvLaExJCW3btpX1qyh0y/z5LKRrfAWNLRtDk+ur6bJ6ht9z/3jRwjMsSmHtmjUUn5BIycm9aMSIMTR5ciNt2bKNiIjcbjfdfeedNL68nKqrqigtLY3iEhKpqqaOSsdW0J/+/LDR3r69e2nUmFICQBVjKygnM4skUaRbb72VXDxEjUilK6Y3UnFhIZ08ecoIBHh12VIKCw3zak8zon+8JZh09913321kylHZ/XNBEGC32zF0aB6Ki4uNCp3EjzNhYWEYPGgwysrKEBkZiYyMPhg5YgSINHjcHkybPg033HADhgwZisKCAiQmJOhGPACA3elE1fjxSEpKQGhYKAYMGICC4cORnJzspe3l5PRDWVkZoqKiEBcbi/TeacjPz0d8PPP07mlqgt3hRO/eaaiursH4yio4HHb0SU9Hn4x0FBaNAAA889yzkCQJv/3Nb9DS0opTp1px58Kf46abbkJMXKzvboOQsAhUVlYiNTUV0VGRSOvdGyNGjEBKCguYj46OwuQpkxEfH4fW1lYQETIzMzFnzhw0NjZ6Oc66v0jArDohISHIzuqL0tJSNj7uxTVv/giIiYtDQ30DYmJj0NJyEk6nE9nZOfjBtddiyuTJ7JaTICAiMhKX1dUjPCwMoiShcdo0FI0cgZeXLsWMadMxcEAuBJHZekNCQ5CbOwAlJSWIi+P9EtuhiWsF0dHRmDx5MpKSknDs2DGIoojMzD645prvY+rUqcbd7bi4eISGhkL2yNA0Df3698ftt9+O6350HXdSMWdhfHwcIiOj4HK5oWka+vbti9tvvx1z5841bn4REQ4cOABV09Crd29UVlZixIhiJCYkIDEhAf365SAvLw8AEBMTh4aGBkiShJMnW5CSkoL58+fj1ltvhY1HhyiKgvDwSIwYORJFhUWQRAEgAQ6nE1lZWSgvL0dqamqQuQoMvXv3gs1mw9VXfw8NDQ08Dwb7TpZlHDhwEIIgIiUlFY2NjRg1ahSiIyORlpaGAbm5GDJkCABm0gmPiIDb5QZpGvr164f58+dj7o0mXQAgNjYWI0aMhCAKOHv2LKZPm4obbpiLwYOHoLS0FImJCRAEERUVFcjMzMTx4ycgywpqa+swf/58DB48GKNHj0KvXr3Y9WaN3XgMi4hCdU0tevXqhejICPTN7IORxcXcng/s3LkLks2GlNReqK6pQWlZGaKiIhEXF4fs7GwUFhYCYM7o3NxcpKWlITU1FcnJyUhNTUF6ejpKS0sRFxcHQRRRNnYs+vTtiwP7D0DVgCtmXoWf/PQGZGZmooyPQ18lEERkZWWhrKwMMTHRCAsNQ2ZmXxQUFCApKREulwvNzYegqArS0tMxrqICxcUjEBYWjoT4OAwaNBBDBg8GBAExsbGorq4GM5O0IzkpGfPmz8P8+fPhcDi4rZVFauQPL0BeXh4zgQrMRJWWnobS0hIjaY2p/XuvdYG4xCQy68Vb8hN09R76hBXp3/vaF8miriuyAlESu88wZVwjtOLS1eOuRynoVz+7g7r6WrS0tOD1Da8jIiKya7/8ZgkbC0vDFuj6nu488YeX/r1Oj+5T6rFurNdJ9Xb1Y7Fo4MVTaRL83svXje8qd2jYHN60uXHezXjyyb/gzY2bUFAwHKIo6T4WCz6W4zL/LHgYWc9BU1n4nt1hZ0ddP9nUdKejpmleV54DATuuCobgDty3CgJBkvTrlRp30mhG+Nj5QqAbnvpc9uz6MwOPx2OYQ4KB1Zzgm43OeqUbxB1pfsbW2dlp2FsVWYbNbocic57hAsRfv5qmdbveiJsMu5s7WZZZrTdV7dKmlW6KonKnFL8NGqBdt9sNh8PR/XrjpjrS7bN+8Ae31fpOoKpqhh9KB40n5gk00Qa2ulfW9y65qdWqfoVjoMXnFeJh8eD5phC0Iqq/509YW0HH04CujjoYHk1BhCQy72CgNvUIgGCLWqdLdxuEb3rG4M+yn/7o7dumpqlQuQbrr7aV3obNYceuz3bixrlzUVJSgvSMdGzfsQN//tOfMG/+fBQUFkASRSiaCkGDYcPkPRk/jBAcwXvuAoG/OdWBeKIWid/h98fYAAJupoGgpzlECTAEK0fIOBn4y53QEwiEonXj1ZWS7sZjTa8ZDIKN14umAgJuGsb1TsDQ6rtTfM6Hp3uyKVrjl7uCuZj12PZgPKP32SOeCSIIjd55di/f9gJuwkHa60IJ60Rbk1Z32SktjGNlJt/FqFl2C53xrCnsrO1ZnwlGLGukAjNUe2X2hF6yW+AOrz59+hhHdb1P/ae1P5vN1kXj8NXMrXJc33D09424uvMQEPp4ugPrpQTfk4QViAg2uw2qqmLd+vUMY1HE3Lk3YuEdC2ETRag8yYskeYcxWedO/9u3fV0z98cPutbpLwm0fhIBWKib5IcXeqIlG3GOPjxkjdH0bdOqJVu/9z0tnC/4js96WvHFM9jmY7fboWoqpC7JZrz78SesretL/667sVhx6bIeuebmm0PZepoKpBgFmpOugsqkuz9+YX0zE5LJ6103ef2UYFW2/J2s9c91Hgwkq6x07I4nesIzhlngUoLvcSEQYoqiwGazdTkS+xMg3S8GFXq5jyNHDkFWFKT1Tjdyz+omD38ToUNALcyHmS9U+wkG/hjWuoADCRIr7G9qwpkzbUhN642YuDhINgkSjyRWNSbgrHqwP1bwt6j9MWZ30FMt7qvChQrKC+0LCD6mnuDTXTvB6N9duxeDFoFMfxfaX7Dnvsqa7ClcCP9eSD9Bhev5ECEQ+GqugdqxakTnLazI/MGEpgYWKyt5pTJTFJkHEXfVLII272cyrMLufLSGnkJ32kCgPonI6wKA8Tn/p+l5PrlIFfRdG6ad1QpfhZkDMXGwk05PIJgw+jqF6/nAxdCEAr0H9Ny04PtOT/DpTsAFU4AuxnwEEu4Xc/O4FDwT1EDS3dG8JxBogny/vzDtVG/E6wcgCFzA6oLdu87P+WpRgZ4LhPulAl+a+Ou3y2fMXcnzN7DSHuz4x60nFuFMWk9icy8N3S4WDb+NghXoXpBdjHa/6rx090x38+nvs0s5r992nune+nyR4GtlegKYSUAEoOc4NS/BXQwN03pc/rrhvDQgXajq31vfF7z9gL7tXsw5+0/SMr9u+LbT4JvG75vu/0LhkgvX87JR8Ge/qv2StaPvnPq1Pe+QggudMH9G8G8CeqpFGMcz/fsLaPPbBv8peH4H/93wtWmu3yz89y5G43j2DePxHXwH/21wcV3c38F38B18B98BAOD/AWiG/w3+3j57AAAAAElFTkSuQmCC)"
      ],
      "metadata": {
        "id": "WIvyMy_TqjuT"
      }
    },
    {
      "cell_type": "code",
      "source": [
        "import numpy as np\n",
        "import pandas as pd\n",
        "from sklearn.linear_model import LinearRegression\n",
        "from sklearn.metrics import mean_absolute_error\n",
        "from sklearn.metrics import r2_score\n",
        "from sklearn.linear_model import RANSACRegressor\n",
        "import matplotlib.pyplot as plt\n",
        "\n",
        "#from pydataset import data"
      ],
      "metadata": {
        "id": "d6oNtqQhxBbe",
        "colab": {
          "base_uri": "https://localhost:8080/",
          "height": 356
        },
        "outputId": "8d5b9539-d0ce-4e50-9606-59f457bdd582"
      },
      "execution_count": 6,
      "outputs": [
        {
          "output_type": "error",
          "ename": "ModuleNotFoundError",
          "evalue": "ignored",
          "traceback": [
            "\u001b[0;31m---------------------------------------------------------------------------\u001b[0m",
            "\u001b[0;31mModuleNotFoundError\u001b[0m                       Traceback (most recent call last)",
            "\u001b[0;32m<ipython-input-6-d759b8a65aeb>\u001b[0m in \u001b[0;36m<module>\u001b[0;34m\u001b[0m\n\u001b[1;32m      7\u001b[0m \u001b[0;32mimport\u001b[0m \u001b[0mmatplotlib\u001b[0m\u001b[0;34m.\u001b[0m\u001b[0mpyplot\u001b[0m \u001b[0;32mas\u001b[0m \u001b[0mplt\u001b[0m\u001b[0;34m\u001b[0m\u001b[0;34m\u001b[0m\u001b[0m\n\u001b[1;32m      8\u001b[0m \u001b[0;34m\u001b[0m\u001b[0m\n\u001b[0;32m----> 9\u001b[0;31m \u001b[0;32mfrom\u001b[0m \u001b[0mpydataset\u001b[0m \u001b[0;32mimport\u001b[0m \u001b[0mdata\u001b[0m\u001b[0;34m\u001b[0m\u001b[0;34m\u001b[0m\u001b[0m\n\u001b[0m",
            "\u001b[0;31mModuleNotFoundError\u001b[0m: No module named 'pydataset'",
            "",
            "\u001b[0;31m---------------------------------------------------------------------------\u001b[0;32m\nNOTE: If your import is failing due to a missing package, you can\nmanually install dependencies using either !pip or !apt.\n\nTo view examples of installing some common dependencies, click the\n\"Open Examples\" button below.\n\u001b[0;31m---------------------------------------------------------------------------\u001b[0m\n"
          ],
          "errorDetails": {
            "actions": [
              {
                "action": "open_url",
                "actionText": "Open Examples",
                "url": "/notebooks/snippets/importing_libraries.ipynb"
              }
            ]
          }
        }
      ]
    },
    {
      "cell_type": "code",
      "source": [
        "!pip install pydataset"
      ],
      "metadata": {
        "colab": {
          "base_uri": "https://localhost:8080/"
        },
        "id": "MYdta8iSrU3T",
        "outputId": "f5c8897d-b3e3-4da0-c166-d7ea6d676708"
      },
      "execution_count": 7,
      "outputs": [
        {
          "output_type": "stream",
          "name": "stdout",
          "text": [
            "Looking in indexes: https://pypi.org/simple, https://us-python.pkg.dev/colab-wheels/public/simple/\n",
            "Collecting pydataset\n",
            "  Downloading pydataset-0.2.0.tar.gz (15.9 MB)\n",
            "\u001b[K     |████████████████████████████████| 15.9 MB 3.6 MB/s \n",
            "\u001b[?25hRequirement already satisfied: pandas in /usr/local/lib/python3.7/dist-packages (from pydataset) (1.3.5)\n",
            "Requirement already satisfied: python-dateutil>=2.7.3 in /usr/local/lib/python3.7/dist-packages (from pandas->pydataset) (2.8.2)\n",
            "Requirement already satisfied: numpy>=1.17.3 in /usr/local/lib/python3.7/dist-packages (from pandas->pydataset) (1.21.6)\n",
            "Requirement already satisfied: pytz>=2017.3 in /usr/local/lib/python3.7/dist-packages (from pandas->pydataset) (2022.2.1)\n",
            "Requirement already satisfied: six>=1.5 in /usr/local/lib/python3.7/dist-packages (from python-dateutil>=2.7.3->pandas->pydataset) (1.15.0)\n",
            "Building wheels for collected packages: pydataset\n",
            "  Building wheel for pydataset (setup.py) ... \u001b[?25l\u001b[?25hdone\n",
            "  Created wheel for pydataset: filename=pydataset-0.2.0-py3-none-any.whl size=15939432 sha256=f8d0d4e2a732598f8a2551ee11feae7585958f15b345c4c19c3ee25caffab3b1\n",
            "  Stored in directory: /root/.cache/pip/wheels/32/26/30/d71562a19eed948eaada9a61b4d722fa358657a3bfb5d151e2\n",
            "Successfully built pydataset\n",
            "Installing collected packages: pydataset\n",
            "Successfully installed pydataset-0.2.0\n"
          ]
        }
      ]
    },
    {
      "cell_type": "code",
      "source": [
        "from pydataset import data"
      ],
      "metadata": {
        "colab": {
          "base_uri": "https://localhost:8080/"
        },
        "id": "0oYFwwczrhCk",
        "outputId": "4df12c7a-370f-40be-e5d5-46cb70a6945d"
      },
      "execution_count": 8,
      "outputs": [
        {
          "output_type": "stream",
          "name": "stdout",
          "text": [
            "initiated datasets repo at: /root/.pydataset/\n"
          ]
        }
      ]
    },
    {
      "cell_type": "code",
      "source": [
        "df = data('tips')\n",
        "df.head()\n",
        "#df['time'].unique()"
      ],
      "metadata": {
        "colab": {
          "base_uri": "https://localhost:8080/",
          "height": 206
        },
        "id": "8Y38XAOjrn2j",
        "outputId": "1a4b61da-1cf2-464e-be73-c626e6680a5d"
      },
      "execution_count": 14,
      "outputs": [
        {
          "output_type": "execute_result",
          "data": {
            "text/plain": [
              "   total_bill   tip     sex smoker  day    time  size\n",
              "1       16.99  1.01  Female     No  Sun  Dinner     2\n",
              "2       10.34  1.66    Male     No  Sun  Dinner     3\n",
              "3       21.01  3.50    Male     No  Sun  Dinner     3\n",
              "4       23.68  3.31    Male     No  Sun  Dinner     2\n",
              "5       24.59  3.61  Female     No  Sun  Dinner     4"
            ],
            "text/html": [
              "\n",
              "  <div id=\"df-4c6e6658-48be-4592-92a8-1bdf6f69c153\">\n",
              "    <div class=\"colab-df-container\">\n",
              "      <div>\n",
              "<style scoped>\n",
              "    .dataframe tbody tr th:only-of-type {\n",
              "        vertical-align: middle;\n",
              "    }\n",
              "\n",
              "    .dataframe tbody tr th {\n",
              "        vertical-align: top;\n",
              "    }\n",
              "\n",
              "    .dataframe thead th {\n",
              "        text-align: right;\n",
              "    }\n",
              "</style>\n",
              "<table border=\"1\" class=\"dataframe\">\n",
              "  <thead>\n",
              "    <tr style=\"text-align: right;\">\n",
              "      <th></th>\n",
              "      <th>total_bill</th>\n",
              "      <th>tip</th>\n",
              "      <th>sex</th>\n",
              "      <th>smoker</th>\n",
              "      <th>day</th>\n",
              "      <th>time</th>\n",
              "      <th>size</th>\n",
              "    </tr>\n",
              "  </thead>\n",
              "  <tbody>\n",
              "    <tr>\n",
              "      <th>1</th>\n",
              "      <td>16.99</td>\n",
              "      <td>1.01</td>\n",
              "      <td>Female</td>\n",
              "      <td>No</td>\n",
              "      <td>Sun</td>\n",
              "      <td>Dinner</td>\n",
              "      <td>2</td>\n",
              "    </tr>\n",
              "    <tr>\n",
              "      <th>2</th>\n",
              "      <td>10.34</td>\n",
              "      <td>1.66</td>\n",
              "      <td>Male</td>\n",
              "      <td>No</td>\n",
              "      <td>Sun</td>\n",
              "      <td>Dinner</td>\n",
              "      <td>3</td>\n",
              "    </tr>\n",
              "    <tr>\n",
              "      <th>3</th>\n",
              "      <td>21.01</td>\n",
              "      <td>3.50</td>\n",
              "      <td>Male</td>\n",
              "      <td>No</td>\n",
              "      <td>Sun</td>\n",
              "      <td>Dinner</td>\n",
              "      <td>3</td>\n",
              "    </tr>\n",
              "    <tr>\n",
              "      <th>4</th>\n",
              "      <td>23.68</td>\n",
              "      <td>3.31</td>\n",
              "      <td>Male</td>\n",
              "      <td>No</td>\n",
              "      <td>Sun</td>\n",
              "      <td>Dinner</td>\n",
              "      <td>2</td>\n",
              "    </tr>\n",
              "    <tr>\n",
              "      <th>5</th>\n",
              "      <td>24.59</td>\n",
              "      <td>3.61</td>\n",
              "      <td>Female</td>\n",
              "      <td>No</td>\n",
              "      <td>Sun</td>\n",
              "      <td>Dinner</td>\n",
              "      <td>4</td>\n",
              "    </tr>\n",
              "  </tbody>\n",
              "</table>\n",
              "</div>\n",
              "      <button class=\"colab-df-convert\" onclick=\"convertToInteractive('df-4c6e6658-48be-4592-92a8-1bdf6f69c153')\"\n",
              "              title=\"Convert this dataframe to an interactive table.\"\n",
              "              style=\"display:none;\">\n",
              "        \n",
              "  <svg xmlns=\"http://www.w3.org/2000/svg\" height=\"24px\"viewBox=\"0 0 24 24\"\n",
              "       width=\"24px\">\n",
              "    <path d=\"M0 0h24v24H0V0z\" fill=\"none\"/>\n",
              "    <path d=\"M18.56 5.44l.94 2.06.94-2.06 2.06-.94-2.06-.94-.94-2.06-.94 2.06-2.06.94zm-11 1L8.5 8.5l.94-2.06 2.06-.94-2.06-.94L8.5 2.5l-.94 2.06-2.06.94zm10 10l.94 2.06.94-2.06 2.06-.94-2.06-.94-.94-2.06-.94 2.06-2.06.94z\"/><path d=\"M17.41 7.96l-1.37-1.37c-.4-.4-.92-.59-1.43-.59-.52 0-1.04.2-1.43.59L10.3 9.45l-7.72 7.72c-.78.78-.78 2.05 0 2.83L4 21.41c.39.39.9.59 1.41.59.51 0 1.02-.2 1.41-.59l7.78-7.78 2.81-2.81c.8-.78.8-2.07 0-2.86zM5.41 20L4 18.59l7.72-7.72 1.47 1.35L5.41 20z\"/>\n",
              "  </svg>\n",
              "      </button>\n",
              "      \n",
              "  <style>\n",
              "    .colab-df-container {\n",
              "      display:flex;\n",
              "      flex-wrap:wrap;\n",
              "      gap: 12px;\n",
              "    }\n",
              "\n",
              "    .colab-df-convert {\n",
              "      background-color: #E8F0FE;\n",
              "      border: none;\n",
              "      border-radius: 50%;\n",
              "      cursor: pointer;\n",
              "      display: none;\n",
              "      fill: #1967D2;\n",
              "      height: 32px;\n",
              "      padding: 0 0 0 0;\n",
              "      width: 32px;\n",
              "    }\n",
              "\n",
              "    .colab-df-convert:hover {\n",
              "      background-color: #E2EBFA;\n",
              "      box-shadow: 0px 1px 2px rgba(60, 64, 67, 0.3), 0px 1px 3px 1px rgba(60, 64, 67, 0.15);\n",
              "      fill: #174EA6;\n",
              "    }\n",
              "\n",
              "    [theme=dark] .colab-df-convert {\n",
              "      background-color: #3B4455;\n",
              "      fill: #D2E3FC;\n",
              "    }\n",
              "\n",
              "    [theme=dark] .colab-df-convert:hover {\n",
              "      background-color: #434B5C;\n",
              "      box-shadow: 0px 1px 3px 1px rgba(0, 0, 0, 0.15);\n",
              "      filter: drop-shadow(0px 1px 2px rgba(0, 0, 0, 0.3));\n",
              "      fill: #FFFFFF;\n",
              "    }\n",
              "  </style>\n",
              "\n",
              "      <script>\n",
              "        const buttonEl =\n",
              "          document.querySelector('#df-4c6e6658-48be-4592-92a8-1bdf6f69c153 button.colab-df-convert');\n",
              "        buttonEl.style.display =\n",
              "          google.colab.kernel.accessAllowed ? 'block' : 'none';\n",
              "\n",
              "        async function convertToInteractive(key) {\n",
              "          const element = document.querySelector('#df-4c6e6658-48be-4592-92a8-1bdf6f69c153');\n",
              "          const dataTable =\n",
              "            await google.colab.kernel.invokeFunction('convertToInteractive',\n",
              "                                                     [key], {});\n",
              "          if (!dataTable) return;\n",
              "\n",
              "          const docLinkHtml = 'Like what you see? Visit the ' +\n",
              "            '<a target=\"_blank\" href=https://colab.research.google.com/notebooks/data_table.ipynb>data table notebook</a>'\n",
              "            + ' to learn more about interactive tables.';\n",
              "          element.innerHTML = '';\n",
              "          dataTable['output_type'] = 'display_data';\n",
              "          await google.colab.output.renderOutput(dataTable, element);\n",
              "          const docLink = document.createElement('div');\n",
              "          docLink.innerHTML = docLinkHtml;\n",
              "          element.appendChild(docLink);\n",
              "        }\n",
              "      </script>\n",
              "    </div>\n",
              "  </div>\n",
              "  "
            ]
          },
          "metadata": {},
          "execution_count": 14
        }
      ]
    },
    {
      "cell_type": "code",
      "source": [
        "X= df[['total_bill','sex', 'smoker', 'time', 'size']]\n",
        "#X.head()\n",
        "y= df[[\"tip\"]]\n",
        "#y.head()\n",
        "male= pd.get_dummies(X['sex'])\n",
        "#male\n",
        "X['male_only']= male['Male']\n",
        "#X.head()\n",
        "smoker= pd.get_dummies(X['smoker'])\n",
        "#smoker\n",
        "X['smoker_yes']= smoker['Yes']\n",
        "#X.head()\n",
        "dinner = pd.get_dummies(X['time'])\n",
        "dinner\n",
        "X['dinner_yes']= dinner['Dinner']\n",
        "#X.head()\n",
        "X=X.drop(['sex', 'smoker', 'time'], axis=1)\n",
        "X.head()"
      ],
      "metadata": {
        "colab": {
          "base_uri": "https://localhost:8080/",
          "height": 317
        },
        "id": "5Mpc_FkktO2S",
        "outputId": "f9fcdd8a-8377-428f-dc20-3c4969fae8f1"
      },
      "execution_count": 33,
      "outputs": [
        {
          "output_type": "stream",
          "name": "stderr",
          "text": [
            "/usr/local/lib/python3.7/dist-packages/ipykernel_launcher.py:7: SettingWithCopyWarning: \n",
            "A value is trying to be set on a copy of a slice from a DataFrame.\n",
            "Try using .loc[row_indexer,col_indexer] = value instead\n",
            "\n",
            "See the caveats in the documentation: https://pandas.pydata.org/pandas-docs/stable/user_guide/indexing.html#returning-a-view-versus-a-copy\n",
            "  import sys\n"
          ]
        },
        {
          "output_type": "execute_result",
          "data": {
            "text/plain": [
              "   total_bill  size  male_only  smoker_yes  dinner_yes\n",
              "1       16.99     2          0           0           1\n",
              "2       10.34     3          1           0           1\n",
              "3       21.01     3          1           0           1\n",
              "4       23.68     2          1           0           1\n",
              "5       24.59     4          0           0           1"
            ],
            "text/html": [
              "\n",
              "  <div id=\"df-690d600a-597c-4539-a5bc-4451b5d3519e\">\n",
              "    <div class=\"colab-df-container\">\n",
              "      <div>\n",
              "<style scoped>\n",
              "    .dataframe tbody tr th:only-of-type {\n",
              "        vertical-align: middle;\n",
              "    }\n",
              "\n",
              "    .dataframe tbody tr th {\n",
              "        vertical-align: top;\n",
              "    }\n",
              "\n",
              "    .dataframe thead th {\n",
              "        text-align: right;\n",
              "    }\n",
              "</style>\n",
              "<table border=\"1\" class=\"dataframe\">\n",
              "  <thead>\n",
              "    <tr style=\"text-align: right;\">\n",
              "      <th></th>\n",
              "      <th>total_bill</th>\n",
              "      <th>size</th>\n",
              "      <th>male_only</th>\n",
              "      <th>smoker_yes</th>\n",
              "      <th>dinner_yes</th>\n",
              "    </tr>\n",
              "  </thead>\n",
              "  <tbody>\n",
              "    <tr>\n",
              "      <th>1</th>\n",
              "      <td>16.99</td>\n",
              "      <td>2</td>\n",
              "      <td>0</td>\n",
              "      <td>0</td>\n",
              "      <td>1</td>\n",
              "    </tr>\n",
              "    <tr>\n",
              "      <th>2</th>\n",
              "      <td>10.34</td>\n",
              "      <td>3</td>\n",
              "      <td>1</td>\n",
              "      <td>0</td>\n",
              "      <td>1</td>\n",
              "    </tr>\n",
              "    <tr>\n",
              "      <th>3</th>\n",
              "      <td>21.01</td>\n",
              "      <td>3</td>\n",
              "      <td>1</td>\n",
              "      <td>0</td>\n",
              "      <td>1</td>\n",
              "    </tr>\n",
              "    <tr>\n",
              "      <th>4</th>\n",
              "      <td>23.68</td>\n",
              "      <td>2</td>\n",
              "      <td>1</td>\n",
              "      <td>0</td>\n",
              "      <td>1</td>\n",
              "    </tr>\n",
              "    <tr>\n",
              "      <th>5</th>\n",
              "      <td>24.59</td>\n",
              "      <td>4</td>\n",
              "      <td>0</td>\n",
              "      <td>0</td>\n",
              "      <td>1</td>\n",
              "    </tr>\n",
              "  </tbody>\n",
              "</table>\n",
              "</div>\n",
              "      <button class=\"colab-df-convert\" onclick=\"convertToInteractive('df-690d600a-597c-4539-a5bc-4451b5d3519e')\"\n",
              "              title=\"Convert this dataframe to an interactive table.\"\n",
              "              style=\"display:none;\">\n",
              "        \n",
              "  <svg xmlns=\"http://www.w3.org/2000/svg\" height=\"24px\"viewBox=\"0 0 24 24\"\n",
              "       width=\"24px\">\n",
              "    <path d=\"M0 0h24v24H0V0z\" fill=\"none\"/>\n",
              "    <path d=\"M18.56 5.44l.94 2.06.94-2.06 2.06-.94-2.06-.94-.94-2.06-.94 2.06-2.06.94zm-11 1L8.5 8.5l.94-2.06 2.06-.94-2.06-.94L8.5 2.5l-.94 2.06-2.06.94zm10 10l.94 2.06.94-2.06 2.06-.94-2.06-.94-.94-2.06-.94 2.06-2.06.94z\"/><path d=\"M17.41 7.96l-1.37-1.37c-.4-.4-.92-.59-1.43-.59-.52 0-1.04.2-1.43.59L10.3 9.45l-7.72 7.72c-.78.78-.78 2.05 0 2.83L4 21.41c.39.39.9.59 1.41.59.51 0 1.02-.2 1.41-.59l7.78-7.78 2.81-2.81c.8-.78.8-2.07 0-2.86zM5.41 20L4 18.59l7.72-7.72 1.47 1.35L5.41 20z\"/>\n",
              "  </svg>\n",
              "      </button>\n",
              "      \n",
              "  <style>\n",
              "    .colab-df-container {\n",
              "      display:flex;\n",
              "      flex-wrap:wrap;\n",
              "      gap: 12px;\n",
              "    }\n",
              "\n",
              "    .colab-df-convert {\n",
              "      background-color: #E8F0FE;\n",
              "      border: none;\n",
              "      border-radius: 50%;\n",
              "      cursor: pointer;\n",
              "      display: none;\n",
              "      fill: #1967D2;\n",
              "      height: 32px;\n",
              "      padding: 0 0 0 0;\n",
              "      width: 32px;\n",
              "    }\n",
              "\n",
              "    .colab-df-convert:hover {\n",
              "      background-color: #E2EBFA;\n",
              "      box-shadow: 0px 1px 2px rgba(60, 64, 67, 0.3), 0px 1px 3px 1px rgba(60, 64, 67, 0.15);\n",
              "      fill: #174EA6;\n",
              "    }\n",
              "\n",
              "    [theme=dark] .colab-df-convert {\n",
              "      background-color: #3B4455;\n",
              "      fill: #D2E3FC;\n",
              "    }\n",
              "\n",
              "    [theme=dark] .colab-df-convert:hover {\n",
              "      background-color: #434B5C;\n",
              "      box-shadow: 0px 1px 3px 1px rgba(0, 0, 0, 0.15);\n",
              "      filter: drop-shadow(0px 1px 2px rgba(0, 0, 0, 0.3));\n",
              "      fill: #FFFFFF;\n",
              "    }\n",
              "  </style>\n",
              "\n",
              "      <script>\n",
              "        const buttonEl =\n",
              "          document.querySelector('#df-690d600a-597c-4539-a5bc-4451b5d3519e button.colab-df-convert');\n",
              "        buttonEl.style.display =\n",
              "          google.colab.kernel.accessAllowed ? 'block' : 'none';\n",
              "\n",
              "        async function convertToInteractive(key) {\n",
              "          const element = document.querySelector('#df-690d600a-597c-4539-a5bc-4451b5d3519e');\n",
              "          const dataTable =\n",
              "            await google.colab.kernel.invokeFunction('convertToInteractive',\n",
              "                                                     [key], {});\n",
              "          if (!dataTable) return;\n",
              "\n",
              "          const docLinkHtml = 'Like what you see? Visit the ' +\n",
              "            '<a target=\"_blank\" href=https://colab.research.google.com/notebooks/data_table.ipynb>data table notebook</a>'\n",
              "            + ' to learn more about interactive tables.';\n",
              "          element.innerHTML = '';\n",
              "          dataTable['output_type'] = 'display_data';\n",
              "          await google.colab.output.renderOutput(dataTable, element);\n",
              "          const docLink = document.createElement('div');\n",
              "          docLink.innerHTML = docLinkHtml;\n",
              "          element.appendChild(docLink);\n",
              "        }\n",
              "      </script>\n",
              "    </div>\n",
              "  </div>\n",
              "  "
            ]
          },
          "metadata": {},
          "execution_count": 33
        }
      ]
    },
    {
      "cell_type": "markdown",
      "source": [
        "Note: (Verify later)\n",
        "\n",
        "Arguments to ransac shd be dataframe i.e., pandas.core.frame.DataFrame not pandas.core.series.Series\n",
        "\n",
        "Hence, it shd be X[['xx']] but not X['xx].\n",
        "\n",
        "                              OR\n",
        "\n",
        "Arguments to ransac shd be 2-d array. Hence, it shd be X[['xx']] but not X['xx]."
      ],
      "metadata": {
        "id": "jSNo0slXzHVE"
      }
    },
    {
      "cell_type": "code",
      "source": [
        "ransac= RANSACRegressor(LinearRegression(), residual_threshold=2, random_state=0)\n",
        "ransac.fit(X[['total_bill']],y) \n",
        "prediction = ransac.predict(X[['total_bill']])\n",
        "#X['total_bill'].head()\n",
        "#type(X['total_bill'])\n",
        "#print(\"************\")\n",
        "#X[['total_bill']].head()\n",
        "#type(X[['total_bill']])\n",
        "\n",
        "print(\"R2:\", r2_score(y,prediction))\n",
        "print(\"MAE:\", mean_absolute_error(y,prediction))"
      ],
      "metadata": {
        "colab": {
          "base_uri": "https://localhost:8080/"
        },
        "id": "4FAVQ3g8sbxT",
        "outputId": "105a81a4-d0fd-4e69-af3c-7aa9c9e536de"
      },
      "execution_count": 44,
      "outputs": [
        {
          "output_type": "stream",
          "name": "stdout",
          "text": [
            "R2: 0.4381748268686979\n",
            "MAE: 0.7552429811944833\n"
          ]
        }
      ]
    },
    {
      "cell_type": "code",
      "source": [
        "inliers = ransac.inlier_mask_\n",
        "outliers= np.logical_not(inliers)\n",
        "line_X = np.arange(3,51,2)\n",
        "#line_X\n",
        "#line_X[:, np.newaxis]\n",
        "#type(line_X)\n",
        "line_y = ransac.predict(line_X[:, np.newaxis])\n",
        "#line_y\n",
        "#type(line_y)"
      ],
      "metadata": {
        "colab": {
          "base_uri": "https://localhost:8080/"
        },
        "id": "hokM7p8HyptM",
        "outputId": "528ff58e-3c10-44c9-c401-ecf565f960f5"
      },
      "execution_count": 54,
      "outputs": [
        {
          "output_type": "stream",
          "name": "stderr",
          "text": [
            "/usr/local/lib/python3.7/dist-packages/sklearn/base.py:451: UserWarning: X does not have valid feature names, but RANSACRegressor was fitted with feature names\n",
            "  \"X does not have valid feature names, but\"\n"
          ]
        },
        {
          "output_type": "execute_result",
          "data": {
            "text/plain": [
              "numpy.ndarray"
            ]
          },
          "metadata": {},
          "execution_count": 54
        }
      ]
    },
    {
      "cell_type": "code",
      "source": [
        "plt.scatter(X[['total_bill']][inliers], y[inliers], label= 'Inliers', c='lightblue')\n",
        "plt.scatter(X[['total_bill']][outliers], y[outliers], label= 'Outliers', c='red')\n",
        "plt.plot(line_X, line_y, c='black')\n",
        "plt.xlabel('Total Bill')\n",
        "plt.ylabel('Tip')\n",
        "plt.legend(loc='upper left')"
      ],
      "metadata": {
        "colab": {
          "base_uri": "https://localhost:8080/",
          "height": 297
        },
        "id": "KkEpGdix2k_0",
        "outputId": "bce9ba97-86de-4c59-df6d-6c5fdccc3bfb"
      },
      "execution_count": 62,
      "outputs": [
        {
          "output_type": "execute_result",
          "data": {
            "text/plain": [
              "<matplotlib.legend.Legend at 0x7f9ba4697350>"
            ]
          },
          "metadata": {},
          "execution_count": 62
        },
        {
          "output_type": "display_data",
          "data": {
            "text/plain": [
              "<Figure size 432x288 with 1 Axes>"
            ],
            "image/png": "[encoded data removed]"
          },
          "metadata": {
            "needs_background": "light"
          }
        }
      ]
    },
    {
      "cell_type": "markdown",
      "source": [
        "**Multi variable Regression Model**"
      ],
      "metadata": {
        "id": "XoPMBqhK5a8y"
      }
    },
    {
      "cell_type": "code",
      "source": [
        "ransac_multi= RANSACRegressor(LinearRegression(), residual_threshold=2, random_state=0)\n",
        "ransac_multi.fit(X,y) \n",
        "prediction_multi = ransac_multi.predict(X)\n",
        "\n",
        "print(\"R2:\", r2_score(y,prediction_multi))\n",
        "print(\"MAE:\", mean_absolute_error(y,prediction_multi))"
      ],
      "metadata": {
        "colab": {
          "base_uri": "https://localhost:8080/"
        },
        "id": "QSIBXS_55w_R",
        "outputId": "06a36bdd-d8d9-465b-aea7-89d65b538229"
      },
      "execution_count": 63,
      "outputs": [
        {
          "output_type": "stream",
          "name": "stdout",
          "text": [
            "R2: 0.4298703800652125\n",
            "MAE: 0.7649733201032204\n"
          ]
        }
      ]
    },
    {
      "cell_type": "markdown",
      "source": [
        "**Note:** here, predicted value is used for visualization given the plot in 2-D"
      ],
      "metadata": {
        "id": "eQ1EiCll6yyd"
      }
    },
    {
      "cell_type": "code",
      "source": [
        "inliers = ransac_multi.inlier_mask_\n",
        "outliers= np.logical_not(inliers)\n",
        "line_X= np.arange(1,8,1)\n",
        "#print(line_X)\n",
        "#line_y = ransac.predict(line_X[:, np.newaxis])\n",
        "line_y = line_X[:, np.newaxis]\n",
        "#line_y\n",
        "plt.scatter(prediction_multi[inliers], y[inliers], c='lightblue', label='Inliers')\n",
        "plt.scatter(prediction_multi[outliers], y[outliers], c='red', label='Outliers')\n",
        "plt.plot(line_X, line_y, c='black')\n",
        "plt.xlabel('Predicted Tip')\n",
        "plt.ylabel('Actual Tip')\n",
        "plt.legend(loc=\"upper left\")"
      ],
      "metadata": {
        "colab": {
          "base_uri": "https://localhost:8080/",
          "height": 297
        },
        "id": "gPEJBoPn5qlL",
        "outputId": "841218d7-1922-4ca3-fc13-95539393741f"
      },
      "execution_count": 71,
      "outputs": [
        {
          "output_type": "execute_result",
          "data": {
            "text/plain": [
              "<matplotlib.legend.Legend at 0x7f9ba47d4990>"
            ]
          },
          "metadata": {},
          "execution_count": 71
        },
        {
          "output_type": "display_data",
          "data": {
            "text/plain": [
              "<Figure size 432x288 with 1 Axes>"
            ],
            "image/png": "[encoded data removed]"
          },
          "metadata": {
            "needs_background": "light"
          }
        }
      ]
    }
  ]
}