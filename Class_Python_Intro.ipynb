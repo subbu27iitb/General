{
  "nbformat": 4,
  "nbformat_minor": 0,
  "metadata": {
    "colab": {
      "provenance": [],
      "authorship_tag": "ABX9TyMZwX2rFVNUbfIZey+defDM",
      "include_colab_link": true
    },
    "kernelspec": {
      "name": "python3",
      "display_name": "Python 3"
    },
    "language_info": {
      "name": "python"
    }
  },
  "cells": [
    {
      "cell_type": "markdown",
      "metadata": {
        "id": "view-in-github",
        "colab_type": "text"
      },
      "source": [
        "<a href=\"https://colab.research.google.com/github/subbu27iitb/General/blob/main/Class_Python_Intro.ipynb\" target=\"_parent\"><img src=\"https://colab.research.google.com/assets/colab-badge.svg\" alt=\"Open In Colab\"/></a>"
      ]
    },
    {
      "cell_type": "markdown",
      "source": [
        "Reference: https://www.youtube.com/watch?v=ZDa-Z5JzLYM\n",
        "\n",
        "https://github.com/CoreyMSchafer/code_snippets/blob/master/Object-Oriented/3-Class-Static-Methods/oop.py"
      ],
      "metadata": {
        "id": "Cm6ydmbxHcG1"
      }
    },
    {
      "cell_type": "markdown",
      "source": [
        "**1. CLASEES & INSTANCES**"
      ],
      "metadata": {
        "id": "e7bv1DPRHkN1"
      }
    },
    {
      "cell_type": "code",
      "execution_count": 1,
      "metadata": {
        "colab": {
          "base_uri": "https://localhost:8080/"
        },
        "id": "jXT-hkMdDB1Z",
        "outputId": "2408eaaf-a71e-47ba-e941-1173366a2747"
      },
      "outputs": [
        {
          "output_type": "stream",
          "name": "stdout",
          "text": [
            "Corey.Schafer@email.com\n"
          ]
        }
      ],
      "source": [
        "class Employee:\n",
        "\n",
        "    def __init__(self, first, last, pay):\n",
        "        self.first = first\n",
        "        self.last = last\n",
        "        self.email = first + '.' + last + '@email.com'\n",
        "        self.pay = pay\n",
        "\n",
        "    def fullname(self):\n",
        "        return '{} {}'.format(self.first, self.last)\n",
        "\n",
        "emp_1 = Employee('Corey', 'Schafer', 50000)\n",
        "emp_2 = Employee('Test', 'Employee', 60000)\n",
        "\n",
        "print(emp_1.email)"
      ]
    },
    {
      "cell_type": "code",
      "source": [
        "class Employee:\n",
        "\n",
        "    def __init__(self, one, two, three):\n",
        "        self.one = one\n",
        "        self.two = two\n",
        "        self.email = one + '.' + two + '@email.com'\n",
        "        self.three = three\n",
        "\n",
        "    def fullname(self):\n",
        "        return '{} {}'.format(self.first, self.last)\n",
        "\n",
        "emp_1 = Employee('Corey', 'Schafer', 50000)\n",
        "emp_2 = Employee('Test', 'Employee', 60000)\n",
        "\n",
        "print(emp_1.email)\n",
        "print(emp_2.email)\n",
        "print(emp_1.fullname())\n",
        "print(emp_2.fullname())"
      ],
      "metadata": {
        "colab": {
          "base_uri": "https://localhost:8080/",
          "height": 373
        },
        "id": "--FFvSHjDWQ8",
        "outputId": "bed5fc8c-566e-4aa8-f997-a149f1be2790"
      },
      "execution_count": 11,
      "outputs": [
        {
          "output_type": "stream",
          "name": "stdout",
          "text": [
            "Corey.Schafer@email.com\n",
            "Test.Employee@email.com\n"
          ]
        },
        {
          "output_type": "error",
          "ename": "AttributeError",
          "evalue": "ignored",
          "traceback": [
            "\u001b[0;31m---------------------------------------------------------------------------\u001b[0m",
            "\u001b[0;31mAttributeError\u001b[0m                            Traceback (most recent call last)",
            "\u001b[0;32m<ipython-input-11-c0f1d0003175>\u001b[0m in \u001b[0;36m<cell line: 17>\u001b[0;34m()\u001b[0m\n\u001b[1;32m     15\u001b[0m \u001b[0mprint\u001b[0m\u001b[0;34m(\u001b[0m\u001b[0memp_1\u001b[0m\u001b[0;34m.\u001b[0m\u001b[0memail\u001b[0m\u001b[0;34m)\u001b[0m\u001b[0;34m\u001b[0m\u001b[0;34m\u001b[0m\u001b[0m\n\u001b[1;32m     16\u001b[0m \u001b[0mprint\u001b[0m\u001b[0;34m(\u001b[0m\u001b[0memp_2\u001b[0m\u001b[0;34m.\u001b[0m\u001b[0memail\u001b[0m\u001b[0;34m)\u001b[0m\u001b[0;34m\u001b[0m\u001b[0;34m\u001b[0m\u001b[0m\n\u001b[0;32m---> 17\u001b[0;31m \u001b[0mprint\u001b[0m\u001b[0;34m(\u001b[0m\u001b[0memp_1\u001b[0m\u001b[0;34m.\u001b[0m\u001b[0mfullname\u001b[0m\u001b[0;34m(\u001b[0m\u001b[0;34m)\u001b[0m\u001b[0;34m)\u001b[0m\u001b[0;34m\u001b[0m\u001b[0;34m\u001b[0m\u001b[0m\n\u001b[0m\u001b[1;32m     18\u001b[0m \u001b[0mprint\u001b[0m\u001b[0;34m(\u001b[0m\u001b[0memp_2\u001b[0m\u001b[0;34m.\u001b[0m\u001b[0mfullname\u001b[0m\u001b[0;34m(\u001b[0m\u001b[0;34m)\u001b[0m\u001b[0;34m)\u001b[0m\u001b[0;34m\u001b[0m\u001b[0;34m\u001b[0m\u001b[0m\n",
            "\u001b[0;32m<ipython-input-11-c0f1d0003175>\u001b[0m in \u001b[0;36mfullname\u001b[0;34m(self)\u001b[0m\n\u001b[1;32m      8\u001b[0m \u001b[0;34m\u001b[0m\u001b[0m\n\u001b[1;32m      9\u001b[0m     \u001b[0;32mdef\u001b[0m \u001b[0mfullname\u001b[0m\u001b[0;34m(\u001b[0m\u001b[0mself\u001b[0m\u001b[0;34m)\u001b[0m\u001b[0;34m:\u001b[0m\u001b[0;34m\u001b[0m\u001b[0;34m\u001b[0m\u001b[0m\n\u001b[0;32m---> 10\u001b[0;31m         \u001b[0;32mreturn\u001b[0m \u001b[0;34m'{} {}'\u001b[0m\u001b[0;34m.\u001b[0m\u001b[0mformat\u001b[0m\u001b[0;34m(\u001b[0m\u001b[0mself\u001b[0m\u001b[0;34m.\u001b[0m\u001b[0mfirst\u001b[0m\u001b[0;34m,\u001b[0m \u001b[0mself\u001b[0m\u001b[0;34m.\u001b[0m\u001b[0mlast\u001b[0m\u001b[0;34m)\u001b[0m\u001b[0;34m\u001b[0m\u001b[0;34m\u001b[0m\u001b[0m\n\u001b[0m\u001b[1;32m     11\u001b[0m \u001b[0;34m\u001b[0m\u001b[0m\n\u001b[1;32m     12\u001b[0m \u001b[0memp_1\u001b[0m \u001b[0;34m=\u001b[0m \u001b[0mEmployee\u001b[0m\u001b[0;34m(\u001b[0m\u001b[0;34m'Corey'\u001b[0m\u001b[0;34m,\u001b[0m \u001b[0;34m'Schafer'\u001b[0m\u001b[0;34m,\u001b[0m \u001b[0;36m50000\u001b[0m\u001b[0;34m)\u001b[0m\u001b[0;34m\u001b[0m\u001b[0;34m\u001b[0m\u001b[0m\n",
            "\u001b[0;31mAttributeError\u001b[0m: 'Employee' object has no attribute 'first'"
          ]
        }
      ]
    },
    {
      "cell_type": "code",
      "source": [
        "class Employee:\n",
        "\n",
        "    def __init__(self, one, two, three):\n",
        "        self.one = one\n",
        "        self.two = two\n",
        "        self.email = one + '.' + two + '@email.com'\n",
        "        self.three = three\n",
        "\n",
        "    def fullname(self, first, last, pay):\n",
        "      self.first = first\n",
        "      self.last = last\n",
        "      self.pay = pay\n",
        "      return '{} {}'.format(self.first, self.last)\n",
        "\n",
        "emp_1 = Employee('Corey', 'Schafer', 50000)\n",
        "emp_2 = Employee('Test', 'Employee', 60000)\n",
        "\n",
        "print(emp_1.email)\n",
        "print(emp_1.fullname())\n",
        "print(emp_2.email)\n",
        "print(emp_2.fullname())"
      ],
      "metadata": {
        "colab": {
          "base_uri": "https://localhost:8080/",
          "height": 252
        },
        "id": "Zh4dZ9HtEw0B",
        "outputId": "9a389081-5fdf-4a1c-de3a-47111bde3505"
      },
      "execution_count": 10,
      "outputs": [
        {
          "output_type": "stream",
          "name": "stdout",
          "text": [
            "Corey.Schafer@email.com\n"
          ]
        },
        {
          "output_type": "error",
          "ename": "TypeError",
          "evalue": "ignored",
          "traceback": [
            "\u001b[0;31m---------------------------------------------------------------------------\u001b[0m",
            "\u001b[0;31mTypeError\u001b[0m                                 Traceback (most recent call last)",
            "\u001b[0;32m<ipython-input-10-cceea8915ae5>\u001b[0m in \u001b[0;36m<cell line: 19>\u001b[0;34m()\u001b[0m\n\u001b[1;32m     17\u001b[0m \u001b[0;34m\u001b[0m\u001b[0m\n\u001b[1;32m     18\u001b[0m \u001b[0mprint\u001b[0m\u001b[0;34m(\u001b[0m\u001b[0memp_1\u001b[0m\u001b[0;34m.\u001b[0m\u001b[0memail\u001b[0m\u001b[0;34m)\u001b[0m\u001b[0;34m\u001b[0m\u001b[0;34m\u001b[0m\u001b[0m\n\u001b[0;32m---> 19\u001b[0;31m \u001b[0mprint\u001b[0m\u001b[0;34m(\u001b[0m\u001b[0memp_1\u001b[0m\u001b[0;34m.\u001b[0m\u001b[0mfullname\u001b[0m\u001b[0;34m(\u001b[0m\u001b[0;34m)\u001b[0m\u001b[0;34m)\u001b[0m\u001b[0;34m\u001b[0m\u001b[0;34m\u001b[0m\u001b[0m\n\u001b[0m\u001b[1;32m     20\u001b[0m \u001b[0mprint\u001b[0m\u001b[0;34m(\u001b[0m\u001b[0memp_2\u001b[0m\u001b[0;34m.\u001b[0m\u001b[0memail\u001b[0m\u001b[0;34m)\u001b[0m\u001b[0;34m\u001b[0m\u001b[0;34m\u001b[0m\u001b[0m\n\u001b[1;32m     21\u001b[0m \u001b[0mprint\u001b[0m\u001b[0;34m(\u001b[0m\u001b[0memp_2\u001b[0m\u001b[0;34m.\u001b[0m\u001b[0mfullname\u001b[0m\u001b[0;34m(\u001b[0m\u001b[0;34m)\u001b[0m\u001b[0;34m)\u001b[0m\u001b[0;34m\u001b[0m\u001b[0;34m\u001b[0m\u001b[0m\n",
            "\u001b[0;31mTypeError\u001b[0m: Employee.fullname() missing 3 required positional arguments: 'first', 'last', and 'pay'"
          ]
        }
      ]
    },
    {
      "cell_type": "code",
      "source": [
        "class Employee:\n",
        "\n",
        "    def __init__(self, one, two, three):\n",
        "        self.one = one\n",
        "        self.two = two\n",
        "        self.email = one + '.' + two + '@email.com'\n",
        "        self.three = three\n",
        "\n",
        "    def fullname(self, one, two, three):\n",
        "      self.one = one\n",
        "      self.two = two\n",
        "      self.three = three\n",
        "      return '{} {}'.format(self.one, self.two)\n",
        "\n",
        "emp_1 = Employee('Corey', 'Schafer', 50000)\n",
        "emp_2 = Employee('Test', 'Employee', 60000)\n",
        "\n",
        "print(emp_1.email)\n",
        "print(emp_1.fullname())\n",
        "print(emp_2.email)\n",
        "print(emp_2.fullname())"
      ],
      "metadata": {
        "colab": {
          "base_uri": "https://localhost:8080/",
          "height": 252
        },
        "id": "kJFtWTn5F4ne",
        "outputId": "af49b45b-68e0-4e9a-913e-fe32ad24c750"
      },
      "execution_count": 12,
      "outputs": [
        {
          "output_type": "stream",
          "name": "stdout",
          "text": [
            "Corey.Schafer@email.com\n"
          ]
        },
        {
          "output_type": "error",
          "ename": "TypeError",
          "evalue": "ignored",
          "traceback": [
            "\u001b[0;31m---------------------------------------------------------------------------\u001b[0m",
            "\u001b[0;31mTypeError\u001b[0m                                 Traceback (most recent call last)",
            "\u001b[0;32m<ipython-input-12-ee37832b30eb>\u001b[0m in \u001b[0;36m<cell line: 19>\u001b[0;34m()\u001b[0m\n\u001b[1;32m     17\u001b[0m \u001b[0;34m\u001b[0m\u001b[0m\n\u001b[1;32m     18\u001b[0m \u001b[0mprint\u001b[0m\u001b[0;34m(\u001b[0m\u001b[0memp_1\u001b[0m\u001b[0;34m.\u001b[0m\u001b[0memail\u001b[0m\u001b[0;34m)\u001b[0m\u001b[0;34m\u001b[0m\u001b[0;34m\u001b[0m\u001b[0m\n\u001b[0;32m---> 19\u001b[0;31m \u001b[0mprint\u001b[0m\u001b[0;34m(\u001b[0m\u001b[0memp_1\u001b[0m\u001b[0;34m.\u001b[0m\u001b[0mfullname\u001b[0m\u001b[0;34m(\u001b[0m\u001b[0;34m)\u001b[0m\u001b[0;34m)\u001b[0m\u001b[0;34m\u001b[0m\u001b[0;34m\u001b[0m\u001b[0m\n\u001b[0m\u001b[1;32m     20\u001b[0m \u001b[0mprint\u001b[0m\u001b[0;34m(\u001b[0m\u001b[0memp_2\u001b[0m\u001b[0;34m.\u001b[0m\u001b[0memail\u001b[0m\u001b[0;34m)\u001b[0m\u001b[0;34m\u001b[0m\u001b[0;34m\u001b[0m\u001b[0m\n\u001b[1;32m     21\u001b[0m \u001b[0mprint\u001b[0m\u001b[0;34m(\u001b[0m\u001b[0memp_2\u001b[0m\u001b[0;34m.\u001b[0m\u001b[0mfullname\u001b[0m\u001b[0;34m(\u001b[0m\u001b[0;34m)\u001b[0m\u001b[0;34m)\u001b[0m\u001b[0;34m\u001b[0m\u001b[0;34m\u001b[0m\u001b[0m\n",
            "\u001b[0;31mTypeError\u001b[0m: Employee.fullname() missing 3 required positional arguments: 'one', 'two', and 'three'"
          ]
        }
      ]
    },
    {
      "cell_type": "code",
      "source": [
        "class Employee:\n",
        "\n",
        "    def __init__(self, one, two, three):\n",
        "        self.one = one\n",
        "        self.two = two\n",
        "        self.email = one + '.' + two + '@email.com'\n",
        "        self.three = three\n",
        "\n",
        "    def fullname(self):\n",
        "      return '{} {}'.format(self.one, self.two)\n",
        "\n",
        "emp_1 = Employee('Corey', 'Schafer', 50000)\n",
        "emp_2 = Employee('Test', 'Employee', 60000)\n",
        "\n",
        "print(emp_1.email)\n",
        "print(emp_1.fullname())\n",
        "print(Employee.fullname(emp_1))\n",
        "print(emp_2.email)\n",
        "print(emp_2.fullname())\n",
        "print(Employee.fullname(emp_2))"
      ],
      "metadata": {
        "colab": {
          "base_uri": "https://localhost:8080/"
        },
        "id": "Xhf-fgfbGf8d",
        "outputId": "51926048-ce7a-43e7-c257-0f76ced479b2"
      },
      "execution_count": 30,
      "outputs": [
        {
          "output_type": "stream",
          "name": "stdout",
          "text": [
            "Corey.Schafer@email.com\n",
            "Corey Schafer\n",
            "Corey Schafer\n",
            "Test.Employee@email.com\n",
            "Test Employee\n",
            "Test Employee\n"
          ]
        }
      ]
    },
    {
      "cell_type": "markdown",
      "source": [
        "Reference: https://www.youtube.com/watch?v=BJ-VvGyQxho\n",
        "\n",
        "**2. Class Variables**"
      ],
      "metadata": {
        "id": "fty_0EEINg59"
      }
    },
    {
      "cell_type": "code",
      "source": [
        "class Employee:\n",
        "\n",
        "    raise_amt = 1.04\n",
        "\n",
        "    def __init__(self, first, last, pay):\n",
        "        self.first = first\n",
        "        self.last = last\n",
        "        self.email = first + '.' + last + '@email.com'\n",
        "        self.pay = pay\n",
        "\n",
        "\n",
        "    def fullname(self):\n",
        "        return '{} {}'.format(self.first, self.last)\n",
        "\n",
        "    def apply_raise(self):\n",
        "        self.pay = int(self.pay * self.raise_amt)\n",
        "        return self.pay\n",
        "\n",
        "emp_1 = Employee('Corey', 'Schafer', 50000)\n",
        "emp_2 = Employee('Test', 'Employee', 60000)\n",
        "\n",
        "\n",
        "print(Employee.raise_amt)\n",
        "print(emp_1.__dict__)\n",
        "print(\"emp_1 raise amount: \",emp_1.raise_amt)\n",
        "print(\"emp_1 pay: \", emp_1.pay)\n",
        "print(\"emp_1 pay aft raise: \", emp_1.apply_raise())\n",
        "print(emp_2.__dict__)\n",
        "print(\"emp_2 raise amount: \",emp_2.raise_amt)\n",
        "print(\"emp_2 pay: \", emp_2.pay)\n",
        "print(\"emp_2 pay aft raise: \", emp_2.apply_raise())"
      ],
      "metadata": {
        "colab": {
          "base_uri": "https://localhost:8080/"
        },
        "id": "4s0gt8GWNs9N",
        "outputId": "75ad9863-abe1-4a3b-c90b-752b6fbf4d3d"
      },
      "execution_count": 34,
      "outputs": [
        {
          "output_type": "stream",
          "name": "stdout",
          "text": [
            "1.04\n",
            "{'first': 'Corey', 'last': 'Schafer', 'email': 'Corey.Schafer@email.com', 'pay': 50000}\n",
            "emp_1 raise amount:  1.04\n",
            "emp_1 pay:  50000\n",
            "emp_1 pay aft raise:  52000\n",
            "{'first': 'Test', 'last': 'Employee', 'email': 'Test.Employee@email.com', 'pay': 60000}\n",
            "emp_2 raise amount:  1.04\n",
            "emp_2 pay:  60000\n",
            "emp_2 pay aft raise:  62400\n"
          ]
        }
      ]
    },
    {
      "cell_type": "code",
      "source": [
        "class Employee:\n",
        "\n",
        "    raise_amt = 1.04\n",
        "\n",
        "    def __init__(self, first, last, pay):\n",
        "        self.first = first\n",
        "        self.last = last\n",
        "        self.email = first + '.' + last + '@email.com'\n",
        "        self.pay = pay\n",
        "\n",
        "    def fullname(self):\n",
        "        return '{} {}'.format(self.first, self.last)\n",
        "\n",
        "    def apply_raise(self):\n",
        "        self.pay = int(self.pay * self.raise_amt)\n",
        "        return self.pay\n",
        "\n",
        "emp_1 = Employee('Corey', 'Schafer', 50000)\n",
        "emp_2 = Employee('Test', 'Employee', 60000)\n",
        "\n",
        "Employee.raise_amt = 1.05\n",
        "\n",
        "print(Employee.raise_amt)\n",
        "print(emp_1.__dict__)\n",
        "print(emp_2.__dict__)\n",
        "print(\"emp_1 raise amount: \",emp_1.raise_amt)\n",
        "print(\"emp_2 raise amount: \",emp_2.raise_amt)\n",
        "print(\"*************************\")\n",
        "print(\"emp_1 pay: \", emp_1.pay)\n",
        "print(\"emp_1 pay aft raise: \", emp_1.apply_raise())\n",
        "print(\"emp_2 pay: \", emp_2.pay)\n",
        "print(\"emp_2 pay aft raise: \", emp_2.apply_raise())"
      ],
      "metadata": {
        "colab": {
          "base_uri": "https://localhost:8080/"
        },
        "id": "ASAMxJXiO6Ge",
        "outputId": "541b35ae-8fc9-4f8c-b1fc-fbedc59b797b"
      },
      "execution_count": 35,
      "outputs": [
        {
          "output_type": "stream",
          "name": "stdout",
          "text": [
            "1.05\n",
            "{'first': 'Corey', 'last': 'Schafer', 'email': 'Corey.Schafer@email.com', 'pay': 50000}\n",
            "{'first': 'Test', 'last': 'Employee', 'email': 'Test.Employee@email.com', 'pay': 60000}\n",
            "emp_1 raise amount:  1.05\n",
            "emp_2 raise amount:  1.05\n",
            "*************************\n",
            "emp_1 pay:  50000\n",
            "emp_1 pay aft raise:  52500\n",
            "emp_2 pay:  60000\n",
            "emp_2 pay aft raise:  63000\n"
          ]
        }
      ]
    },
    {
      "cell_type": "code",
      "source": [
        "class Employee:\n",
        "\n",
        "    raise_amt = 1.04\n",
        "\n",
        "    def __init__(self, first, last, pay):\n",
        "        self.first = first\n",
        "        self.last = last\n",
        "        self.email = first + '.' + last + '@email.com'\n",
        "        self.pay = pay\n",
        "\n",
        "    def fullname(self):\n",
        "        return '{} {}'.format(self.first, self.last)\n",
        "\n",
        "    def apply_raise(self):\n",
        "        self.pay = int(self.pay * self.raise_amt)\n",
        "        return self.pay\n",
        "\n",
        "emp_1 = Employee('Corey', 'Schafer', 50000)\n",
        "emp_2 = Employee('Test', 'Employee', 60000)\n",
        "\n",
        "emp_1.raise_amt = 1.05\n",
        "\n",
        "print(Employee.raise_amt)\n",
        "print(emp_1.__dict__)\n",
        "print(emp_2.__dict__)\n",
        "print(\"emp_1 raise amount: \",emp_1.raise_amt)\n",
        "print(\"emp_2 raise amount: \",emp_2.raise_amt)\n",
        "print(\"*************************\")\n",
        "print(\"emp_1 pay: \", emp_1.pay)\n",
        "print(\"emp_1 pay aft raise: \", emp_1.apply_raise())\n",
        "print(\"emp_2 pay: \", emp_2.pay)\n",
        "print(\"emp_2 pay aft raise: \", emp_2.apply_raise())"
      ],
      "metadata": {
        "colab": {
          "base_uri": "https://localhost:8080/"
        },
        "id": "2YND1A7dQZYW",
        "outputId": "f1b4f75d-ad95-4319-d647-790fd763fba6"
      },
      "execution_count": 36,
      "outputs": [
        {
          "output_type": "stream",
          "name": "stdout",
          "text": [
            "1.04\n",
            "{'first': 'Corey', 'last': 'Schafer', 'email': 'Corey.Schafer@email.com', 'pay': 50000, 'raise_amt': 1.05}\n",
            "{'first': 'Test', 'last': 'Employee', 'email': 'Test.Employee@email.com', 'pay': 60000}\n",
            "emp_1 raise amount:  1.05\n",
            "emp_2 raise amount:  1.04\n",
            "*************************\n",
            "emp_1 pay:  50000\n",
            "emp_1 pay aft raise:  52500\n",
            "emp_2 pay:  60000\n",
            "emp_2 pay aft raise:  62400\n"
          ]
        }
      ]
    }
  ]
}